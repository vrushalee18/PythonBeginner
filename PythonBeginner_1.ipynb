{
  "nbformat": 4,
  "nbformat_minor": 0,
  "metadata": {
    "colab": {
      "provenance": [],
      "authorship_tag": "ABX9TyOaE6sv72bU6jvQHZOhJkF1",
      "include_colab_link": true
    },
    "kernelspec": {
      "name": "python3",
      "display_name": "Python 3"
    },
    "language_info": {
      "name": "python"
    }
  },
  "cells": [
    {
      "cell_type": "markdown",
      "metadata": {
        "id": "view-in-github",
        "colab_type": "text"
      },
      "source": [
        "<a href=\"https://colab.research.google.com/github/vrushalee18/PythonBeginner/blob/main/PythonBeginner_1.ipynb\" target=\"_parent\"><img src=\"https://colab.research.google.com/assets/colab-badge.svg\" alt=\"Open In Colab\"/></a>"
      ]
    },
    {
      "cell_type": "markdown",
      "source": [
        "**If you want to use Jupyter and you don't have it installed on your computer, there are a few places to try:**\n",
        "\n",
        "*Google Colab\n",
        "*Noteable.io\n",
        "*try.jupyter.org -- open a new notebook"
      ],
      "metadata": {
        "id": "BeH0UuhfRmvV"
      }
    },
    {
      "cell_type": "code",
      "execution_count": 1,
      "metadata": {
        "colab": {
          "base_uri": "https://localhost:8080/"
        },
        "id": "yAq0sCZkLxrT",
        "outputId": "6b4a099f-76f9-4d39-9937-e3bb9fed80fe"
      },
      "outputs": [
        {
          "output_type": "stream",
          "name": "stdout",
          "text": [
            "Hello, I am Vrushalee\n"
          ]
        }
      ],
      "source": [
        "print('Hello, I am Vrushalee')"
      ]
    },
    {
      "cell_type": "code",
      "source": [
        "print(3)"
      ],
      "metadata": {
        "colab": {
          "base_uri": "https://localhost:8080/"
        },
        "id": "9-KW1ZnFL9kh",
        "outputId": "325d2857-e8ee-4d15-9f93-7ea2404c6520"
      },
      "execution_count": 2,
      "outputs": [
        {
          "output_type": "stream",
          "name": "stdout",
          "text": [
            "3\n"
          ]
        }
      ]
    },
    {
      "cell_type": "code",
      "source": [
        "print(2+5)"
      ],
      "metadata": {
        "colab": {
          "base_uri": "https://localhost:8080/"
        },
        "id": "IAGIvnuMMQAz",
        "outputId": "53038a38-654c-484e-980b-c1f6ab76f937"
      },
      "execution_count": 3,
      "outputs": [
        {
          "output_type": "stream",
          "name": "stdout",
          "text": [
            "7\n"
          ]
        }
      ]
    },
    {
      "cell_type": "code",
      "source": [
        "print(2-5)"
      ],
      "metadata": {
        "colab": {
          "base_uri": "https://localhost:8080/"
        },
        "id": "hp7U1S6uMZl_",
        "outputId": "77978759-2465-4d7d-f5c3-2f82da3bca0d"
      },
      "execution_count": 4,
      "outputs": [
        {
          "output_type": "stream",
          "name": "stdout",
          "text": [
            "-3\n"
          ]
        }
      ]
    },
    {
      "cell_type": "code",
      "source": [
        "print('Hello, ' + 'Vrushalee')"
      ],
      "metadata": {
        "colab": {
          "base_uri": "https://localhost:8080/"
        },
        "id": "SDPCVpNIMteb",
        "outputId": "2979774e-c240-4a31-ff83-ad365c6f7e09"
      },
      "execution_count": 5,
      "outputs": [
        {
          "output_type": "stream",
          "name": "stdout",
          "text": [
            "Hello, Vrushalee\n"
          ]
        }
      ]
    },
    {
      "cell_type": "code",
      "source": [
        "print('Hello,' + 'Vrushalee')"
      ],
      "metadata": {
        "colab": {
          "base_uri": "https://localhost:8080/"
        },
        "id": "iiPYnddGMygK",
        "outputId": "18de2828-ae83-43a3-eddd-45a205bb937f"
      },
      "execution_count": 6,
      "outputs": [
        {
          "output_type": "stream",
          "name": "stdout",
          "text": [
            "Hello,Vrushalee\n"
          ]
        }
      ]
    },
    {
      "cell_type": "markdown",
      "source": [
        "**NOTE**:\n",
        "\n",
        "In math, = means: The two sides have the same value. In Python, = is an instruction to the language: Take the value on the right, and assign it to the variable on the left.\n",
        "\n",
        "Once we've assigned to a variable, we can use it wherever we want.\n",
        "\n",
        "Variables can have any name you want:\n",
        "\n",
        "Traditionally, we only use lowercase letters, _, and digits\n",
        "Variables cannot start with digits, and you shouldn't use _ at the start\n",
        "Capital and lowercase letters are different\n",
        "Variable names are for you, not for the programming language. Use names that make sense.\n"
      ],
      "metadata": {
        "id": "lZnYLRv-Na_1"
      }
    },
    {
      "cell_type": "code",
      "source": [
        "name = 'Vrushalee'      # assign the string value 'Vrushalee' to the variable name\n",
        "\n",
        "print(name)"
      ],
      "metadata": {
        "colab": {
          "base_uri": "https://localhost:8080/"
        },
        "id": "j4PHd23LNu3h",
        "outputId": "e5129c42-5dde-4a7c-c960-cc11d4ca8297"
      },
      "execution_count": 7,
      "outputs": [
        {
          "output_type": "stream",
          "name": "stdout",
          "text": [
            "Vrushalee\n"
          ]
        }
      ]
    },
    {
      "cell_type": "markdown",
      "source": [
        "**Wait a second ... didn't we have to declare that variable?**\n",
        "No, not in Python.\n",
        "\n",
        "Python is a dynamic language, where variables don't have types, and can refer to any value at all. Values do have types, though, and they are different."
      ],
      "metadata": {
        "id": "948lOMPcOKq-"
      }
    },
    {
      "cell_type": "code",
      "source": [
        "type(name)"
      ],
      "metadata": {
        "colab": {
          "base_uri": "https://localhost:8080/"
        },
        "id": "smH5l0D6OUbZ",
        "outputId": "13db39a8-85c0-4f24-9f24-4a9ce7670c6a"
      },
      "execution_count": 8,
      "outputs": [
        {
          "output_type": "execute_result",
          "data": {
            "text/plain": [
              "str"
            ]
          },
          "metadata": {},
          "execution_count": 8
        }
      ]
    },
    {
      "cell_type": "code",
      "source": [
        "name = 5\n",
        "type(name)   # what about now?"
      ],
      "metadata": {
        "colab": {
          "base_uri": "https://localhost:8080/"
        },
        "id": "xkBNjgU8OiU7",
        "outputId": "ddf04eb3-f5ca-444e-cb2b-e67dcf59ea1a"
      },
      "execution_count": 9,
      "outputs": [
        {
          "output_type": "execute_result",
          "data": {
            "text/plain": [
              "int"
            ]
          },
          "metadata": {},
          "execution_count": 9
        }
      ]
    },
    {
      "cell_type": "code",
      "source": [
        "x = 10\n",
        "y = 20\n",
        "\n",
        "x + y    # notice -- in Jupyter, and *only* in Jupyter, the final line, if an expression, shows me its value automatically"
      ],
      "metadata": {
        "colab": {
          "base_uri": "https://localhost:8080/"
        },
        "id": "C3_m-BrLSeSx",
        "outputId": "4860a4e6-1e8b-4a4a-e7c7-9f3e828f44ce"
      },
      "execution_count": 10,
      "outputs": [
        {
          "output_type": "execute_result",
          "data": {
            "text/plain": [
              "30"
            ]
          },
          "metadata": {},
          "execution_count": 10
        }
      ]
    },
    {
      "cell_type": "code",
      "source": [
        "x = 'abcd'\n",
        "y = 'efgh'\n",
        "\n",
        "x + y"
      ],
      "metadata": {
        "colab": {
          "base_uri": "https://localhost:8080/",
          "height": 35
        },
        "id": "-3vFO0vDSrmL",
        "outputId": "777bd0eb-f2d2-457a-90f8-fe6fb9f7ec49"
      },
      "execution_count": 11,
      "outputs": [
        {
          "output_type": "execute_result",
          "data": {
            "text/plain": [
              "'abcdefgh'"
            ],
            "application/vnd.google.colaboratory.intrinsic+json": {
              "type": "string"
            }
          },
          "metadata": {},
          "execution_count": 11
        }
      ]
    },
    {
      "cell_type": "code",
      "source": [
        "# what if I use different types?\n",
        "\n",
        "x = 10\n",
        "y = '20'\n",
        "\n",
        "x + y   # what will Python do? It could return 30, or it could return '1020'"
      ],
      "metadata": {
        "colab": {
          "base_uri": "https://localhost:8080/",
          "height": 210
        },
        "id": "gOMteD1GS0Mk",
        "outputId": "bdd60762-a80e-4ba3-dd05-1f7a10dc4be6"
      },
      "execution_count": 12,
      "outputs": [
        {
          "output_type": "error",
          "ename": "TypeError",
          "evalue": "ignored",
          "traceback": [
            "\u001b[0;31m---------------------------------------------------------------------------\u001b[0m",
            "\u001b[0;31mTypeError\u001b[0m                                 Traceback (most recent call last)",
            "\u001b[0;32m<ipython-input-12-c2e877340674>\u001b[0m in \u001b[0;36m<cell line: 6>\u001b[0;34m()\u001b[0m\n\u001b[1;32m      4\u001b[0m \u001b[0my\u001b[0m \u001b[0;34m=\u001b[0m \u001b[0;34m'20'\u001b[0m\u001b[0;34m\u001b[0m\u001b[0;34m\u001b[0m\u001b[0m\n\u001b[1;32m      5\u001b[0m \u001b[0;34m\u001b[0m\u001b[0m\n\u001b[0;32m----> 6\u001b[0;31m \u001b[0mx\u001b[0m \u001b[0;34m+\u001b[0m \u001b[0my\u001b[0m   \u001b[0;31m# what will Python do? It could return 30, or it could return '1020'\u001b[0m\u001b[0;34m\u001b[0m\u001b[0;34m\u001b[0m\u001b[0m\n\u001b[0m",
            "\u001b[0;31mTypeError\u001b[0m: unsupported operand type(s) for +: 'int' and 'str'"
          ]
        }
      ]
    },
    {
      "cell_type": "markdown",
      "source": [
        "**Exercise: Simple calculator**\n",
        "\n",
        "Assign one number value to the variable x.\n",
        "Assign another number value to the variable y.\n",
        "Print the result of adding x and y together. Don't try to get too fancy, mixing numbers and text -- just print the result of the addition."
      ],
      "metadata": {
        "id": "dEmCYYmHTB51"
      }
    },
    {
      "cell_type": "code",
      "source": [
        "x=10\n",
        "y=20\n",
        "print(x+y)"
      ],
      "metadata": {
        "colab": {
          "base_uri": "https://localhost:8080/"
        },
        "id": "5H9mLpzQTFA9",
        "outputId": "7269852b-1137-46f0-b89e-89cc0a2fd7a4"
      },
      "execution_count": 13,
      "outputs": [
        {
          "output_type": "stream",
          "name": "stdout",
          "text": [
            "30\n"
          ]
        }
      ]
    }
  ]
}