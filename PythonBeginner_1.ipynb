{
  "nbformat": 4,
  "nbformat_minor": 0,
  "metadata": {
    "colab": {
      "provenance": [],
      "authorship_tag": "ABX9TyPuVw4VBrNeHmneVMT8YC5M",
      "include_colab_link": true
    },
    "kernelspec": {
      "name": "python3",
      "display_name": "Python 3"
    },
    "language_info": {
      "name": "python"
    }
  },
  "cells": [
    {
      "cell_type": "markdown",
      "metadata": {
        "id": "view-in-github",
        "colab_type": "text"
      },
      "source": [
        "<a href=\"https://colab.research.google.com/github/vrushalee18/PythonBeginner/blob/main/PythonBeginner_1.ipynb\" target=\"_parent\"><img src=\"https://colab.research.google.com/assets/colab-badge.svg\" alt=\"Open In Colab\"/></a>"
      ]
    },
    {
      "cell_type": "code",
      "execution_count": 1,
      "metadata": {
        "colab": {
          "base_uri": "https://localhost:8080/"
        },
        "id": "yAq0sCZkLxrT",
        "outputId": "6b4a099f-76f9-4d39-9937-e3bb9fed80fe"
      },
      "outputs": [
        {
          "output_type": "stream",
          "name": "stdout",
          "text": [
            "Hello, I am Vrushalee\n"
          ]
        }
      ],
      "source": [
        "print('Hello, I am Vrushalee')"
      ]
    },
    {
      "cell_type": "code",
      "source": [
        "print(3)"
      ],
      "metadata": {
        "colab": {
          "base_uri": "https://localhost:8080/"
        },
        "id": "9-KW1ZnFL9kh",
        "outputId": "325d2857-e8ee-4d15-9f93-7ea2404c6520"
      },
      "execution_count": 2,
      "outputs": [
        {
          "output_type": "stream",
          "name": "stdout",
          "text": [
            "3\n"
          ]
        }
      ]
    },
    {
      "cell_type": "code",
      "source": [
        "print(2+5)"
      ],
      "metadata": {
        "colab": {
          "base_uri": "https://localhost:8080/"
        },
        "id": "IAGIvnuMMQAz",
        "outputId": "53038a38-654c-484e-980b-c1f6ab76f937"
      },
      "execution_count": 3,
      "outputs": [
        {
          "output_type": "stream",
          "name": "stdout",
          "text": [
            "7\n"
          ]
        }
      ]
    },
    {
      "cell_type": "code",
      "source": [
        "print(2-5)"
      ],
      "metadata": {
        "colab": {
          "base_uri": "https://localhost:8080/"
        },
        "id": "hp7U1S6uMZl_",
        "outputId": "77978759-2465-4d7d-f5c3-2f82da3bca0d"
      },
      "execution_count": 4,
      "outputs": [
        {
          "output_type": "stream",
          "name": "stdout",
          "text": [
            "-3\n"
          ]
        }
      ]
    },
    {
      "cell_type": "code",
      "source": [
        "print('Hello, ' + 'Vrushalee')"
      ],
      "metadata": {
        "colab": {
          "base_uri": "https://localhost:8080/"
        },
        "id": "SDPCVpNIMteb",
        "outputId": "2979774e-c240-4a31-ff83-ad365c6f7e09"
      },
      "execution_count": 5,
      "outputs": [
        {
          "output_type": "stream",
          "name": "stdout",
          "text": [
            "Hello, Vrushalee\n"
          ]
        }
      ]
    },
    {
      "cell_type": "code",
      "source": [
        "print('Hello,' + 'Vrushalee')"
      ],
      "metadata": {
        "colab": {
          "base_uri": "https://localhost:8080/"
        },
        "id": "iiPYnddGMygK",
        "outputId": "18de2828-ae83-43a3-eddd-45a205bb937f"
      },
      "execution_count": 6,
      "outputs": [
        {
          "output_type": "stream",
          "name": "stdout",
          "text": [
            "Hello,Vrushalee\n"
          ]
        }
      ]
    },
    {
      "cell_type": "markdown",
      "source": [
        "**NOTE**:\n",
        "\n",
        "In math, = means: The two sides have the same value. In Python, = is an instruction to the language: Take the value on the right, and assign it to the variable on the left.\n",
        "\n",
        "Once we've assigned to a variable, we can use it wherever we want.\n",
        "\n",
        "Variables can have any name you want:\n",
        "\n",
        "Traditionally, we only use lowercase letters, _, and digits\n",
        "Variables cannot start with digits, and you shouldn't use _ at the start\n",
        "Capital and lowercase letters are different\n",
        "Variable names are for you, not for the programming language. Use names that make sense.\n"
      ],
      "metadata": {
        "id": "lZnYLRv-Na_1"
      }
    },
    {
      "cell_type": "code",
      "source": [
        "name = 'Vrushalee'      # assign the string value 'Vrushalee' to the variable name\n",
        "\n",
        "print(name)"
      ],
      "metadata": {
        "colab": {
          "base_uri": "https://localhost:8080/"
        },
        "id": "j4PHd23LNu3h",
        "outputId": "e5129c42-5dde-4a7c-c960-cc11d4ca8297"
      },
      "execution_count": 7,
      "outputs": [
        {
          "output_type": "stream",
          "name": "stdout",
          "text": [
            "Vrushalee\n"
          ]
        }
      ]
    },
    {
      "cell_type": "markdown",
      "source": [
        "**Wait a second ... didn't we have to declare that variable?**\n",
        "No, not in Python.\n",
        "\n",
        "Python is a dynamic language, where variables don't have types, and can refer to any value at all. Values do have types, though, and they are different."
      ],
      "metadata": {
        "id": "948lOMPcOKq-"
      }
    },
    {
      "cell_type": "code",
      "source": [
        "type(name)"
      ],
      "metadata": {
        "colab": {
          "base_uri": "https://localhost:8080/"
        },
        "id": "smH5l0D6OUbZ",
        "outputId": "13db39a8-85c0-4f24-9f24-4a9ce7670c6a"
      },
      "execution_count": 8,
      "outputs": [
        {
          "output_type": "execute_result",
          "data": {
            "text/plain": [
              "str"
            ]
          },
          "metadata": {},
          "execution_count": 8
        }
      ]
    },
    {
      "cell_type": "code",
      "source": [
        "name = 5\n",
        "type(name)   # what about now?"
      ],
      "metadata": {
        "colab": {
          "base_uri": "https://localhost:8080/"
        },
        "id": "xkBNjgU8OiU7",
        "outputId": "ddf04eb3-f5ca-444e-cb2b-e67dcf59ea1a"
      },
      "execution_count": 9,
      "outputs": [
        {
          "output_type": "execute_result",
          "data": {
            "text/plain": [
              "int"
            ]
          },
          "metadata": {},
          "execution_count": 9
        }
      ]
    }
  ]
}