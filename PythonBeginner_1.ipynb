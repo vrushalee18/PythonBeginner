{
  "nbformat": 4,
  "nbformat_minor": 0,
  "metadata": {
    "colab": {
      "provenance": [],
      "authorship_tag": "ABX9TyPPkSL6yy6sbdqaPqz4qTGy",
      "include_colab_link": true
    },
    "kernelspec": {
      "name": "python3",
      "display_name": "Python 3"
    },
    "language_info": {
      "name": "python"
    }
  },
  "cells": [
    {
      "cell_type": "markdown",
      "metadata": {
        "id": "view-in-github",
        "colab_type": "text"
      },
      "source": [
        "<a href=\"https://colab.research.google.com/github/vrushalee18/PythonBeginner/blob/main/PythonBeginner_1.ipynb\" target=\"_parent\"><img src=\"https://colab.research.google.com/assets/colab-badge.svg\" alt=\"Open In Colab\"/></a>"
      ]
    },
    {
      "cell_type": "markdown",
      "source": [
        "**If you want to use Jupyter and you don't have it installed on your computer, there are a few places to try:**\n",
        "\n",
        "Google Colab\n",
        "\n",
        "Noteable.io\n",
        "\n",
        "try.jupyter.org -- open a new notebook"
      ],
      "metadata": {
        "id": "BeH0UuhfRmvV"
      }
    },
    {
      "cell_type": "code",
      "execution_count": null,
      "metadata": {
        "colab": {
          "base_uri": "https://localhost:8080/"
        },
        "id": "yAq0sCZkLxrT",
        "outputId": "6b4a099f-76f9-4d39-9937-e3bb9fed80fe"
      },
      "outputs": [
        {
          "output_type": "stream",
          "name": "stdout",
          "text": [
            "Hello, I am Vrushalee\n"
          ]
        }
      ],
      "source": [
        "print('Hello, I am Vrushalee')"
      ]
    },
    {
      "cell_type": "code",
      "source": [
        "print(3)"
      ],
      "metadata": {
        "colab": {
          "base_uri": "https://localhost:8080/"
        },
        "id": "9-KW1ZnFL9kh",
        "outputId": "325d2857-e8ee-4d15-9f93-7ea2404c6520"
      },
      "execution_count": null,
      "outputs": [
        {
          "output_type": "stream",
          "name": "stdout",
          "text": [
            "3\n"
          ]
        }
      ]
    },
    {
      "cell_type": "code",
      "source": [
        "print(2+5)"
      ],
      "metadata": {
        "colab": {
          "base_uri": "https://localhost:8080/"
        },
        "id": "IAGIvnuMMQAz",
        "outputId": "53038a38-654c-484e-980b-c1f6ab76f937"
      },
      "execution_count": null,
      "outputs": [
        {
          "output_type": "stream",
          "name": "stdout",
          "text": [
            "7\n"
          ]
        }
      ]
    },
    {
      "cell_type": "code",
      "source": [
        "print(2-5)"
      ],
      "metadata": {
        "colab": {
          "base_uri": "https://localhost:8080/"
        },
        "id": "hp7U1S6uMZl_",
        "outputId": "77978759-2465-4d7d-f5c3-2f82da3bca0d"
      },
      "execution_count": null,
      "outputs": [
        {
          "output_type": "stream",
          "name": "stdout",
          "text": [
            "-3\n"
          ]
        }
      ]
    },
    {
      "cell_type": "code",
      "source": [
        "print('Hello, ' + 'Vrushalee')"
      ],
      "metadata": {
        "colab": {
          "base_uri": "https://localhost:8080/"
        },
        "id": "SDPCVpNIMteb",
        "outputId": "2979774e-c240-4a31-ff83-ad365c6f7e09"
      },
      "execution_count": null,
      "outputs": [
        {
          "output_type": "stream",
          "name": "stdout",
          "text": [
            "Hello, Vrushalee\n"
          ]
        }
      ]
    },
    {
      "cell_type": "code",
      "source": [
        "print('Hello,' + 'Vrushalee')"
      ],
      "metadata": {
        "colab": {
          "base_uri": "https://localhost:8080/"
        },
        "id": "iiPYnddGMygK",
        "outputId": "18de2828-ae83-43a3-eddd-45a205bb937f"
      },
      "execution_count": null,
      "outputs": [
        {
          "output_type": "stream",
          "name": "stdout",
          "text": [
            "Hello,Vrushalee\n"
          ]
        }
      ]
    },
    {
      "cell_type": "markdown",
      "source": [
        "**NOTE**:\n",
        "\n",
        "In math, = means: The two sides have the same value. In Python, = is an instruction to the language: Take the value on the right, and assign it to the variable on the left.\n",
        "\n",
        "Once we've assigned to a variable, we can use it wherever we want.\n",
        "\n",
        "Variables can have any name you want:\n",
        "\n",
        "Traditionally, we only use lowercase letters, _, and digits\n",
        "Variables cannot start with digits, and you shouldn't use _ at the start\n",
        "Capital and lowercase letters are different\n",
        "Variable names are for you, not for the programming language. Use names that make sense.\n"
      ],
      "metadata": {
        "id": "lZnYLRv-Na_1"
      }
    },
    {
      "cell_type": "code",
      "source": [
        "name = 'Vrushalee'      # assign the string value 'Vrushalee' to the variable name\n",
        "\n",
        "print(name)"
      ],
      "metadata": {
        "colab": {
          "base_uri": "https://localhost:8080/"
        },
        "id": "j4PHd23LNu3h",
        "outputId": "e5129c42-5dde-4a7c-c960-cc11d4ca8297"
      },
      "execution_count": null,
      "outputs": [
        {
          "output_type": "stream",
          "name": "stdout",
          "text": [
            "Vrushalee\n"
          ]
        }
      ]
    },
    {
      "cell_type": "markdown",
      "source": [
        "**Wait a second ... didn't we have to declare that variable?**\n",
        "No, not in Python.\n",
        "\n",
        "Python is a dynamic language, where variables don't have types, and can refer to any value at all. Values do have types, though, and they are different."
      ],
      "metadata": {
        "id": "948lOMPcOKq-"
      }
    },
    {
      "cell_type": "code",
      "source": [
        "type(name)"
      ],
      "metadata": {
        "colab": {
          "base_uri": "https://localhost:8080/"
        },
        "id": "smH5l0D6OUbZ",
        "outputId": "13db39a8-85c0-4f24-9f24-4a9ce7670c6a"
      },
      "execution_count": null,
      "outputs": [
        {
          "output_type": "execute_result",
          "data": {
            "text/plain": [
              "str"
            ]
          },
          "metadata": {},
          "execution_count": 8
        }
      ]
    },
    {
      "cell_type": "code",
      "source": [
        "name = 5\n",
        "type(name)   # what about now?"
      ],
      "metadata": {
        "colab": {
          "base_uri": "https://localhost:8080/"
        },
        "id": "xkBNjgU8OiU7",
        "outputId": "ddf04eb3-f5ca-444e-cb2b-e67dcf59ea1a"
      },
      "execution_count": null,
      "outputs": [
        {
          "output_type": "execute_result",
          "data": {
            "text/plain": [
              "int"
            ]
          },
          "metadata": {},
          "execution_count": 9
        }
      ]
    },
    {
      "cell_type": "code",
      "source": [
        "x = 10\n",
        "y = 20\n",
        "\n",
        "x + y    # notice -- in Jupyter, and *only* in Jupyter, the final line, if an expression, shows me its value automatically"
      ],
      "metadata": {
        "colab": {
          "base_uri": "https://localhost:8080/"
        },
        "id": "C3_m-BrLSeSx",
        "outputId": "4860a4e6-1e8b-4a4a-e7c7-9f3e828f44ce"
      },
      "execution_count": null,
      "outputs": [
        {
          "output_type": "execute_result",
          "data": {
            "text/plain": [
              "30"
            ]
          },
          "metadata": {},
          "execution_count": 10
        }
      ]
    },
    {
      "cell_type": "code",
      "source": [
        "x = 'abcd'\n",
        "y = 'efgh'\n",
        "\n",
        "x + y"
      ],
      "metadata": {
        "colab": {
          "base_uri": "https://localhost:8080/",
          "height": 35
        },
        "id": "-3vFO0vDSrmL",
        "outputId": "777bd0eb-f2d2-457a-90f8-fe6fb9f7ec49"
      },
      "execution_count": null,
      "outputs": [
        {
          "output_type": "execute_result",
          "data": {
            "text/plain": [
              "'abcdefgh'"
            ],
            "application/vnd.google.colaboratory.intrinsic+json": {
              "type": "string"
            }
          },
          "metadata": {},
          "execution_count": 11
        }
      ]
    },
    {
      "cell_type": "code",
      "source": [
        "# what if I use different types?\n",
        "\n",
        "x = 10\n",
        "y = '20'\n",
        "\n",
        "x + y   # what will Python do? It could return 30, or it could return '1020'"
      ],
      "metadata": {
        "colab": {
          "base_uri": "https://localhost:8080/",
          "height": 210
        },
        "id": "gOMteD1GS0Mk",
        "outputId": "bdd60762-a80e-4ba3-dd05-1f7a10dc4be6"
      },
      "execution_count": null,
      "outputs": [
        {
          "output_type": "error",
          "ename": "TypeError",
          "evalue": "ignored",
          "traceback": [
            "\u001b[0;31m---------------------------------------------------------------------------\u001b[0m",
            "\u001b[0;31mTypeError\u001b[0m                                 Traceback (most recent call last)",
            "\u001b[0;32m<ipython-input-12-c2e877340674>\u001b[0m in \u001b[0;36m<cell line: 6>\u001b[0;34m()\u001b[0m\n\u001b[1;32m      4\u001b[0m \u001b[0my\u001b[0m \u001b[0;34m=\u001b[0m \u001b[0;34m'20'\u001b[0m\u001b[0;34m\u001b[0m\u001b[0;34m\u001b[0m\u001b[0m\n\u001b[1;32m      5\u001b[0m \u001b[0;34m\u001b[0m\u001b[0m\n\u001b[0;32m----> 6\u001b[0;31m \u001b[0mx\u001b[0m \u001b[0;34m+\u001b[0m \u001b[0my\u001b[0m   \u001b[0;31m# what will Python do? It could return 30, or it could return '1020'\u001b[0m\u001b[0;34m\u001b[0m\u001b[0;34m\u001b[0m\u001b[0m\n\u001b[0m",
            "\u001b[0;31mTypeError\u001b[0m: unsupported operand type(s) for +: 'int' and 'str'"
          ]
        }
      ]
    },
    {
      "cell_type": "markdown",
      "source": [
        "**Exercise: Simple calculator**\n",
        "\n",
        "Assign one number value to the variable x.\n",
        "Assign another number value to the variable y.\n",
        "Print the result of adding x and y together. Don't try to get too fancy, mixing numbers and text -- just print the result of the addition."
      ],
      "metadata": {
        "id": "dEmCYYmHTB51"
      }
    },
    {
      "cell_type": "code",
      "source": [
        "x=10\n",
        "y=20\n",
        "print(x+y)"
      ],
      "metadata": {
        "colab": {
          "base_uri": "https://localhost:8080/"
        },
        "id": "5H9mLpzQTFA9",
        "outputId": "7269852b-1137-46f0-b89e-89cc0a2fd7a4"
      },
      "execution_count": null,
      "outputs": [
        {
          "output_type": "stream",
          "name": "stdout",
          "text": [
            "30\n"
          ]
        }
      ]
    },
    {
      "cell_type": "code",
      "source": [
        "# what happens if I assign a new value to a variable?\n",
        "# if a variable already exists, then assigning to it just gets rid of the old value\n",
        "\n",
        "x = 10\n",
        "y = 20\n",
        "print(x + y)\n",
        "\n",
        "\n",
        "x = 15\n",
        "y = 30\n",
        "print(x + y)\n",
        "\n"
      ],
      "metadata": {
        "colab": {
          "base_uri": "https://localhost:8080/"
        },
        "id": "bBLNtZ2mUbxh",
        "outputId": "1e1d29af-d833-47cb-f293-d163f6c60478"
      },
      "execution_count": null,
      "outputs": [
        {
          "output_type": "stream",
          "name": "stdout",
          "text": [
            "30\n",
            "45\n"
          ]
        }
      ]
    },
    {
      "cell_type": "markdown",
      "source": [
        "unlike many other programming languages, Python doens't require ; at the end of each line\n",
        "\n",
        "how does it know when a command ends? the end of the line\n",
        "\n",
        "you can, optionally, put semicolons between statements on the same line.\n",
        "\n",
        "but it's really frowned up\n",
        "\n",
        "x = 30 ; y = 40"
      ],
      "metadata": {
        "id": "DCTKo467UvY3"
      }
    },
    {
      "cell_type": "markdown",
      "source": [
        "**Editors to consider (other than Jupyter) for working with Python**\n",
        "\n",
        "IDLE, which is simple but comes with Python\n",
        "\n",
        "PyCharm, which has a free \"community\" edition and a paid professional edition\n",
        "\n",
        "VSCode, from Microsoft, which is free (and quite popular)"
      ],
      "metadata": {
        "id": "ZZIaLCKwVIr4"
      }
    },
    {
      "cell_type": "markdown",
      "source": [
        "**Next up**\n",
        "\n",
        "Getting input from the user\n",
        "\n",
        "Assigning that input to a variable\n",
        "\n",
        "f-strings\n",
        "\n",
        "Comparison and True/False"
      ],
      "metadata": {
        "id": "oQcL90BAWkqY"
      }
    },
    {
      "cell_type": "markdown",
      "source": [
        "**Getting input from the user**\n",
        "\n",
        "So far, all of our values have been \"hard coded\" in our programs. In real life, programs assign values that they got from users, the network, files, etc. We need a way to get that kind of input.\n",
        "\n",
        "We'll do it with another function, called input. That function lets us ask the user a question. It returns a text string, whatever the user typed. Typically, we'll want to put that text string into a variable with assignment."
      ],
      "metadata": {
        "id": "mcveUEL1WxZm"
      }
    },
    {
      "cell_type": "code",
      "source": [
        "# we have assignment -- variable = value\n",
        "# always, with assignment, the right side runs before the left side\n",
        "\n",
        "name = input('Enter your name: ')\n",
        "print(name)"
      ],
      "metadata": {
        "colab": {
          "base_uri": "https://localhost:8080/"
        },
        "id": "zK4o2KvOW55G",
        "outputId": "a6111e31-e3a0-4eb3-e708-9479be94f803"
      },
      "execution_count": null,
      "outputs": [
        {
          "output_type": "stream",
          "name": "stdout",
          "text": [
            "Enter your name: whatever\n",
            "whatever\n"
          ]
        }
      ]
    },
    {
      "cell_type": "code",
      "source": [
        "name"
      ],
      "metadata": {
        "colab": {
          "base_uri": "https://localhost:8080/",
          "height": 35
        },
        "id": "cffCndcnXJZy",
        "outputId": "e36a26a3-10cf-4b7c-c862-bb49286ed1d3"
      },
      "execution_count": null,
      "outputs": [
        {
          "output_type": "execute_result",
          "data": {
            "text/plain": [
              "'whatever'"
            ],
            "application/vnd.google.colaboratory.intrinsic+json": {
              "type": "string"
            }
          },
          "metadata": {},
          "execution_count": 17
        }
      ]
    },
    {
      "cell_type": "code",
      "source": [
        "a = 10\n",
        "b = 20\n",
        "\n",
        "c = a + b     # for this to work, a and b both need to be defined already, and of compatible types\n"
      ],
      "metadata": {
        "id": "b9u-jI_KXTMo"
      },
      "execution_count": null,
      "outputs": []
    },
    {
      "cell_type": "code",
      "source": [
        "c"
      ],
      "metadata": {
        "colab": {
          "base_uri": "https://localhost:8080/"
        },
        "id": "p0n0IwPxXczP",
        "outputId": "a5180f4b-a3c8-4e3a-ba2f-6b6a4a6f7f7f"
      },
      "execution_count": null,
      "outputs": [
        {
          "output_type": "execute_result",
          "data": {
            "text/plain": [
              "30"
            ]
          },
          "metadata": {},
          "execution_count": 21
        }
      ]
    },
    {
      "cell_type": "code",
      "source": [
        "a + b = c       # this isn't valid Python syntax, because you cannot assign to a+b"
      ],
      "metadata": {
        "colab": {
          "base_uri": "https://localhost:8080/",
          "height": 140
        },
        "id": "6k_lXhbPXlFJ",
        "outputId": "bddc8395-fd3d-4e9d-e4d9-0b890d90af1a"
      },
      "execution_count": null,
      "outputs": [
        {
          "output_type": "error",
          "ename": "SyntaxError",
          "evalue": "ignored",
          "traceback": [
            "\u001b[0;36m  File \u001b[0;32m\"<ipython-input-22-74fc28fe9eda>\"\u001b[0;36m, line \u001b[0;32m1\u001b[0m\n\u001b[0;31m    a + b = c       # this isn't valid Python syntax, because you cannot assign to a+b\u001b[0m\n\u001b[0m    ^\u001b[0m\n\u001b[0;31mSyntaxError\u001b[0m\u001b[0;31m:\u001b[0m cannot assign to expression here. Maybe you meant '==' instead of '='?\n"
          ]
        }
      ]
    },
    {
      "cell_type": "code",
      "source": [
        "# what if I want to print the following:\n",
        "\n",
        "x = 10\n",
        "y = 20\n",
        "\n",
        "print(x + ' + ' + y + ' = ' + x+y)   # this will end poorly!"
      ],
      "metadata": {
        "colab": {
          "base_uri": "https://localhost:8080/",
          "height": 210
        },
        "id": "BO48hAS5Xqla",
        "outputId": "a067fd8a-b1bf-4589-aef1-1bbffb1e39c1"
      },
      "execution_count": null,
      "outputs": [
        {
          "output_type": "error",
          "ename": "TypeError",
          "evalue": "ignored",
          "traceback": [
            "\u001b[0;31m---------------------------------------------------------------------------\u001b[0m",
            "\u001b[0;31mTypeError\u001b[0m                                 Traceback (most recent call last)",
            "\u001b[0;32m<ipython-input-23-dffaa414af6a>\u001b[0m in \u001b[0;36m<cell line: 6>\u001b[0;34m()\u001b[0m\n\u001b[1;32m      4\u001b[0m \u001b[0my\u001b[0m \u001b[0;34m=\u001b[0m \u001b[0;36m20\u001b[0m\u001b[0;34m\u001b[0m\u001b[0;34m\u001b[0m\u001b[0m\n\u001b[1;32m      5\u001b[0m \u001b[0;34m\u001b[0m\u001b[0m\n\u001b[0;32m----> 6\u001b[0;31m \u001b[0mprint\u001b[0m\u001b[0;34m(\u001b[0m\u001b[0mx\u001b[0m \u001b[0;34m+\u001b[0m \u001b[0;34m' + '\u001b[0m \u001b[0;34m+\u001b[0m \u001b[0my\u001b[0m \u001b[0;34m+\u001b[0m \u001b[0;34m' = '\u001b[0m \u001b[0;34m+\u001b[0m \u001b[0mx\u001b[0m\u001b[0;34m+\u001b[0m\u001b[0my\u001b[0m\u001b[0;34m)\u001b[0m   \u001b[0;31m# this will end poorly!\u001b[0m\u001b[0;34m\u001b[0m\u001b[0;34m\u001b[0m\u001b[0m\n\u001b[0m",
            "\u001b[0;31mTypeError\u001b[0m: unsupported operand type(s) for +: 'int' and 'str'"
          ]
        }
      ]
    },
    {
      "cell_type": "code",
      "source": [
        "# we can use an f-string!\n",
        "# this means, before the opening quote in a text string, we put the letter f (for format, or fancy)\n",
        "# this is a regular string in every way but one: Inside of the string, you can have {}\n",
        "# and inside of the {}, you can put a Python expression, including a variable name\n",
        "\n",
        "print(f'{x} + {y} = {x+y}')    # this is the most modern way to display strings in Python"
      ],
      "metadata": {
        "colab": {
          "base_uri": "https://localhost:8080/"
        },
        "id": "iQcWb6apXzBb",
        "outputId": "67793ba5-47ed-4f5a-e7f4-ae962523a172"
      },
      "execution_count": null,
      "outputs": [
        {
          "output_type": "stream",
          "name": "stdout",
          "text": [
            "10 + 20 = 30\n"
          ]
        }
      ]
    },
    {
      "cell_type": "markdown",
      "source": [
        "**Exercise: Greeting**\n",
        "\n",
        "Ask the user to enter their name, and assign it to the variable name.\n",
        "\n",
        "Ask the user to enter their city, and assign it to the variable city.\n",
        "\n",
        "Using print and an f-string, give a nice greeting that mentions the user's name and their city."
      ],
      "metadata": {
        "id": "d3wny3GYYbli"
      }
    },
    {
      "cell_type": "code",
      "source": [
        "name = input('Enter your name: ')\n",
        "city = input('Enter city: ')\n",
        "print(f'Hello, {name} from {city}')"
      ],
      "metadata": {
        "colab": {
          "base_uri": "https://localhost:8080/"
        },
        "id": "GpwJmt_qYg3b",
        "outputId": "4330cdaa-f4da-41b5-90a0-71853e76d593"
      },
      "execution_count": null,
      "outputs": [
        {
          "output_type": "stream",
          "name": "stdout",
          "text": [
            "Enter your name: Vrushalee\n",
            "Enter city: Mumbai\n",
            "Hello, Vrushalee from Mumbai\n"
          ]
        }
      ]
    },
    {
      "cell_type": "markdown",
      "source": [
        "**Comparisons**\n",
        "\n",
        "Sometimes, we want to know whether two values are the same. We might be comparing them as literal values, or we might be comparing them as two variables, or we might be comparing one value with one variable. In any event, we need to know whether they are the same.\n",
        "\n",
        "We can do this with a variety of \"comparison operators.\" Just as + is a math operator that takes two arguments (on either side) and returns a new value, comparison operators also take two arguments (on either side) and return True or False values.\n",
        "\n",
        "The most common comparison operator is ==, which checks if the values are equal. This is very very different from =, which is the assignment operator."
      ],
      "metadata": {
        "id": "OtVKFV3fdFCs"
      }
    },
    {
      "cell_type": "code",
      "source": [
        "# some comparisons\n",
        "\n",
        "10 == 10"
      ],
      "metadata": {
        "colab": {
          "base_uri": "https://localhost:8080/"
        },
        "id": "Y2xCUj80dJuH",
        "outputId": "6fc36051-993c-47d3-b580-4dea893f790f"
      },
      "execution_count": null,
      "outputs": [
        {
          "output_type": "execute_result",
          "data": {
            "text/plain": [
              "True"
            ]
          },
          "metadata": {},
          "execution_count": 27
        }
      ]
    },
    {
      "cell_type": "code",
      "source": [
        "10 == 5"
      ],
      "metadata": {
        "colab": {
          "base_uri": "https://localhost:8080/"
        },
        "id": "gSuNeQsbdTzN",
        "outputId": "dffe5558-0ac7-4069-e0f2-6701652e52b9"
      },
      "execution_count": null,
      "outputs": [
        {
          "output_type": "execute_result",
          "data": {
            "text/plain": [
              "False"
            ]
          },
          "metadata": {},
          "execution_count": 28
        }
      ]
    },
    {
      "cell_type": "code",
      "source": [
        "x = 10\n",
        "y = 20\n",
        "\n",
        "x == x   # is x equal to itself?"
      ],
      "metadata": {
        "colab": {
          "base_uri": "https://localhost:8080/"
        },
        "id": "Kbq9ckPrdhPN",
        "outputId": "dbf62d33-08fb-4267-868e-085205e765f1"
      },
      "execution_count": null,
      "outputs": [
        {
          "output_type": "execute_result",
          "data": {
            "text/plain": [
              "True"
            ]
          },
          "metadata": {},
          "execution_count": 29
        }
      ]
    },
    {
      "cell_type": "code",
      "source": [
        "x == y"
      ],
      "metadata": {
        "colab": {
          "base_uri": "https://localhost:8080/"
        },
        "id": "TAzzY0uOdqgE",
        "outputId": "5723acbd-40b2-4588-9ee2-317ec8b985fa"
      },
      "execution_count": null,
      "outputs": [
        {
          "output_type": "execute_result",
          "data": {
            "text/plain": [
              "False"
            ]
          },
          "metadata": {},
          "execution_count": 31
        }
      ]
    },
    {
      "cell_type": "code",
      "source": [
        "x == y - 10"
      ],
      "metadata": {
        "colab": {
          "base_uri": "https://localhost:8080/"
        },
        "id": "QN1o6Cgidx8a",
        "outputId": "8c8da7fd-e89a-4bfe-88e3-a0c091a459a3"
      },
      "execution_count": null,
      "outputs": [
        {
          "output_type": "execute_result",
          "data": {
            "text/plain": [
              "True"
            ]
          },
          "metadata": {},
          "execution_count": 32
        }
      ]
    },
    {
      "cell_type": "markdown",
      "source": [
        "**Comparison operators**\n",
        "\n",
        "== -- equality\n",
        "\n",
        "!= -- inequality (opposite of ==), this symbol is because early keyboards couldn't type ≠\n",
        "\n",
        "< -- less than\n",
        "\n",
        "  > -- greater than\n",
        "\n",
        "<= -- less than or equal\n",
        "\n",
        "  >= -- greater than or equal\n",
        "\n",
        "These operators work on many data types:\n",
        "\n",
        "They all work on integers\n",
        "\n",
        "They also all work on strings, where a string is \"less than\" another if it comes first in the dictionary. Note that capital letters all come before lowercase letters in Python, so be careful with capitalization!\n",
        "Who cares? Where can we use these operators?\n",
        "\n",
        "One of the most important ideas in all of programming: if\n",
        "The if statement lets us make a decision in our program, based on input we got from the user, network, a file, etc. We can say that if something is True, then we want to execute some particular code. If it's False,then we want to execute some other code."
      ],
      "metadata": {
        "id": "Tvtjse_Kd8W2"
      }
    },
    {
      "cell_type": "code",
      "source": [
        "# here is some typical, traditional Python code\n",
        "\n",
        "name = input('Enter your name: ')\n",
        "\n",
        "if name == 'Vrushalee':    # if looks to its right, and checks if it has a True value there. If so, the block under \"if\" runs\n",
        "    print('Hello, boss!')\n",
        "    print('It is great to see you again!')\n",
        "else:     # if 'if' got a False value, then the block under \"else\" runs\n",
        "    print(f'Hello, {name}. I do not know you.')\n",
        "\n",
        "# one, and only one, of the blocks will run.\n",
        "# at the end of the \"if\" and \"else\" lines, we have colons (:) these come right before a block\n",
        "# blocks in Python are indented. They MUST BE. It is not just aesthetics!\n",
        "# I can have as many lines in the block as I want -- at least one\n",
        "# do you need an \"else\" if you have an \"if\"? No, not at all.\n",
        "# in an indented block, you can use ANY PYTHON YOU WANT. You are not restricted at all. You can have an \"if\" inside of an \"if\" block...\n",
        "\n",
        "# If you are thinking about how much you're indenting, then you're using the wrong tool to write Python\n",
        "# any tool that knows Python knows (more or less) how to indent things."
      ],
      "metadata": {
        "colab": {
          "base_uri": "https://localhost:8080/"
        },
        "id": "Bpva1yh4eZqv",
        "outputId": "3f205a13-7bf6-465f-8579-c7dad7e0fdac"
      },
      "execution_count": null,
      "outputs": [
        {
          "output_type": "stream",
          "name": "stdout",
          "text": [
            "Enter your name: vrushalee\n",
            "Hello, vrushalee. I do not know you.\n"
          ]
        }
      ]
    },
    {
      "cell_type": "code",
      "source": [
        "if x == 10:\n",
        "    print('a')\n",
        "    print('b')\n",
        "    print('c')\n",
        "else:\n",
        "    print('d')"
      ],
      "metadata": {
        "colab": {
          "base_uri": "https://localhost:8080/"
        },
        "id": "Ht3tS_VvgvfH",
        "outputId": "d2777c95-1055-42de-c692-c67e74ec25d0"
      },
      "execution_count": null,
      "outputs": [
        {
          "output_type": "stream",
          "name": "stdout",
          "text": [
            "a\n",
            "b\n",
            "c\n"
          ]
        }
      ]
    },
    {
      "cell_type": "markdown",
      "source": [
        "**Exercise: Which word comes first?**\n",
        "\n",
        "Ask the user to enter a word, and assign it to word1.\n",
        "\n",
        "Ask the user to enter another word, and assign it to word2.\n",
        "\n",
        "Using our comparison operators, check to see which word comes first alphabetically, and print it.\n",
        "\n",
        "Note that we will assume people will enter different words."
      ],
      "metadata": {
        "id": "uOU0TTN_g2SW"
      }
    },
    {
      "cell_type": "code",
      "source": [
        "word1 = input('Enter 1st word: ')\n",
        "word2 = input('Enter 2nd word: ')\n",
        "if word1 < word2:      # there is a condition here!\n",
        "  print(f'{word1} comes before {word2}')\n",
        "\n",
        "else:\n",
        "  print(f'{word2} comes before {word1}')\n"
      ],
      "metadata": {
        "colab": {
          "base_uri": "https://localhost:8080/"
        },
        "id": "ZV5ILix7g70H",
        "outputId": "ac94301a-8d3a-43a5-bd62-b6be3a854945"
      },
      "execution_count": null,
      "outputs": [
        {
          "output_type": "stream",
          "name": "stdout",
          "text": [
            "Enter 1st word: cat\n",
            "Enter 2nd word: dog\n",
            "cat comes before dog\n"
          ]
        }
      ]
    },
    {
      "cell_type": "markdown",
      "source": [
        "**Next up**\n",
        "\n",
        "What about additional options, if if and else aren't enough?\n",
        "\n",
        "What about using and, or, and not for logical operators?\n",
        "\n",
        "Numbers, and turning strings into numbers"
      ],
      "metadata": {
        "id": "VsqJJ0XhiCFh"
      }
    },
    {
      "cell_type": "markdown",
      "source": [
        "**What about additional alternatives?**\n",
        "\n",
        "We've now seen that if and else can easily handle any two-possibility set of choices. But sometimes, we need more than two. How can we handle that?\n",
        "\n",
        "We can use elif, which comes after if, and also has a comparison. If the if condition is False, then we check the first elif. And so forth, until (if nothing else matches), we run the else.\n",
        "\n",
        "I can have as many elif clauses as I want. The first whose comparison returns True is the one that fires. Even if multiple elif clauses all return True, only the first one will fire.\n",
        "\n",
        "You don't have to have an else clause, but if you have elif clauses, it's rare not to."
      ],
      "metadata": {
        "id": "X0vx855iiO1y"
      }
    },
    {
      "cell_type": "code",
      "source": [
        "word1 = input('Enter first word: ')\n",
        "word2 = input('Enter second word: ')\n",
        "\n",
        "if word1 < word2:    # there is a condition here!\n",
        "    print(f'{word1} comes before {word2}')\n",
        "elif word1 > word2:                #  there is a condition here -- different from the first\n",
        "    print(f'{word2} comes before {word1}')\n",
        "else:\n",
        "    print(f'You entered {word2} twice!')"
      ],
      "metadata": {
        "colab": {
          "base_uri": "https://localhost:8080/"
        },
        "id": "-GiMnS4jiSn3",
        "outputId": "a05fd0ff-facd-45bc-d793-97a3dbe33216"
      },
      "execution_count": null,
      "outputs": [
        {
          "output_type": "stream",
          "name": "stdout",
          "text": [
            "Enter first word: mouse\n",
            "Enter second word: dog\n",
            "dog comes before mouse\n"
          ]
        }
      ]
    },
    {
      "cell_type": "markdown",
      "source": [
        "**What if we want to check more than one thing at a time?**\n",
        "\n",
        "If we have behavior that depends on more than one thing being True, how do we check that?\n",
        "\n",
        "\n",
        "The answer: and. and looks to its left and right, and if both value are True, it returns True. If either isFalse, it returnsFalse`."
      ],
      "metadata": {
        "id": "CUbpsIYCi3KV"
      }
    },
    {
      "cell_type": "code",
      "source": [
        "x = 10\n",
        "y = 20\n",
        "\n",
        "#  True  and  True\n",
        "x == 10 and y == 20"
      ],
      "metadata": {
        "colab": {
          "base_uri": "https://localhost:8080/"
        },
        "id": "QN-iqueai8LH",
        "outputId": "ded95b34-a513-49b3-fe76-3ac697cad43a"
      },
      "execution_count": null,
      "outputs": [
        {
          "output_type": "execute_result",
          "data": {
            "text/plain": [
              "True"
            ]
          },
          "metadata": {},
          "execution_count": 37
        }
      ]
    },
    {
      "cell_type": "code",
      "source": [
        "x == 10 and y == 30"
      ],
      "metadata": {
        "colab": {
          "base_uri": "https://localhost:8080/"
        },
        "id": "ZvY7OVsXjAmu",
        "outputId": "b44fc44a-267d-4b22-accd-7a41b2d20a63"
      },
      "execution_count": null,
      "outputs": [
        {
          "output_type": "execute_result",
          "data": {
            "text/plain": [
              "False"
            ]
          },
          "metadata": {},
          "execution_count": 38
        }
      ]
    },
    {
      "cell_type": "code",
      "source": [
        "if x == 10 and y == 20:\n",
        "    print('Yes, both are what I want!')"
      ],
      "metadata": {
        "colab": {
          "base_uri": "https://localhost:8080/"
        },
        "id": "QDPBW_OsjLCa",
        "outputId": "0bc0e720-2c31-4dbf-f3bf-2c1527a06ed6"
      },
      "execution_count": null,
      "outputs": [
        {
          "output_type": "stream",
          "name": "stdout",
          "text": [
            "Yes, both are what I want!\n"
          ]
        }
      ]
    },
    {
      "cell_type": "markdown",
      "source": [
        "**We can also use or**\n",
        "\n",
        "Whereas and returns True only if both sides are True,\n",
        "\n",
        "or returns True if either side is True."
      ],
      "metadata": {
        "id": "2-l1g9HHjRYy"
      }
    },
    {
      "cell_type": "code",
      "source": [
        "if x == 99 or y == 20:\n",
        "    print('At least one is what I want!')"
      ],
      "metadata": {
        "colab": {
          "base_uri": "https://localhost:8080/"
        },
        "id": "E3XgmgEfjV66",
        "outputId": "17ae1190-eac1-49e3-ba68-f202ee519f61"
      },
      "execution_count": null,
      "outputs": [
        {
          "output_type": "stream",
          "name": "stdout",
          "text": [
            "At least one is what I want!\n"
          ]
        }
      ]
    },
    {
      "cell_type": "code",
      "source": [
        "if (x == 99 or\n",
        "y == 20):\n",
        "    print('At least one is what I want!')"
      ],
      "metadata": {
        "colab": {
          "base_uri": "https://localhost:8080/"
        },
        "id": "01XcHEZwjhD0",
        "outputId": "b418f406-46a9-48bb-faa9-b09240d65cc1"
      },
      "execution_count": null,
      "outputs": [
        {
          "output_type": "stream",
          "name": "stdout",
          "text": [
            "At least one is what I want!\n"
          ]
        }
      ]
    },
    {
      "cell_type": "markdown",
      "source": [
        "**Exercise: Name and company**\n",
        "\n",
        "Ask the user to enter their name, and store in name.\n",
        "\n",
        "Ask the user to enter their company, and store in company.\n",
        "\n",
        "Print one of four possible responses:\n",
        "\n",
        "If the name and company are the same as you, you should say, \"This is me!\"\n",
        "\n",
        "If the name is the same and the company isn't, say, \"You have my name at a rival company!\"\n",
        "\n",
        "If the company is the same and the name is different, say, \"You are my colleague.\"\n",
        "\n",
        "If neither is the same, be snarky toward them.\n",
        "\n",
        "Example:\n",
        "\n",
        "Enter your name: Vrushalee\n",
        "\n",
        "Enter your company: XYZ\n",
        "\n",
        "You must be me!"
      ],
      "metadata": {
        "id": "XCIorwkVjyCX"
      }
    },
    {
      "cell_type": "code",
      "source": [
        "name = input('Enter your name: ')\n",
        "company = input('Enetr your company: ')\n",
        "\n",
        "if name == 'Vrushalee' and company == 'XYZ':\n",
        "  print(\"This is me!\")\n",
        "\n",
        "elif name == 'Vrushalee':\n",
        "  print('You have a great name, but are at a lousy company.')\n",
        "\n",
        "elif company == 'XYZ':\n",
        "    print('You are my colleague')\n",
        "else:\n",
        "    print('I hate your name and your company.')\n"
      ],
      "metadata": {
        "colab": {
          "base_uri": "https://localhost:8080/"
        },
        "id": "vX7pvfF9j8yh",
        "outputId": "c39e69ab-f5a9-4391-ee3e-261d8ca54630"
      },
      "execution_count": null,
      "outputs": [
        {
          "output_type": "stream",
          "name": "stdout",
          "text": [
            "Enter your name: Vrushalee\n",
            "Enetr your company: xxxx\n",
            "You have a great name, but are at a lousy company.\n"
          ]
        }
      ]
    },
    {
      "cell_type": "code",
      "source": [
        "# better: define the name/company as variables, so that we don't have to\n",
        "# type them multiple times\n",
        "\n",
        "comparison_name = 'Vrushalee'\n",
        "comparison_company = 'Rajguru'\n",
        "\n",
        "name = input('Enter your name: ')\n",
        "company = input('Enter your company: ')\n",
        "\n",
        "if name == comparison_name and company == comparison_company:\n",
        "    print('You must be me!')\n",
        "elif name == comparison_name:\n",
        "    print('You have a great name, but are at a lousy company.')\n",
        "elif company == comparison_company:\n",
        "    print('You are my colleague')\n",
        "else:\n",
        "    print('I hate your name and your company.')"
      ],
      "metadata": {
        "colab": {
          "base_uri": "https://localhost:8080/"
        },
        "id": "nNeqcu03lAcH",
        "outputId": "e906e457-0172-4d22-9f31-1bc4ebb730dd"
      },
      "execution_count": null,
      "outputs": [
        {
          "output_type": "stream",
          "name": "stdout",
          "text": [
            "Enter your name: vrush\n",
            "Enter your company: zzz\n",
            "I hate your name and your company.\n"
          ]
        }
      ]
    },
    {
      "cell_type": "markdown",
      "source": [
        "**Numbers in Python**\n",
        "\n",
        "The CPUs in our computers do lots of math. They implement math operators. But they do so twice -- once for integers, and once for floating-point numbers. That's because integers are very fast, but sometimes we just need floats.\n",
        "\n",
        "In the same way, Python has two types of numbers:\n",
        "\n",
        "int -- whole numbers, of any size.\n",
        "float -- numbers with a decimal point are floats"
      ],
      "metadata": {
        "id": "z8L0fSTelXIU"
      }
    },
    {
      "cell_type": "code",
      "source": [
        "x = 5\n",
        "type(x)"
      ],
      "metadata": {
        "colab": {
          "base_uri": "https://localhost:8080/"
        },
        "id": "9XlP_SftlfY6",
        "outputId": "e98fc15c-a69e-450b-8330-26b1c98149c9"
      },
      "execution_count": null,
      "outputs": [
        {
          "output_type": "execute_result",
          "data": {
            "text/plain": [
              "int"
            ]
          },
          "metadata": {},
          "execution_count": 45
        }
      ]
    },
    {
      "cell_type": "code",
      "source": [
        "x = 5.2\n",
        "type(x)"
      ],
      "metadata": {
        "colab": {
          "base_uri": "https://localhost:8080/"
        },
        "id": "fGS-u6uulkgT",
        "outputId": "517fc3e3-ebf1-438a-b142-19221275ef70"
      },
      "execution_count": null,
      "outputs": [
        {
          "output_type": "execute_result",
          "data": {
            "text/plain": [
              "float"
            ]
          },
          "metadata": {},
          "execution_count": 46
        }
      ]
    },
    {
      "cell_type": "code",
      "source": [
        "x = 10\n",
        "y = 3\n",
        "\n",
        "x + y"
      ],
      "metadata": {
        "colab": {
          "base_uri": "https://localhost:8080/"
        },
        "id": "mGPu7MbMloCS",
        "outputId": "1e5b0f61-c580-43a6-bcc0-1762df8472b3"
      },
      "execution_count": null,
      "outputs": [
        {
          "output_type": "execute_result",
          "data": {
            "text/plain": [
              "13"
            ]
          },
          "metadata": {},
          "execution_count": 47
        }
      ]
    },
    {
      "cell_type": "code",
      "source": [
        "x - y"
      ],
      "metadata": {
        "colab": {
          "base_uri": "https://localhost:8080/"
        },
        "id": "hvLpEkAMlqkd",
        "outputId": "91886b98-2573-4705-fcd9-c2c64655385d"
      },
      "execution_count": null,
      "outputs": [
        {
          "output_type": "execute_result",
          "data": {
            "text/plain": [
              "7"
            ]
          },
          "metadata": {},
          "execution_count": 50
        }
      ]
    },
    {
      "cell_type": "code",
      "source": [
        "x * y"
      ],
      "metadata": {
        "colab": {
          "base_uri": "https://localhost:8080/"
        },
        "id": "e6EMT05Lluf6",
        "outputId": "8ee9bb4d-22a2-4677-a0da-1048ac37910c"
      },
      "execution_count": null,
      "outputs": [
        {
          "output_type": "execute_result",
          "data": {
            "text/plain": [
              "30"
            ]
          },
          "metadata": {},
          "execution_count": 49
        }
      ]
    },
    {
      "cell_type": "code",
      "source": [
        "x / y   # divison always returns a float!"
      ],
      "metadata": {
        "colab": {
          "base_uri": "https://localhost:8080/"
        },
        "id": "bD5yEeLRl3zl",
        "outputId": "b07aaa2d-e0cc-4946-8985-623be088b28e"
      },
      "execution_count": null,
      "outputs": [
        {
          "output_type": "execute_result",
          "data": {
            "text/plain": [
              "3.3333333333333335"
            ]
          },
          "metadata": {},
          "execution_count": 51
        }
      ]
    },
    {
      "cell_type": "code",
      "source": [
        "x // y    # // is the integer-only version of x/y"
      ],
      "metadata": {
        "colab": {
          "base_uri": "https://localhost:8080/"
        },
        "id": "_Lghjjt4l-ax",
        "outputId": "415891c2-ee87-4448-fdc8-438c022d062c"
      },
      "execution_count": null,
      "outputs": [
        {
          "output_type": "execute_result",
          "data": {
            "text/plain": [
              "3"
            ]
          },
          "metadata": {},
          "execution_count": 52
        }
      ]
    },
    {
      "cell_type": "code",
      "source": [
        "x ** y    # x to the y power"
      ],
      "metadata": {
        "colab": {
          "base_uri": "https://localhost:8080/"
        },
        "id": "-11P88dImEDF",
        "outputId": "b2da9e5c-2aba-4459-bef7-fb79f48f7ba1"
      },
      "execution_count": null,
      "outputs": [
        {
          "output_type": "execute_result",
          "data": {
            "text/plain": [
              "1000"
            ]
          },
          "metadata": {},
          "execution_count": 53
        }
      ]
    },
    {
      "cell_type": "code",
      "source": [
        "x % y   # x/y, this returns the remainder"
      ],
      "metadata": {
        "colab": {
          "base_uri": "https://localhost:8080/"
        },
        "id": "Rn7LPYyqmJVi",
        "outputId": "7ea54137-3f82-4864-88c5-56b3deb77abc"
      },
      "execution_count": null,
      "outputs": [
        {
          "output_type": "execute_result",
          "data": {
            "text/plain": [
              "1"
            ]
          },
          "metadata": {},
          "execution_count": 54
        }
      ]
    },
    {
      "cell_type": "code",
      "source": [
        "# how can I add 1 to an integer, and then have that value stick in our variable?\n",
        "\n",
        "x = 10\n",
        "x = x + 1   # this is very very weird syntax if you're new to programming!\n",
        "print (x)"
      ],
      "metadata": {
        "colab": {
          "base_uri": "https://localhost:8080/"
        },
        "id": "DWOPWWWcmQVe",
        "outputId": "7a540a3a-d967-41da-fd1d-9c31fb792592"
      },
      "execution_count": null,
      "outputs": [
        {
          "output_type": "stream",
          "name": "stdout",
          "text": [
            "11\n"
          ]
        }
      ]
    },
    {
      "cell_type": "code",
      "source": [
        "# a shorter version of this is:\n",
        "\n",
        "x += 1   # this also means: add 1 to x\n",
        "\n"
      ],
      "metadata": {
        "id": "uDhI2G3Dmc72"
      },
      "execution_count": null,
      "outputs": []
    },
    {
      "cell_type": "markdown",
      "source": [
        "**What if we have a string? Can we turn it into an integer?**\n",
        "\n",
        "Answer: Yes! We can invoke int as a function on the string, and get back a new integer based on it."
      ],
      "metadata": {
        "id": "y6Ab-uBsXkky"
      }
    },
    {
      "cell_type": "code",
      "source": [
        "s = '1234'\n",
        "\n",
        "int(s)   # I'll get an integer back"
      ],
      "metadata": {
        "colab": {
          "base_uri": "https://localhost:8080/"
        },
        "id": "Kd1eIiutXoCL",
        "outputId": "6f09ca34-538b-4d23-a692-8fcf261fc55d"
      },
      "execution_count": null,
      "outputs": [
        {
          "output_type": "execute_result",
          "data": {
            "text/plain": [
              "1234"
            ]
          },
          "metadata": {},
          "execution_count": 1
        }
      ]
    },
    {
      "cell_type": "markdown",
      "source": [
        "**Exercise: Guessing game**\n",
        "\n",
        "1.We're going to choose a random number, and assign it to number. (I'll show you how to do this.)\n",
        "\n",
        "2.Print the random number, so that we can more easily debug.\n",
        "\n",
        "3.Ask the user to enter their guess.\n",
        "\n",
        "4.Print one of the following:\n",
        "\n",
        "-Too high!\n",
        "\n",
        "-Too low!\n",
        "\n",
        "-Just right!\n",
        "\n",
        "5.The user gets one guess!"
      ],
      "metadata": {
        "id": "X67WPnHeX0ES"
      }
    },
    {
      "cell_type": "markdown",
      "source": [
        "**How do we get a random number?**\n",
        "import random        # this loads the \"library\" of random-related functionality\n",
        "\n",
        "number = random.randint(0, 100)"
      ],
      "metadata": {
        "id": "63T2UI-kYLxA"
      }
    },
    {
      "cell_type": "code",
      "source": [
        "import random\n",
        "number = random.randint(0, 100)   # from 0 up to (and including!) 100\n",
        "\n",
        "print(f'The number is {number}.')\n",
        "\n",
        "# there is nothing wrong with this, but there are other versions\n",
        "guess = input('Enter your guess: ')\n",
        "guess = int(guess)\n",
        "\n",
        "# we could also say:\n",
        "# guess = int(input('Enter your guess: '))\n",
        "\n",
        "if guess == number:\n",
        "    print('You got it!')\n",
        "elif guess < number:\n",
        "    print('Too low!')\n",
        "else:\n",
        "    print('Too high!')"
      ],
      "metadata": {
        "colab": {
          "base_uri": "https://localhost:8080/"
        },
        "id": "WjcjCSlEYTfz",
        "outputId": "75ba6824-37dc-4d7a-cb76-63b50011e1ef"
      },
      "execution_count": null,
      "outputs": [
        {
          "output_type": "stream",
          "name": "stdout",
          "text": [
            "The number is 30.\n",
            "Enter your guess: 30\n",
            "You got it!\n"
          ]
        }
      ]
    },
    {
      "cell_type": "markdown",
      "source": [
        "**Next up:**\n",
        "\n",
        "1.Basic strings\n",
        "\n",
        "2.Retrieving from strings with [] and slices\n",
        "\n",
        "3.Checking if something is in there with in\n",
        "\n",
        "4.Final project (for today)!"
      ],
      "metadata": {
        "id": "u6aeIkmoYtgq"
      }
    },
    {
      "cell_type": "code",
      "source": [
        "# this means: ask the user for a string, and assign it to guess\n",
        "guess = input(\"Enter number \")"
      ],
      "metadata": {
        "colab": {
          "base_uri": "https://localhost:8080/"
        },
        "id": "oOZH5sueY2IJ",
        "outputId": "da088edd-b71a-48ea-9386-4e5be1c20d99"
      },
      "execution_count": null,
      "outputs": [
        {
          "name": "stdout",
          "output_type": "stream",
          "text": [
            "Enter number 9\n"
          ]
        }
      ]
    },
    {
      "cell_type": "code",
      "source": [
        "guess\n"
      ],
      "metadata": {
        "colab": {
          "base_uri": "https://localhost:8080/",
          "height": 35
        },
        "id": "OFScAImTY89-",
        "outputId": "0e42f3a7-8fc2-4964-e1c6-5c6898a3cdba"
      },
      "execution_count": null,
      "outputs": [
        {
          "output_type": "execute_result",
          "data": {
            "text/plain": [
              "'9'"
            ],
            "application/vnd.google.colaboratory.intrinsic+json": {
              "type": "string"
            }
          },
          "metadata": {},
          "execution_count": 5
        }
      ]
    },
    {
      "cell_type": "code",
      "source": [
        "# I want to turn it into an integer\n",
        "\n",
        "# this syntax won't work, because assignment is always a value on the right\n",
        "# and a variable on the left\n",
        "\n",
        "int(guess) = input('Enter number ')"
      ],
      "metadata": {
        "colab": {
          "base_uri": "https://localhost:8080/",
          "height": 140
        },
        "id": "kyJsEM-tZFnv",
        "outputId": "dcdd3687-9258-48f6-ba03-f6c5d0f71e85"
      },
      "execution_count": null,
      "outputs": [
        {
          "output_type": "error",
          "ename": "SyntaxError",
          "evalue": "ignored",
          "traceback": [
            "\u001b[0;36m  File \u001b[0;32m\"<ipython-input-6-b0b76b5aaeac>\"\u001b[0;36m, line \u001b[0;32m6\u001b[0m\n\u001b[0;31m    int(guess) = input('Enter number ')\u001b[0m\n\u001b[0m    ^\u001b[0m\n\u001b[0;31mSyntaxError\u001b[0m\u001b[0;31m:\u001b[0m cannot assign to function call here. Maybe you meant '==' instead of '='?\n"
          ]
        }
      ]
    },
    {
      "cell_type": "code",
      "source": [
        "# instead, you need to prepare the value on the *right* side, not the left side\n",
        "\n",
        "guess = int(input('Enter number: '))"
      ],
      "metadata": {
        "colab": {
          "base_uri": "https://localhost:8080/"
        },
        "id": "OK3PL7P8ZK_N",
        "outputId": "ccf07905-704d-4341-9153-b393cef3317e"
      },
      "execution_count": null,
      "outputs": [
        {
          "name": "stdout",
          "output_type": "stream",
          "text": [
            "Enter number: 78\n"
          ]
        }
      ]
    },
    {
      "cell_type": "code",
      "source": [
        "type(guess)"
      ],
      "metadata": {
        "colab": {
          "base_uri": "https://localhost:8080/"
        },
        "id": "JuVR1cmwZUIA",
        "outputId": "f047b630-c929-44a2-80e4-8c6d892bd5b3"
      },
      "execution_count": null,
      "outputs": [
        {
          "output_type": "execute_result",
          "data": {
            "text/plain": [
              "int"
            ]
          },
          "metadata": {},
          "execution_count": 8
        }
      ]
    },
    {
      "cell_type": "markdown",
      "source": [
        "**Strings**\n",
        "\n",
        "\"String\" is the term used in programming for \"text.\" In Python, our str type handles all of our text. Whether it's super short or super long, we'll be using strings.\n",
        "\n",
        "We can define strings in Python in a few different ways:\n",
        "\n",
        "Single quotes, as in 'hello'\n",
        "\n",
        "Double quotes, as in \"hello\"\n",
        "\n",
        "f-strings, as in f\"hello {name}\"\n",
        "\n",
        "(And a few more.)\n",
        "\n",
        "How many characters are in a string? We can find out with len(s), if s is the string"
      ],
      "metadata": {
        "id": "K_JCvs-DZbAf"
      }
    },
    {
      "cell_type": "code",
      "source": [
        "s = 'abcdefg'\n",
        "\n",
        "len(s)"
      ],
      "metadata": {
        "colab": {
          "base_uri": "https://localhost:8080/"
        },
        "id": "kqpktJnDZkIx",
        "outputId": "de66fb45-26e4-4d1e-fdbf-259424b36597"
      },
      "execution_count": null,
      "outputs": [
        {
          "output_type": "execute_result",
          "data": {
            "text/plain": [
              "7"
            ]
          },
          "metadata": {},
          "execution_count": 9
        }
      ]
    },
    {
      "cell_type": "code",
      "source": [
        "s = 'abcd efg'\n",
        "len(s)   # how many characters?"
      ],
      "metadata": {
        "colab": {
          "base_uri": "https://localhost:8080/"
        },
        "id": "i7vNjpUCZqe9",
        "outputId": "64e89794-0576-45da-80ac-632f50e32d2b"
      },
      "execution_count": null,
      "outputs": [
        {
          "output_type": "execute_result",
          "data": {
            "text/plain": [
              "8"
            ]
          },
          "metadata": {},
          "execution_count": 10
        }
      ]
    },
    {
      "cell_type": "code",
      "source": [
        "# there are some special characters, such as \\n, which is a newline\n",
        "# in Python, we need to type it with two characters, \\n\n",
        "# in fact, it's just one character.\n",
        "\n",
        "# there are others, such as \\t (tab)... so be careful using \\ in your strings\n",
        "\n",
        "s = 'abcd\\nefgh'\n",
        "len(s)"
      ],
      "metadata": {
        "colab": {
          "base_uri": "https://localhost:8080/"
        },
        "id": "Kzimpas1Zxkq",
        "outputId": "9f79e4ba-f2b5-4aaf-b73f-ddfd6ae8faed"
      },
      "execution_count": null,
      "outputs": [
        {
          "output_type": "execute_result",
          "data": {
            "text/plain": [
              "9"
            ]
          },
          "metadata": {},
          "execution_count": 11
        }
      ]
    },
    {
      "cell_type": "code",
      "source": [
        "print(s)"
      ],
      "metadata": {
        "colab": {
          "base_uri": "https://localhost:8080/"
        },
        "id": "a8BUXXEHZ6ue",
        "outputId": "d3820272-66a4-4b4b-de03-7d318159bfeb"
      },
      "execution_count": null,
      "outputs": [
        {
          "output_type": "stream",
          "name": "stdout",
          "text": [
            "abcd\n",
            "efgh\n"
          ]
        }
      ]
    },
    {
      "cell_type": "code",
      "source": [
        "s = 'abcdefghijklmnopqrstuvwxyz'\n",
        "len(s)"
      ],
      "metadata": {
        "colab": {
          "base_uri": "https://localhost:8080/"
        },
        "id": "xkwouoh6Z_lY",
        "outputId": "8c1b01d8-979e-4dae-db7c-ce2d8a71573b"
      },
      "execution_count": null,
      "outputs": [
        {
          "output_type": "execute_result",
          "data": {
            "text/plain": [
              "26"
            ]
          },
          "metadata": {},
          "execution_count": 13
        }
      ]
    },
    {
      "cell_type": "code",
      "source": [
        "# how can I retrieve the first character in this string?\n",
        "# I'm going to use [] after the variable name, and I'll put an integer index in there\n",
        "# indexes start with 0\n",
        "\n",
        "s[0]"
      ],
      "metadata": {
        "colab": {
          "base_uri": "https://localhost:8080/",
          "height": 35
        },
        "id": "9s9obWnpaGbx",
        "outputId": "be5a075f-5284-400a-ef68-7b700194126f"
      },
      "execution_count": null,
      "outputs": [
        {
          "output_type": "execute_result",
          "data": {
            "text/plain": [
              "'a'"
            ],
            "application/vnd.google.colaboratory.intrinsic+json": {
              "type": "string"
            }
          },
          "metadata": {},
          "execution_count": 14
        }
      ]
    },
    {
      "cell_type": "code",
      "source": [
        "s[9]"
      ],
      "metadata": {
        "colab": {
          "base_uri": "https://localhost:8080/",
          "height": 35
        },
        "id": "TFK45JvFaLk-",
        "outputId": "d1a3889e-c846-44ac-cdb9-f9ed5087d3af"
      },
      "execution_count": null,
      "outputs": [
        {
          "output_type": "execute_result",
          "data": {
            "text/plain": [
              "'j'"
            ],
            "application/vnd.google.colaboratory.intrinsic+json": {
              "type": "string"
            }
          },
          "metadata": {},
          "execution_count": 15
        }
      ]
    },
    {
      "cell_type": "code",
      "source": [
        "# I can use a variable instead of the literal 0\n",
        "\n",
        "i = 0\n",
        "s[i]"
      ],
      "metadata": {
        "colab": {
          "base_uri": "https://localhost:8080/",
          "height": 35
        },
        "id": "Mh40NoEHaQzD",
        "outputId": "093712d2-4bd7-44ab-9864-ad4dd1ea8208"
      },
      "execution_count": null,
      "outputs": [
        {
          "output_type": "execute_result",
          "data": {
            "text/plain": [
              "'a'"
            ],
            "application/vnd.google.colaboratory.intrinsic+json": {
              "type": "string"
            }
          },
          "metadata": {},
          "execution_count": 16
        }
      ]
    },
    {
      "cell_type": "code",
      "source": [
        "# what's the 15th character?\n",
        "s[14]"
      ],
      "metadata": {
        "colab": {
          "base_uri": "https://localhost:8080/",
          "height": 35
        },
        "id": "3WlI7FYraVoo",
        "outputId": "3ca5675c-8e93-47cd-c6ad-fe8bc1c58fc6"
      },
      "execution_count": null,
      "outputs": [
        {
          "output_type": "execute_result",
          "data": {
            "text/plain": [
              "'o'"
            ],
            "application/vnd.google.colaboratory.intrinsic+json": {
              "type": "string"
            }
          },
          "metadata": {},
          "execution_count": 17
        }
      ]
    },
    {
      "cell_type": "code",
      "source": [
        "# what's the final character?\n",
        "# If I know the length, I can just subtract 1\n",
        "\n",
        "s[len(s) - 1]"
      ],
      "metadata": {
        "colab": {
          "base_uri": "https://localhost:8080/",
          "height": 35
        },
        "id": "wVwdEW0Daa_G",
        "outputId": "4ee267f3-d8e6-45a0-a1f2-89dbd1fa4b5c"
      },
      "execution_count": null,
      "outputs": [
        {
          "output_type": "execute_result",
          "data": {
            "text/plain": [
              "'z'"
            ],
            "application/vnd.google.colaboratory.intrinsic+json": {
              "type": "string"
            }
          },
          "metadata": {},
          "execution_count": 18
        }
      ]
    },
    {
      "cell_type": "code",
      "source": [
        "# the above is not very Pythonic, as we call it\n",
        "# there's a far better way\n",
        "\n",
        "s[-1]  # negative indexes count from the right, not the left"
      ],
      "metadata": {
        "colab": {
          "base_uri": "https://localhost:8080/",
          "height": 35
        },
        "id": "5MQbWQieaiIa",
        "outputId": "d615ebe4-d6c5-4d47-bfed-1a1430747e95"
      },
      "execution_count": null,
      "outputs": [
        {
          "output_type": "execute_result",
          "data": {
            "text/plain": [
              "'z'"
            ],
            "application/vnd.google.colaboratory.intrinsic+json": {
              "type": "string"
            }
          },
          "metadata": {},
          "execution_count": 19
        }
      ]
    },
    {
      "cell_type": "code",
      "source": [
        "s[-5]"
      ],
      "metadata": {
        "colab": {
          "base_uri": "https://localhost:8080/",
          "height": 35
        },
        "id": "8dsXDANDao7A",
        "outputId": "c3bdf819-c504-4824-e209-1aa327249435"
      },
      "execution_count": null,
      "outputs": [
        {
          "output_type": "execute_result",
          "data": {
            "text/plain": [
              "'v'"
            ],
            "application/vnd.google.colaboratory.intrinsic+json": {
              "type": "string"
            }
          },
          "metadata": {},
          "execution_count": 20
        }
      ]
    },
    {
      "cell_type": "code",
      "source": [
        "# searching in a string\n",
        "# we can use the \"in\" operator to tell us whether a string contains something smaller\n",
        "\n",
        "# SMALL in BIG  -- returns a boolean\n",
        "'a' in 'abcde'"
      ],
      "metadata": {
        "colab": {
          "base_uri": "https://localhost:8080/"
        },
        "id": "3_MVJ0-Ma1bE",
        "outputId": "9d09d262-64c3-4b5b-c68e-dfd3a4e49a63"
      },
      "execution_count": null,
      "outputs": [
        {
          "output_type": "execute_result",
          "data": {
            "text/plain": [
              "True"
            ]
          },
          "metadata": {},
          "execution_count": 21
        }
      ]
    },
    {
      "cell_type": "code",
      "source": [
        "'x' in 'abcde'"
      ],
      "metadata": {
        "colab": {
          "base_uri": "https://localhost:8080/"
        },
        "id": "117Iupira5jB",
        "outputId": "b6bc8fc0-00b7-4195-fe9f-ae17006c4012"
      },
      "execution_count": null,
      "outputs": [
        {
          "output_type": "execute_result",
          "data": {
            "text/plain": [
              "False"
            ]
          },
          "metadata": {},
          "execution_count": 22
        }
      ]
    },
    {
      "cell_type": "code",
      "source": [
        "# slices -- we can retrieve multiple characters from a string, with a \"slice\"\n",
        "# in the [], we put two integers -- the starting index, and one past the ending endex\n",
        "\n",
        "s[10:20]   # s from index 10 up to and not including index 20"
      ],
      "metadata": {
        "colab": {
          "base_uri": "https://localhost:8080/",
          "height": 35
        },
        "id": "0DLVddzFa9S3",
        "outputId": "09eed3d5-0de9-46ff-a458-a395ca1cd26d"
      },
      "execution_count": null,
      "outputs": [
        {
          "output_type": "execute_result",
          "data": {
            "text/plain": [
              "'klmnopqrst'"
            ],
            "application/vnd.google.colaboratory.intrinsic+json": {
              "type": "string"
            }
          },
          "metadata": {},
          "execution_count": 23
        }
      ]
    },
    {
      "cell_type": "code",
      "source": [
        "s[15:]   # s from index 15 through the end of the string"
      ],
      "metadata": {
        "colab": {
          "base_uri": "https://localhost:8080/",
          "height": 35
        },
        "id": "u8G6Z8kMbCbb",
        "outputId": "0707d3cc-3cad-4e77-ec70-b933015369a6"
      },
      "execution_count": null,
      "outputs": [
        {
          "output_type": "execute_result",
          "data": {
            "text/plain": [
              "'pqrstuvwxyz'"
            ],
            "application/vnd.google.colaboratory.intrinsic+json": {
              "type": "string"
            }
          },
          "metadata": {},
          "execution_count": 24
        }
      ]
    },
    {
      "cell_type": "code",
      "source": [
        "s[:10]  # s from the start up to (and not including) index 10"
      ],
      "metadata": {
        "colab": {
          "base_uri": "https://localhost:8080/",
          "height": 35
        },
        "id": "9MjjLrrPbGZk",
        "outputId": "95e3ab61-0286-4383-92ae-d5e79f6e64ee"
      },
      "execution_count": null,
      "outputs": [
        {
          "output_type": "execute_result",
          "data": {
            "text/plain": [
              "'abcdefghij'"
            ],
            "application/vnd.google.colaboratory.intrinsic+json": {
              "type": "string"
            }
          },
          "metadata": {},
          "execution_count": 25
        }
      ]
    },
    {
      "cell_type": "markdown",
      "source": [
        "**Exercise: Get a character**\n",
        "\n",
        "1.Ask the user to enter a word (a string).\n",
        "\n",
        "2.Ask the user to enter an integer, an index in that string.\n",
        "\n",
        "3.If the index is negative or too high, then scold the user\n",
        "\n",
        "4.Otherwise, print the character at that index.\n",
        "\n",
        "5.Example:\n",
        "\n",
        "6.Enter a word: television\n",
        "\n",
        "7.Enter an index: 3\n",
        "\n",
        "8.The character at index 3 is e."
      ],
      "metadata": {
        "id": "fLzeh9_TbKej"
      }
    },
    {
      "cell_type": "code",
      "source": [
        "word = input('Enter a word: ')\n",
        "index = input('Enter an index: ')\n",
        "index = int(index)\n",
        "\n",
        "if index >= len(word):\n",
        "    print(f'Index is too high')\n",
        "elif index < 0:\n",
        "    print(f'Index is too low')\n",
        "else:\n",
        "    character = word[index]\n",
        "    print(f'The character at index {index} is {character}.')"
      ],
      "metadata": {
        "colab": {
          "base_uri": "https://localhost:8080/"
        },
        "id": "hMUOJ4QVbWgl",
        "outputId": "904bc8cb-ec46-4d05-d92d-abb783dc1834"
      },
      "execution_count": null,
      "outputs": [
        {
          "output_type": "stream",
          "name": "stdout",
          "text": [
            "Enter a word: Vrushalee\n",
            "Enter an index: 3\n",
            "The character at index 3 is s.\n"
          ]
        }
      ]
    },
    {
      "cell_type": "markdown",
      "source": [
        "**Exercise: Pig Latin translator**\n",
        "\n",
        "Pig Latin (has nothing to do with pigs, and nothing to do with Latin!) is a children's \"secret\" language. The idea is that you can translate from English into Pig Latin.\n",
        "\n",
        "There are two rules:\n",
        "\n",
        "If a word starts with a vowel, then we add way to it.\n",
        "Otherwise, move the first letter to the end, and add ay.\n",
        "Some examples:\n",
        "\n",
        "computer -> omputercay\n",
        "\n",
        "elephant -> elephantway\n",
        "\n",
        "papaya -> apayapay\n",
        "\n",
        "octopus -> octopusway\n",
        "\n",
        "What's our strategy?\n",
        "\n",
        "Get a word from the user. All lowercase, no punctuation, no spaces.\n",
        "\n",
        "Check the first letter. Is it a vowel?\n",
        "\n",
        "If so, then just print the word and way\n",
        "\n",
        "If not, then create a new string from (a) everything but the first character,\n",
        "(b) the first character, and ay"
      ],
      "metadata": {
        "id": "YYJNLBETcz88"
      }
    },
    {
      "cell_type": "code",
      "source": [
        "word = input('Enter a word: ')\n",
        "\n",
        "# I need to check if the word starts with a vowel?\n",
        "\n",
        "if word[0] in 'aeiou':\n",
        "    print(word + 'way')\n",
        "else:\n",
        "    print(word[1:] + word[0] + 'ay')"
      ],
      "metadata": {
        "colab": {
          "base_uri": "https://localhost:8080/"
        },
        "id": "boNha8q3c_Yy",
        "outputId": "a1505cf3-5576-4fe3-e170-baa532dd8492"
      },
      "execution_count": null,
      "outputs": [
        {
          "output_type": "stream",
          "name": "stdout",
          "text": [
            "Enter a word: saurabh\n",
            "aurabhsay\n"
          ]
        }
      ]
    },
    {
      "cell_type": "markdown",
      "source": [
        "**Strings are immutable!**\n",
        "\n",
        "Once defined, a string can NEVER be changed."
      ],
      "metadata": {
        "id": "-JbexJcodfNQ"
      }
    },
    {
      "cell_type": "code",
      "source": [
        "s"
      ],
      "metadata": {
        "colab": {
          "base_uri": "https://localhost:8080/",
          "height": 35
        },
        "id": "oIrOHj3ZdifK",
        "outputId": "7533dfa3-dc5d-4a45-f7cc-a4e6758233e2"
      },
      "execution_count": null,
      "outputs": [
        {
          "output_type": "execute_result",
          "data": {
            "text/plain": [
              "'abcdefghijklmnopqrstuvwxyz'"
            ],
            "application/vnd.google.colaboratory.intrinsic+json": {
              "type": "string"
            }
          },
          "metadata": {},
          "execution_count": 30
        }
      ]
    },
    {
      "cell_type": "code",
      "source": [
        "s[0] = '!'   # I'll try to modify the first character of the string"
      ],
      "metadata": {
        "colab": {
          "base_uri": "https://localhost:8080/",
          "height": 175
        },
        "id": "RRjFdI4Kdn8F",
        "outputId": "8c348654-df56-45b4-be57-1a6386732fb6"
      },
      "execution_count": null,
      "outputs": [
        {
          "output_type": "error",
          "ename": "TypeError",
          "evalue": "ignored",
          "traceback": [
            "\u001b[0;31m---------------------------------------------------------------------------\u001b[0m",
            "\u001b[0;31mTypeError\u001b[0m                                 Traceback (most recent call last)",
            "\u001b[0;32m<ipython-input-31-057840b825a0>\u001b[0m in \u001b[0;36m<cell line: 1>\u001b[0;34m()\u001b[0m\n\u001b[0;32m----> 1\u001b[0;31m \u001b[0ms\u001b[0m\u001b[0;34m[\u001b[0m\u001b[0;36m0\u001b[0m\u001b[0;34m]\u001b[0m \u001b[0;34m=\u001b[0m \u001b[0;34m'!'\u001b[0m   \u001b[0;31m# I'll try to modify the first character of the string\u001b[0m\u001b[0;34m\u001b[0m\u001b[0;34m\u001b[0m\u001b[0m\n\u001b[0m",
            "\u001b[0;31mTypeError\u001b[0m: 'str' object does not support item assignment"
          ]
        }
      ]
    },
    {
      "cell_type": "markdown",
      "source": [
        "I can assign a new, different string (or other type) to a variable. Variables are not constants."
      ],
      "metadata": {
        "id": "ZmyLSn1_duYO"
      }
    },
    {
      "cell_type": "markdown",
      "source": [
        "**Methods**\n",
        "\n",
        "So far, all of the verbs we've seen in Python are functions:\n",
        "\n",
        "1.print\n",
        "\n",
        "2.input\n",
        "\n",
        "3.len\n",
        "\n",
        "They all run as follows:\n",
        "\n",
        "FUNC(DATA)\n",
        "\n",
        "Most of the verbs in Python are not functions. Rather, they are \"methods,\" which is a fancy term to describe functions that are attached to a particular class of data.\n",
        "\n",
        "There are string methods, list methods, dict methods, etc. etc.\n",
        "\n",
        "We invoke methods differently:\n",
        "\n",
        "DATA.METHOD(ARG1)\n",
        "\n",
        "Notice that here, the data comes first, and the method name comes second, separated by a ..\n",
        "\n",
        "Let's demonstrate 2-3 methods\n",
        "\n",
        "Method #1: str.strip()\n",
        "\n",
        "This string method returns a new string , based on another string, without any whitespace (space, tab, etc.) on the edges of the string.\n",
        "\n"
      ],
      "metadata": {
        "id": "wuRvZD5ud6k3"
      }
    },
    {
      "cell_type": "code",
      "source": [
        "s = '    abcde    '\n",
        "s.strip()"
      ],
      "metadata": {
        "colab": {
          "base_uri": "https://localhost:8080/",
          "height": 35
        },
        "id": "UV2zRCdHeGdA",
        "outputId": "66de8640-c04c-45e7-a0ef-ce892bc837dc"
      },
      "execution_count": null,
      "outputs": [
        {
          "output_type": "execute_result",
          "data": {
            "text/plain": [
              "'abcde'"
            ],
            "application/vnd.google.colaboratory.intrinsic+json": {
              "type": "string"
            }
          },
          "metadata": {},
          "execution_count": 32
        }
      ]
    },
    {
      "cell_type": "code",
      "source": [
        "# this is great when getting input from the user!\n",
        "\n",
        "name  = input('Enter your name: ')\n"
      ],
      "metadata": {
        "colab": {
          "base_uri": "https://localhost:8080/"
        },
        "id": "jeV7apLbeSm0",
        "outputId": "8e9c60ba-3ce1-4be1-db0d-2a1d9b8022be"
      },
      "execution_count": null,
      "outputs": [
        {
          "name": "stdout",
          "output_type": "stream",
          "text": [
            "Enter your name:               Vrushalee\n"
          ]
        }
      ]
    },
    {
      "cell_type": "code",
      "source": [
        "print(f'Hello, {name}.')"
      ],
      "metadata": {
        "colab": {
          "base_uri": "https://localhost:8080/"
        },
        "id": "AIz_ClJpeboK",
        "outputId": "c2ca6db3-1791-4a1d-895b-0b25d2f783cb"
      },
      "execution_count": null,
      "outputs": [
        {
          "output_type": "stream",
          "name": "stdout",
          "text": [
            "Hello,               Vrushalee.\n"
          ]
        }
      ]
    },
    {
      "cell_type": "code",
      "source": [
        "name  = input('Enter your name: ').strip()\n",
        "print(f'Hello, {name}.')\n"
      ],
      "metadata": {
        "colab": {
          "base_uri": "https://localhost:8080/"
        },
        "id": "pJfNI2Llefpz",
        "outputId": "e33dd7ae-3cdc-4706-e75e-2025033744e9"
      },
      "execution_count": null,
      "outputs": [
        {
          "output_type": "stream",
          "name": "stdout",
          "text": [
            "Enter your name:                   Vrushalee\n",
            "Hello, Vrushalee.\n"
          ]
        }
      ]
    },
    {
      "cell_type": "markdown",
      "source": [
        "**Method #2: str.isdigit()**\n",
        "\n",
        "This returns True if the string contains only digits 0-9. This is a great way to make sure we're getting numeric input."
      ],
      "metadata": {
        "id": "jMQyeNVaeljt"
      }
    },
    {
      "cell_type": "code",
      "source": [
        "s = input('Enter a number: ')\n",
        "\n",
        "if s.isdigit():   # only run code in the block if s contains only digits 0-9\n",
        "    n = int(s)\n",
        "    print(f'{n} * 3 = {n*3}')\n",
        "else:\n",
        "    print(f's is not numeric')"
      ],
      "metadata": {
        "colab": {
          "base_uri": "https://localhost:8080/"
        },
        "id": "epUZ2iv1epKZ",
        "outputId": "ddb74ee9-3124-4742-80f0-33e1e8825618"
      },
      "execution_count": null,
      "outputs": [
        {
          "output_type": "stream",
          "name": "stdout",
          "text": [
            "Enter a number: 123456\n",
            "123456 * 3 = 370368\n"
          ]
        }
      ]
    },
    {
      "cell_type": "code",
      "source": [
        "# can we do this?\n",
        "\n",
        "name = int(input(\"enter your name: \").strip())"
      ],
      "metadata": {
        "colab": {
          "base_uri": "https://localhost:8080/",
          "height": 227
        },
        "id": "prYJAo9Ye5SQ",
        "outputId": "50d369f9-b2a0-4c3f-a465-5f90b5e9ace1"
      },
      "execution_count": null,
      "outputs": [
        {
          "name": "stdout",
          "output_type": "stream",
          "text": [
            "enter your name:            bbbbbjj\n"
          ]
        },
        {
          "output_type": "error",
          "ename": "ValueError",
          "evalue": "ignored",
          "traceback": [
            "\u001b[0;31m---------------------------------------------------------------------------\u001b[0m",
            "\u001b[0;31mValueError\u001b[0m                                Traceback (most recent call last)",
            "\u001b[0;32m<ipython-input-37-b9a6573a2e38>\u001b[0m in \u001b[0;36m<cell line: 3>\u001b[0;34m()\u001b[0m\n\u001b[1;32m      1\u001b[0m \u001b[0;31m# can we do this?\u001b[0m\u001b[0;34m\u001b[0m\u001b[0;34m\u001b[0m\u001b[0m\n\u001b[1;32m      2\u001b[0m \u001b[0;34m\u001b[0m\u001b[0m\n\u001b[0;32m----> 3\u001b[0;31m \u001b[0mname\u001b[0m \u001b[0;34m=\u001b[0m \u001b[0mint\u001b[0m\u001b[0;34m(\u001b[0m\u001b[0minput\u001b[0m\u001b[0;34m(\u001b[0m\u001b[0;34m\"enter your name: \"\u001b[0m\u001b[0;34m)\u001b[0m\u001b[0;34m.\u001b[0m\u001b[0mstrip\u001b[0m\u001b[0;34m(\u001b[0m\u001b[0;34m)\u001b[0m\u001b[0;34m)\u001b[0m\u001b[0;34m\u001b[0m\u001b[0;34m\u001b[0m\u001b[0m\n\u001b[0m",
            "\u001b[0;31mValueError\u001b[0m: invalid literal for int() with base 10: 'bbbbbjj'"
          ]
        }
      ]
    },
    {
      "cell_type": "code",
      "source": [
        "s = 'aBcD eFgH'\n",
        "\n",
        "s.capitalize()"
      ],
      "metadata": {
        "colab": {
          "base_uri": "https://localhost:8080/",
          "height": 35
        },
        "id": "GyQNOtEZfI_u",
        "outputId": "ed456a5d-46d8-47ce-e7e8-8c35b89a90a3"
      },
      "execution_count": null,
      "outputs": [
        {
          "output_type": "execute_result",
          "data": {
            "text/plain": [
              "'Abcd efgh'"
            ],
            "application/vnd.google.colaboratory.intrinsic+json": {
              "type": "string"
            }
          },
          "metadata": {},
          "execution_count": 38
        }
      ]
    },
    {
      "cell_type": "code",
      "source": [
        "# method chaining!\n",
        "\n",
        "name = input('Enter a string: ').strip().capitalize()\n",
        "print(name)"
      ],
      "metadata": {
        "colab": {
          "base_uri": "https://localhost:8080/"
        },
        "id": "vKr4-5OIfM_g",
        "outputId": "819f43bb-fc15-450f-a60e-942f89728ef6"
      },
      "execution_count": null,
      "outputs": [
        {
          "output_type": "stream",
          "name": "stdout",
          "text": [
            "Enter a string:    helloo\n",
            "Helloo\n"
          ]
        }
      ]
    },
    {
      "cell_type": "code",
      "source": [
        "# https://PracticeYourPython.com  -- collection of sites that do Python exercises"
      ],
      "metadata": {
        "id": "D7-reXTEfZrV"
      },
      "execution_count": null,
      "outputs": []
    },
    {
      "cell_type": "code",
      "source": [
        "phone_number = '9923960000'\n",
        "print(phone_number[-7:])"
      ],
      "metadata": {
        "colab": {
          "base_uri": "https://localhost:8080/"
        },
        "id": "PaS8NFjsV1WM",
        "outputId": "a6040b23-a319-4b7f-f184-51bb6602baf1"
      },
      "execution_count": 2,
      "outputs": [
        {
          "output_type": "stream",
          "name": "stdout",
          "text": [
            "3960000\n"
          ]
        }
      ]
    }
  ]
}