{
  "nbformat": 4,
  "nbformat_minor": 0,
  "metadata": {
    "colab": {
      "provenance": [],
      "authorship_tag": "ABX9TyMesjkFQA+CWD9hYKz2+CoB",
      "include_colab_link": true
    },
    "kernelspec": {
      "name": "python3",
      "display_name": "Python 3"
    },
    "language_info": {
      "name": "python"
    }
  },
  "cells": [
    {
      "cell_type": "markdown",
      "metadata": {
        "id": "view-in-github",
        "colab_type": "text"
      },
      "source": [
        "<a href=\"https://colab.research.google.com/github/vrushalee18/PythonBeginner/blob/main/PythonBeginner_2.ipynb\" target=\"_parent\"><img src=\"https://colab.research.google.com/assets/colab-badge.svg\" alt=\"Open In Colab\"/></a>"
      ]
    },
    {
      "cell_type": "markdown",
      "source": [
        "**Agenda: Loops, lists, and tuples**\n",
        "\n",
        "1.Loops\n",
        "\n",
        "What are they?\n",
        "\n",
        "for loops\n",
        "\n",
        "for loops a number of times\n",
        "\n",
        "while loops\n",
        "\n",
        "Breaking out of a loop\n",
        "\n",
        "2.Lists\n",
        "\n",
        "What are lists?\n",
        "\n",
        "How are lists similar to strings?\n",
        "\n",
        "How are lists different from strings?\n",
        "\n",
        "Looping over lists\n",
        "\n",
        "Lists are mutable -- how to add to or remove from a list\n",
        "\n",
        "3.Strings to lists, and back\n",
        "\n",
        "Turn a string into a list (with str.split)\n",
        "\n",
        "Turn a list of strings into a string (with str.join)\n",
        "\n",
        "4.Tuples\n",
        "\n",
        "What are they? (What do we care?)\n",
        "\n",
        "Tuple unpacking, and how great it is\n",
        "\n",
        "**DRY -- don't repeat yourself!**\n",
        "\n",
        "This is one of the most important rules in all of programming. (\"Pragmatic Programmer\" book first told me about it.)\n",
        "\n",
        "\n",
        "If you have some code that repeats itself, several lines in a row, then you should find a way to avoid doing that.\n",
        "\n"
      ],
      "metadata": {
        "id": "1WBJGPtynlr8"
      }
    },
    {
      "cell_type": "code",
      "execution_count": 1,
      "metadata": {
        "colab": {
          "base_uri": "https://localhost:8080/"
        },
        "id": "pqZox_yunkmu",
        "outputId": "eb61dc2d-c333-4abc-8109-742802413405"
      },
      "outputs": [
        {
          "output_type": "stream",
          "name": "stdout",
          "text": [
            "a\n",
            "b\n",
            "c\n",
            "d\n",
            "e\n"
          ]
        }
      ],
      "source": [
        "s = 'abcde'\n",
        "\n",
        "# I want to print all of the characters in the string s\n",
        "print(s[0])\n",
        "print(s[1])\n",
        "print(s[2])\n",
        "print(s[3])\n",
        "print(s[4])"
      ]
    },
    {
      "cell_type": "code",
      "source": [
        "# this does give us the right answer!\n",
        "# but it's a huge violation of the DRY rule\n",
        "\n",
        "# this is where a loop comes in handy -- a loop lets us tell the programming language\n",
        "# that we want to do something multiple times"
      ],
      "metadata": {
        "id": "dP2Kz-3Coqd6"
      },
      "execution_count": 2,
      "outputs": []
    },
    {
      "cell_type": "markdown",
      "source": [
        "**What are for loops?**\n",
        "\n",
        "1.They work on \"iterable\" objects, meaning objects that know how to work in for loops\n",
        "\n",
        "2.Basically, that means any \"container\" object, which has inside of it other objects\n",
        "\n",
        "3.If we iterate over that object, we'll get (in each iteration) a new value\n",
        "\n",
        "4.The for loop will typically run once for each value we'll get in an object"
      ],
      "metadata": {
        "id": "zlp1Zwhoou00"
      }
    },
    {
      "cell_type": "code",
      "source": [
        "s = 'abcde'\n",
        "\n",
        "# we start with the \"for\" keyword\n",
        "# then comes a variable, which we're defining via the \"for\" loop\n",
        "# then we have the \"in\" keyword\n",
        "# then we have the iterable object -- what we're asking for multiple values\n",
        "# then there's a colon, and indentation\n",
        "\n",
        "# the loop body, as it's known, as can be as long as you want\n",
        "# the loop body can contain ANYTHING at all -- if/else, for, print, input, assignment\n",
        "\n",
        "# with each iteration, the \"for\" loop asks the object for its next value\n",
        "# that value is assigned to the loop variable (here, one_character)\n",
        "# we then execute the loop body with the loop variable assigned to an element of our object\n",
        "\n",
        "# at some point, the for loop turns to the object and asks for the next item\n",
        "# the object says: No more! I'm done!\n",
        "# at that point, we exit from the loop\n",
        "\n",
        "# we don't need an index, because we get the values\n",
        "# how do we get one character at a time from s? Is it because we called our variable one_character?\n",
        "#   NO NO NO NO NO!\n",
        "#   strings always return one character at a time when you iterate over them\n",
        "#   I chose the variable name one_character because I thought it made the program easier to read/maintain\n",
        "\n",
        "for one_character in s:\n",
        "    print(one_character)"
      ],
      "metadata": {
        "colab": {
          "base_uri": "https://localhost:8080/"
        },
        "id": "Jw1eYZ0ro45Y",
        "outputId": "4def7de8-c12d-47bc-9df9-e1ee1b905220"
      },
      "execution_count": 3,
      "outputs": [
        {
          "output_type": "stream",
          "name": "stdout",
          "text": [
            "a\n",
            "b\n",
            "c\n",
            "d\n",
            "e\n"
          ]
        }
      ]
    },
    {
      "cell_type": "markdown",
      "source": [
        "**Exercise: Vowels, digits, and others**\n",
        "\n",
        "1.Define three variables: vowels, digits, and others, all set to 0.\n",
        "\n",
        "2.Ask the user to enter a string.\n",
        "\n",
        "3.Go through the string, one character at a time. For each character, determine:\n",
        "  \n",
        "  -Is it a vowel? If so, add 1 to vowels\n",
        "  \n",
        "  -Is it a digit? If so, add 1 to digits\n",
        "\n",
        "  -In all other cases, add 1 to others.\n",
        "\n",
        "Print the values of all variables.\n",
        "\n",
        "Example:\n",
        "\n",
        "Enter a string: hello123 !!\n",
        "\n",
        "vowels: 2\n",
        "\n",
        "digits: 3\n",
        "\n",
        "others: 6"
      ],
      "metadata": {
        "id": "ts7NloOcsvFe"
      }
    },
    {
      "cell_type": "code",
      "source": [
        "vowels = 0\n",
        "digits = 0\n",
        "others = 0\n",
        "\n",
        "s = input('Enter a string: ').strip()    # get input from the user, then remove leading/trailing whitespace, then assign to s\n",
        "\n",
        "for one_character in s:\n",
        "    if one_character in 'aeiou':     # is the character a vowel?\n",
        "        vowels += 1\n",
        "    elif one_character.isdigit():    # is the character a digit?\n",
        "        digits += 1\n",
        "    else:\n",
        "        others += 1\n",
        "\n",
        "print(f'vowels = {vowels}')\n",
        "print(f'digits = {digits}')\n",
        "print(f'others = {others}')"
      ],
      "metadata": {
        "colab": {
          "base_uri": "https://localhost:8080/"
        },
        "id": "EiI4pGnTsuJ3",
        "outputId": "c6b6e0af-fc3b-4094-8b03-5cbcd8a6212b"
      },
      "execution_count": 4,
      "outputs": [
        {
          "output_type": "stream",
          "name": "stdout",
          "text": [
            "Enter a string: hello123 !!\n",
            "vowels = 2\n",
            "digits = 3\n",
            "others = 6\n"
          ]
        }
      ]
    },
    {
      "cell_type": "markdown",
      "source": [
        "**Special characters**\n",
        "\n",
        "Normally, a string contains characters that are printed in an obvious way. \"a\" will be printed as \"a\" and \"!\" will be printed as \"!\".\n",
        "\n",
        "But sometimes, we want to print special values. And for those, we need to put a combination of characters in our string. These special characters are normally written in our string starting with \\ and then one or more other characters. Some common ones:\n",
        "\n",
        "\\n -- newline\n",
        "\n",
        "\\t -- tab"
      ],
      "metadata": {
        "id": "XdfKpwv_tlFX"
      }
    },
    {
      "cell_type": "code",
      "source": [
        "print('abcd\\nefgh')   # \\n is one character, written as two, that adds a newline to the print"
      ],
      "metadata": {
        "colab": {
          "base_uri": "https://localhost:8080/"
        },
        "id": "wPaH3i_XtpK-",
        "outputId": "fca6121e-8b6f-4bbc-eec5-2f932b48e143"
      },
      "execution_count": 5,
      "outputs": [
        {
          "output_type": "stream",
          "name": "stdout",
          "text": [
            "abcd\n",
            "efgh\n"
          ]
        }
      ]
    },
    {
      "cell_type": "code",
      "source": [
        "s = '     a     b      c    '\n",
        "\n",
        "len(s)"
      ],
      "metadata": {
        "colab": {
          "base_uri": "https://localhost:8080/"
        },
        "id": "ZaO5dh34uNRs",
        "outputId": "8fde50f6-cf8d-42d8-f267-1e8a72e06b47"
      },
      "execution_count": 6,
      "outputs": [
        {
          "output_type": "execute_result",
          "data": {
            "text/plain": [
              "23"
            ]
          },
          "metadata": {},
          "execution_count": 6
        }
      ]
    },
    {
      "cell_type": "code",
      "source": [
        "s = '     a     b      c    '\n",
        "\n",
        "len(s)"
      ],
      "metadata": {
        "colab": {
          "base_uri": "https://localhost:8080/"
        },
        "id": "RmZqeoE4ujoU",
        "outputId": "4c51f90e-83f5-4d83-f62a-9eb7e20a1e07"
      },
      "execution_count": 7,
      "outputs": [
        {
          "output_type": "execute_result",
          "data": {
            "text/plain": [
              "23"
            ]
          },
          "metadata": {},
          "execution_count": 7
        }
      ]
    },
    {
      "cell_type": "code",
      "source": [
        "# strip removes whitespace (spaces, \\n, \\t, \\r, \\v) from the EDGES of the string,\n",
        "# not from the middle of it\n",
        "\n",
        "len(s.strip())"
      ],
      "metadata": {
        "colab": {
          "base_uri": "https://localhost:8080/"
        },
        "id": "s_0YM_Nbuno7",
        "outputId": "778e4181-4556-4cff-ae75-5a8b89a46650"
      },
      "execution_count": 8,
      "outputs": [
        {
          "output_type": "execute_result",
          "data": {
            "text/plain": [
              "14"
            ]
          },
          "metadata": {},
          "execution_count": 8
        }
      ]
    },
    {
      "cell_type": "code",
      "source": [
        "# += means: + and then assign\n",
        "\n",
        "x = 100\n",
        "x = x + 5   # this evaluates to x = 105, which then assigns\n",
        "x"
      ],
      "metadata": {
        "colab": {
          "base_uri": "https://localhost:8080/"
        },
        "id": "mbz8qJ72utzH",
        "outputId": "7a41281e-a084-4b64-e90b-1728a01145be"
      },
      "execution_count": 9,
      "outputs": [
        {
          "output_type": "execute_result",
          "data": {
            "text/plain": [
              "105"
            ]
          },
          "metadata": {},
          "execution_count": 9
        }
      ]
    },
    {
      "cell_type": "code",
      "source": [
        "# exactly the same thing to say:\n",
        "\n",
        "x = 100\n",
        "x += 5\n",
        "x"
      ],
      "metadata": {
        "colab": {
          "base_uri": "https://localhost:8080/"
        },
        "id": "5vxbtkrKuyc0",
        "outputId": "432f5979-f301-4464-aa9d-8a9508600ef9"
      },
      "execution_count": 10,
      "outputs": [
        {
          "output_type": "execute_result",
          "data": {
            "text/plain": [
              "105"
            ]
          },
          "metadata": {},
          "execution_count": 10
        }
      ]
    },
    {
      "cell_type": "code",
      "source": [
        "# improved version, handling capital letters (vowels), too:\n",
        "\n",
        "vowels = 0\n",
        "digits = 0\n",
        "others = 0\n",
        "\n",
        "s = input('Enter a string: ').strip()    # get input from the user, then remove leading/trailing whitespace, then assign to s\n",
        "\n",
        "for one_character in s.lower():      # check all characters lowercase, so A and a are both considered vowels\n",
        "    if one_character in 'aeiou':     # is the character a vowel?\n",
        "        vowels += 1\n",
        "    elif one_character.isdigit():    # is the character a digit?\n",
        "        digits += 1\n",
        "    else:\n",
        "        others += 1\n",
        "\n",
        "print(f'vowels = {vowels}')\n",
        "print(f'digits = {digits}')\n",
        "print(f'others = {others}')"
      ],
      "metadata": {
        "colab": {
          "base_uri": "https://localhost:8080/"
        },
        "id": "dHvfQEpbvHjP",
        "outputId": "28a066c6-dcd9-4b6e-959f-55ee49a60221"
      },
      "execution_count": 11,
      "outputs": [
        {
          "output_type": "stream",
          "name": "stdout",
          "text": [
            "Enter a string: hello123 !!\n",
            "vowels = 2\n",
            "digits = 3\n",
            "others = 6\n"
          ]
        }
      ]
    },
    {
      "cell_type": "code",
      "source": [
        "# Python won't stop you from writing this.. it just won't do what you want\n",
        "\n",
        "x = 100\n",
        "x += 5   # this means: x = x + 5\n",
        "x"
      ],
      "metadata": {
        "colab": {
          "base_uri": "https://localhost:8080/"
        },
        "id": "p1jpxldSvkUT",
        "outputId": "7bc0f35b-b950-486b-f4c6-8d921e835053"
      },
      "execution_count": 12,
      "outputs": [
        {
          "output_type": "execute_result",
          "data": {
            "text/plain": [
              "105"
            ]
          },
          "metadata": {},
          "execution_count": 12
        }
      ]
    },
    {
      "cell_type": "code",
      "source": [
        "x = 100\n",
        "x =+ 5   # what does this mean?   it basically means x = 5\n",
        "x"
      ],
      "metadata": {
        "colab": {
          "base_uri": "https://localhost:8080/"
        },
        "id": "JgS-nwUpvnWG",
        "outputId": "55fb1900-7473-4497-f047-543885951eed"
      },
      "execution_count": 13,
      "outputs": [
        {
          "output_type": "execute_result",
          "data": {
            "text/plain": [
              "5"
            ]
          },
          "metadata": {},
          "execution_count": 13
        }
      ]
    },
    {
      "cell_type": "code",
      "source": [
        "# improved version, handling capital letters (vowels), too:\n",
        "\n",
        "vowels = 0\n",
        "digits = 0\n",
        "others = 0\n",
        "\n",
        "s = input('Enter a string: ').strip()    # get input from the user, then remove leading/trailing whitespace, then assign to s\n",
        "\n",
        "for one_character in s.lower():      # check all characters lowercase, so A and a are both considered vowels\n",
        "    if one_character in 'aeiou':     # is the character a vowel?\n",
        "        print(f'\\t\"{one_character}\" is a vowel')\n",
        "        vowels += 1\n",
        "    elif one_character.isdigit():    # is the character a digit?\n",
        "        print(f'\\t\"{one_character}\" is a digit')\n",
        "        digits += 1\n",
        "    else:\n",
        "        others += 1\n",
        "        print(f'\\t\"{one_character}\" is other')\n",
        "\n",
        "\n",
        "print(f'vowels = {vowels}')\n",
        "print(f'digits = {digits}')\n",
        "print(f'others = {others}')"
      ],
      "metadata": {
        "colab": {
          "base_uri": "https://localhost:8080/"
        },
        "id": "qRNFffnxw9J4",
        "outputId": "47256877-b885-45eb-9a06-0c970ee92a70"
      },
      "execution_count": 14,
      "outputs": [
        {
          "output_type": "stream",
          "name": "stdout",
          "text": [
            "Enter a string: hello123 !!\n",
            "\t\"h\" is other\n",
            "\t\"e\" is a vowel\n",
            "\t\"l\" is other\n",
            "\t\"l\" is other\n",
            "\t\"o\" is a vowel\n",
            "\t\"1\" is a digit\n",
            "\t\"2\" is a digit\n",
            "\t\"3\" is a digit\n",
            "\t\" \" is other\n",
            "\t\"!\" is other\n",
            "\t\"!\" is other\n",
            "vowels = 2\n",
            "digits = 3\n",
            "others = 6\n"
          ]
        }
      ]
    },
    {
      "cell_type": "code",
      "source": [
        "# what if I'm in a really great mood (because I'm teaching Python) I want to say that in Python!\n",
        "\n",
        "print('Hooray!')\n",
        "print('Hooray!')\n",
        "print('Hooray!')"
      ],
      "metadata": {
        "colab": {
          "base_uri": "https://localhost:8080/"
        },
        "id": "DYXeBI2mxWNc",
        "outputId": "05a98290-6879-4265-99d9-258b2fd6a5c8"
      },
      "execution_count": 15,
      "outputs": [
        {
          "output_type": "stream",
          "name": "stdout",
          "text": [
            "Hooray!\n",
            "Hooray!\n",
            "Hooray!\n"
          ]
        }
      ]
    },
    {
      "cell_type": "code",
      "source": [
        "# I realize that I've violated the DRY rule, and I decide to use a \"for\" loop\n",
        "\n",
        "for i in 3:\n",
        "    print('Hooray!')"
      ],
      "metadata": {
        "colab": {
          "base_uri": "https://localhost:8080/",
          "height": 227
        },
        "id": "Qmr_zxmsxZIA",
        "outputId": "2612d985-385e-410b-bbf5-def530ebb313"
      },
      "execution_count": 16,
      "outputs": [
        {
          "output_type": "error",
          "ename": "TypeError",
          "evalue": "ignored",
          "traceback": [
            "\u001b[0;31m---------------------------------------------------------------------------\u001b[0m",
            "\u001b[0;31mTypeError\u001b[0m                                 Traceback (most recent call last)",
            "\u001b[0;32m<ipython-input-16-c6218812dd44>\u001b[0m in \u001b[0;36m<cell line: 3>\u001b[0;34m()\u001b[0m\n\u001b[1;32m      1\u001b[0m \u001b[0;31m# I realize that I've violated the DRY rule, and I decide to use a \"for\" loop\u001b[0m\u001b[0;34m\u001b[0m\u001b[0;34m\u001b[0m\u001b[0m\n\u001b[1;32m      2\u001b[0m \u001b[0;34m\u001b[0m\u001b[0m\n\u001b[0;32m----> 3\u001b[0;31m \u001b[0;32mfor\u001b[0m \u001b[0mi\u001b[0m \u001b[0;32min\u001b[0m \u001b[0;36m3\u001b[0m\u001b[0;34m:\u001b[0m\u001b[0;34m\u001b[0m\u001b[0;34m\u001b[0m\u001b[0m\n\u001b[0m\u001b[1;32m      4\u001b[0m     \u001b[0mprint\u001b[0m\u001b[0;34m(\u001b[0m\u001b[0;34m'Hooray!'\u001b[0m\u001b[0;34m)\u001b[0m\u001b[0;34m\u001b[0m\u001b[0;34m\u001b[0m\u001b[0m\n",
            "\u001b[0;31mTypeError\u001b[0m: 'int' object is not iterable"
          ]
        }
      ]
    },
    {
      "cell_type": "markdown",
      "source": [
        "**Integers aren't iterable!**\n",
        "\n",
        "If you want to iterate a certain number of times, you cannot do it directly on an integer.\n",
        "\n",
        "Instead, you need to use the range function, which takes an integer as an argument, and then lets you iterate that number of times."
      ],
      "metadata": {
        "id": "2xGQ-nOZxhU6"
      }
    },
    {
      "cell_type": "code",
      "source": [
        "for i in range(3):\n",
        "  print(f'{i} Hooray!')"
      ],
      "metadata": {
        "colab": {
          "base_uri": "https://localhost:8080/"
        },
        "id": "bfDIpD5YxkuU",
        "outputId": "cc99d772-ef21-44de-90bc-e8a5e6d3a8b1"
      },
      "execution_count": 18,
      "outputs": [
        {
          "output_type": "stream",
          "name": "stdout",
          "text": [
            "0 Hooray!\n",
            "1 Hooray!\n",
            "2 Hooray!\n"
          ]
        }
      ]
    },
    {
      "cell_type": "code",
      "source": [
        "# wait... what is the value of i in each iteration?\n",
        "\n",
        "# when you iterate over range(n), you'll get integers starting at 0, going up by 1,\n",
        "# until (and not including) the n you chose."
      ],
      "metadata": {
        "id": "2sfSIy4Tx6cK"
      },
      "execution_count": 19,
      "outputs": []
    },
    {
      "cell_type": "markdown",
      "source": [
        "**Exercise: Name triangles**\n",
        "\n",
        "Ask the user to enter their name.\n",
        "\n",
        "Print the name in a triangle, such that:\n",
        "\n",
        "The first line prints the name's first letter\n",
        "\n",
        "The second line prints the name's first 2 letters\n",
        "\n",
        "The third line prints the name's first 3 letters\n",
        "\n",
        "...\n",
        "\n",
        "The final line prints the entire name\n",
        "\n",
        "Example:\n",
        "\n",
        "Enter your name: Vrushalee\n",
        "\n",
        "V\n",
        "\n",
        "Vr\n",
        "\n",
        "Vru\n",
        "\n",
        "Vrus\n",
        "\n",
        "Vrush\n",
        "\n",
        "Vrusha\n",
        "\n",
        "Vrushal\n",
        "\n",
        "Vrushale\n",
        "\n",
        "Vrushalee\n",
        "\n",
        "Some things to remember:\n",
        "\n",
        "You can get the length of a string with len\n",
        "\n",
        "\n",
        "You can get a slice (substring) of characters in a string with [start:end]\n",
        "\n",
        "range works up to and not including the number you specified, starting with 0\n",
        "\n",
        "While [] normally only let you choose an element up to len(s) - 1, if you're\n",
        "\n",
        "using a slice, then the boundaries are not checked."
      ],
      "metadata": {
        "id": "_Vs3R_WlyBHy"
      }
    },
    {
      "cell_type": "code",
      "source": [
        "name = input('Enter name: ').strip()\n",
        "\n",
        "for end_index in range(len(name)):\n",
        "    print(name[:end_index+1])\n",
        "\n"
      ],
      "metadata": {
        "colab": {
          "base_uri": "https://localhost:8080/"
        },
        "id": "2JkGFyF7yY8E",
        "outputId": "f5e258f8-7f81-49f3-c23c-4f9fbac0a10f"
      },
      "execution_count": 20,
      "outputs": [
        {
          "output_type": "stream",
          "name": "stdout",
          "text": [
            "Enter name: Vrushalee\n",
            "V\n",
            "Vr\n",
            "Vru\n",
            "Vrus\n",
            "Vrush\n",
            "Vrusha\n",
            "Vrushal\n",
            "Vrushale\n",
            "Vrushalee\n"
          ]
        }
      ]
    },
    {
      "cell_type": "code",
      "source": [
        "# how can I print a string, one charater at a time, *backwards*?\n",
        "# two possiblities that are similar\n",
        "\n",
        "# option 1: reverse the string, and iterate over it\n",
        "# we can reverse a string by using a slice INCLUDING the third, optional number -- the step size\n",
        "# s[2:10:2]  -- from index 2, until (not including) index 10, step size 2\n",
        "# s[::2]  -- from  start to end, step size 2\n",
        "# s[::-1]  -- from  start to end, step size -1 -- meaning, reversed\n",
        "\n",
        "s = 'abcd'\n",
        "for one_character in s[::-1]: # now we'll print the characters in s reversed\n",
        "    print(one_character)"
      ],
      "metadata": {
        "colab": {
          "base_uri": "https://localhost:8080/"
        },
        "id": "SmvlcKp2y9QO",
        "outputId": "53792de2-41a1-4597-e6d0-84bf25ae4727"
      },
      "execution_count": 25,
      "outputs": [
        {
          "output_type": "stream",
          "name": "stdout",
          "text": [
            "d\n",
            "c\n",
            "b\n",
            "a\n"
          ]
        }
      ]
    },
    {
      "cell_type": "code",
      "source": [
        "s = 'abcd'   # indexes 0-1-2-3\n",
        "\n",
        "s[:3]        # up to, but not including, index 3"
      ],
      "metadata": {
        "colab": {
          "base_uri": "https://localhost:8080/",
          "height": 35
        },
        "id": "kfkMDL5EzbPt",
        "outputId": "5c9dcbc9-519b-47bc-fe0c-6eadf5c3726c"
      },
      "execution_count": 26,
      "outputs": [
        {
          "output_type": "execute_result",
          "data": {
            "text/plain": [
              "'abc'"
            ],
            "application/vnd.google.colaboratory.intrinsic+json": {
              "type": "string"
            }
          },
          "metadata": {},
          "execution_count": 26
        }
      ]
    },
    {
      "cell_type": "code",
      "source": [
        "s[:3+1]"
      ],
      "metadata": {
        "colab": {
          "base_uri": "https://localhost:8080/",
          "height": 35
        },
        "id": "ndb28JbVzet_",
        "outputId": "20e16ffb-975d-4a47-c105-e7387461d350"
      },
      "execution_count": 27,
      "outputs": [
        {
          "output_type": "execute_result",
          "data": {
            "text/plain": [
              "'abcd'"
            ],
            "application/vnd.google.colaboratory.intrinsic+json": {
              "type": "string"
            }
          },
          "metadata": {},
          "execution_count": 27
        }
      ]
    },
    {
      "cell_type": "code",
      "source": [
        "# other option is similar: give range two more (optional) arguments: the end number and the step size"
      ],
      "metadata": {
        "id": "SHrismFPzlfs"
      },
      "execution_count": 28,
      "outputs": []
    },
    {
      "cell_type": "markdown",
      "source": [
        "**Next up**\n",
        "\n",
        "while loops\n",
        "\n",
        "Where's the index? How can we compensate?\n",
        "\n",
        "**while loops**\n",
        "\n",
        "Whereas a for loop goes through each element of a string/range and does the same action on it, until we reach the end, a while loop keeps executing the loop body so long as a condition is True.\n",
        "\n",
        "This is very similar to an if statement, except that it repeats checking the condition. Only when the condition is False does the while loop exit."
      ],
      "metadata": {
        "id": "ZjnnhG8YzpeE"
      }
    },
    {
      "cell_type": "code",
      "source": [
        "x = 5\n",
        "\n",
        "while x > 0:   # so long as x is > 0...\n",
        "    print(x)\n",
        "    x -= 1     # x = x - 1   or: take 1 away from x"
      ],
      "metadata": {
        "colab": {
          "base_uri": "https://localhost:8080/"
        },
        "id": "y-S-_mavzwDL",
        "outputId": "f36f54f2-2741-4e28-f4bf-d863f07ded50"
      },
      "execution_count": 29,
      "outputs": [
        {
          "output_type": "stream",
          "name": "stdout",
          "text": [
            "5\n",
            "4\n",
            "3\n",
            "2\n",
            "1\n"
          ]
        }
      ]
    },
    {
      "cell_type": "markdown",
      "source": [
        "**Warning!**\n",
        "\n",
        "What if the condition is always True?\n",
        "\n",
        "You have an infinite loop! Be careful with your condition, and make sure that something is changing regarding the condition across iterations."
      ],
      "metadata": {
        "id": "L2P4Q-OPUcs_"
      }
    },
    {
      "cell_type": "markdown",
      "source": [
        "**Exercise: Sum to 100**\n",
        "\n",
        "1.Define total to be 0\n",
        "\n",
        "2.Using a while loop, ask the user to enter a number.\n",
        "\n",
        "(If you want, you can check that they entered an actual number.)\n",
        "\n",
        "3.Add that number to total, and print the current value of total.\n",
        "\n",
        "4.If we have reached 100 or more, stop. (Note: This condition will be at the top of the while loop, not the bottom.)\n",
        "\n",
        "Example:\n",
        "\n",
        "Enter a number: 10\n",
        "\n",
        "10\n",
        "\n",
        "Enter a number: 30\n",
        "\n",
        "40\n",
        "\n",
        "Enter a number: 50\n",
        "\n",
        "90\n",
        "\n",
        "Enter a number: 30\n",
        "\n",
        "120"
      ],
      "metadata": {
        "id": "o6qXqwCWUj58"
      }
    },
    {
      "cell_type": "code",
      "source": [
        "total = 0\n",
        "while total < 100:\n",
        "    s = input('Enter a number: ').strip()\n",
        "    n = int(s)   # get an integer based on the user's input\n",
        "    total += n\n",
        "    print(f'\\tCurrently, total is {total}')\n",
        "\n",
        "print(f'Final total = {total}')"
      ],
      "metadata": {
        "colab": {
          "base_uri": "https://localhost:8080/"
        },
        "id": "N07oCG_iU1RU",
        "outputId": "8076b958-6fdd-4213-9ad9-169ef041e8e8"
      },
      "execution_count": 2,
      "outputs": [
        {
          "output_type": "stream",
          "name": "stdout",
          "text": [
            "Enter a number: 10\n",
            "\tCurrently, total is 10\n",
            "Enter a number: 30\n",
            "\tCurrently, total is 40\n",
            "Enter a number: 50\n",
            "\tCurrently, total is 90\n",
            "Enter a number: 30\n",
            "\tCurrently, total is 120\n",
            "Final total = 120\n"
          ]
        }
      ]
    },
    {
      "cell_type": "code",
      "source": [
        "total = 0\n",
        "\n",
        "while total < 100:\n",
        "    s = input('Enter a number: ').strip()\n",
        "    n = int(s)   # get an integer based on the user's input\n",
        "    total += n\n",
        "    print(f'\\tCurrently, total is {total}')\n",
        "\n",
        "print(f'Final total = {total}')"
      ],
      "metadata": {
        "colab": {
          "base_uri": "https://localhost:8080/"
        },
        "id": "1gjBtOdOj08x",
        "outputId": "492eeda9-2f93-4458-81a6-ee5f13df6bf9"
      },
      "execution_count": 3,
      "outputs": [
        {
          "output_type": "stream",
          "name": "stdout",
          "text": [
            "Enter a number: 50\n",
            "\tCurrently, total is 50\n",
            "Enter a number: 20\n",
            "\tCurrently, total is 70\n",
            "Enter a number: 10\n",
            "\tCurrently, total is 80\n",
            "Enter a number: -10\n",
            "\tCurrently, total is 70\n",
            "Enter a number: 50\n",
            "\tCurrently, total is 120\n",
            "Final total = 120\n"
          ]
        }
      ]
    },
    {
      "cell_type": "code",
      "source": [
        "total = 0\n",
        "\n",
        "while total < 100:\n",
        "    num = input(\"Enter a number\")\n",
        "    total = total + int(num)\n",
        "    print(f\"o valor é {total}\")"
      ],
      "metadata": {
        "colab": {
          "base_uri": "https://localhost:8080/"
        },
        "id": "1IPGP7ZTkGaK",
        "outputId": "8216bc24-f906-45e7-d012-00338db5abe3"
      },
      "execution_count": 4,
      "outputs": [
        {
          "output_type": "stream",
          "name": "stdout",
          "text": [
            "Enter a number90\n",
            "o valor é 90\n",
            "Enter a number20\n",
            "o valor é 110\n"
          ]
        }
      ]
    },
    {
      "cell_type": "code",
      "source": [
        "# let's implement the same thing\n",
        "# BUT we'll stop the loop either if we reach 100 or if the user enters a non-digit\n",
        "\n",
        "total = 0\n",
        "\n",
        "while total < 100:\n",
        "    s = input('Enter a number: ').strip()\n",
        "\n",
        "    if not s.isdigit():   # does the user's string NOT contain only digits?\n",
        "        print(f'Non-numeric input; exiting the loop')\n",
        "        break             # this means: exit the loop RIGHT AWAY, NOW\n",
        "\n",
        "    n = int(s)   # get an integer based on the user's input\n",
        "    total += n\n",
        "    print(f'\\tCurrently, total is {total}')\n",
        "\n",
        "print(f'Final total = {total}')"
      ],
      "metadata": {
        "colab": {
          "base_uri": "https://localhost:8080/"
        },
        "id": "MsFiMFbikR5f",
        "outputId": "7cb455ba-0fe5-4beb-9ab6-9ab55289bd20"
      },
      "execution_count": 5,
      "outputs": [
        {
          "output_type": "stream",
          "name": "stdout",
          "text": [
            "Enter a number: 30\n",
            "\tCurrently, total is 30\n",
            "Enter a number: 70\n",
            "\tCurrently, total is 100\n",
            "Final total = 100\n"
          ]
        }
      ]
    },
    {
      "cell_type": "code",
      "source": [
        "while True:    # notice -- an infinite loop!\n",
        "    name = input('Enter your name: ').strip()\n",
        "\n",
        "    if name == '':\n",
        "        break\n",
        "\n",
        "    print(f'Hello, {name}.')"
      ],
      "metadata": {
        "colab": {
          "base_uri": "https://localhost:8080/"
        },
        "id": "Nozw1aJGkb9Z",
        "outputId": "43653074-15b5-48e1-ce86-dbd73ca422f1"
      },
      "execution_count": 6,
      "outputs": [
        {
          "name": "stdout",
          "output_type": "stream",
          "text": [
            "Enter your name: vrushalee\n",
            "Hello, vrushalee.\n",
            "Enter your name: world\n",
            "Hello, world.\n",
            "Enter your name:   \n"
          ]
        }
      ]
    },
    {
      "cell_type": "code",
      "source": [
        "# why not negative numbers?\n",
        "# if we use .isdigit(), then it only returns True for non-empty strings containing ONLY 0-9\n",
        "# if you want to really check for numbers, you need to use a different technique"
      ],
      "metadata": {
        "id": "YgI8agUFkvQa"
      },
      "execution_count": 7,
      "outputs": []
    },
    {
      "cell_type": "markdown",
      "source": [
        "**Where's the index?**\n",
        "\n",
        "In other programming languages, the for loop is in charge of itself. Meaning: It typically goes through a bunch of numeric indexes, and then uses those indexes to retrieve values at different locations.\n",
        "\n",
        "In Python, the for loop is actually quite dumb and passive. It doesn't know how many values it'll get, or what types of values it'll get. The object on which we're running the loop determines these.\n",
        "\n",
        "Strings are defined to give us one character at a time, from the start until the end.\n",
        "\n",
        "Different data structures have different rules in for loops for what they return.\n",
        "\n",
        "Other languages need the index, because they cannot rely on the objects to give us something new and useful each time. Python can, so we don't need the index...\n",
        "\n",
        "... except when we do.\n",
        "\n",
        "There are definitely times when we want to have an index around. There are two ways to do that:"
      ],
      "metadata": {
        "id": "Ez_uGjYZoGp7"
      }
    },
    {
      "cell_type": "code",
      "source": [
        "# option 1: Use an \"index\" variable that we keep track of\n",
        "\n",
        "index = 0\n",
        "\n",
        "for one_character in 'abcd':\n",
        "    print(f'{index}: {one_character}')\n",
        "    index += 1"
      ],
      "metadata": {
        "colab": {
          "base_uri": "https://localhost:8080/"
        },
        "id": "IzFoD1HVoM-v",
        "outputId": "d0b1563b-1e51-46a4-8d41-330231a4670a"
      },
      "execution_count": 8,
      "outputs": [
        {
          "output_type": "stream",
          "name": "stdout",
          "text": [
            "0: a\n",
            "1: b\n",
            "2: c\n",
            "3: d\n"
          ]
        }
      ]
    },
    {
      "cell_type": "code",
      "source": [
        "# option 2: Use the \"enumerate\" function that comes with Python\n",
        "# enumerate wraps itself around an iterable object (e.g., a string)\n",
        "# and it returns TWO things with each iteration -- an index, and a value\n",
        "\n",
        "for index, one_character in enumerate('abcd'):\n",
        "    print(f'{index}: {one_character}')"
      ],
      "metadata": {
        "colab": {
          "base_uri": "https://localhost:8080/"
        },
        "id": "LB9bkiOaoSzC",
        "outputId": "b3ca1844-346b-4c44-9d71-8cb2f6d46f00"
      },
      "execution_count": 9,
      "outputs": [
        {
          "output_type": "stream",
          "name": "stdout",
          "text": [
            "0: a\n",
            "1: b\n",
            "2: c\n",
            "3: d\n"
          ]
        }
      ]
    },
    {
      "cell_type": "markdown",
      "source": [
        "**Control of our loops**\n",
        "\n",
        "We earlier saw that we can use break to stop a loop right away, continuing with the code after the loop's end.\n",
        "\n",
        "There's another control statement called continue, which immediately goes to the next iteration, but doesn't exit the loop. This is especially useful if there are common values you want to ignore/throw out in your for loop. This way, you can have a quick if/continue at the top of the loop."
      ],
      "metadata": {
        "id": "BUr5HVaeoXLf"
      }
    },
    {
      "cell_type": "markdown",
      "source": [
        "**Exercise: Sum digits**\n",
        "\n",
        "1.Define total to be 0.\n",
        "\n",
        "2.Ask the user, repeatedly, to enter a string. You should stop asking if/when total is >= 40.\n",
        "\n",
        "3.Go through the user's string, one charater at a time. (Yes, this means having a for loop inside of a while loop!)\n",
        "\n",
        "4.If a character is a non-digit, then continue onto the next iteration (i.e., the next character)\n",
        "\n",
        "5.If a character is a digit, then turn it into an int, and add it to total.\n",
        "\n",
        "Example:\n",
        "\n",
        "Enter a string containing digits: 12345\n",
        "\n",
        "Current value is 15\n",
        "\n",
        "Enter a string containing digits: a1b2c3\n",
        "\n",
        "Enter a string containing digits: 9999\n",
        "\n",
        "Current value is 51  [EXITS]"
      ],
      "metadata": {
        "id": "82SzkKDvod4Y"
      }
    },
    {
      "cell_type": "code",
      "source": [
        "total = 0\n",
        "\n",
        "while total < 40:   # only ask the user for input so long as total is <40\n",
        "    s = input('Enter a string: ').strip()\n",
        "\n",
        "    for one_character in s:\n",
        "        if not one_character.isdigit():\n",
        "            print(f'\\t{one_character} is not a digit')\n",
        "            continue\n",
        "\n",
        "        total += int(one_character)   # get an integer based on one_character, and add to total\n",
        "\n",
        "    print(f'total = {total}')"
      ],
      "metadata": {
        "colab": {
          "base_uri": "https://localhost:8080/"
        },
        "id": "97fXmzm-onn0",
        "outputId": "d3e2ede6-eda9-43b5-ab62-2b1bd3c3c725"
      },
      "execution_count": 10,
      "outputs": [
        {
          "output_type": "stream",
          "name": "stdout",
          "text": [
            "Enter a string: 12345\n",
            "total = 15\n",
            "Enter a string: 15\n",
            "total = 21\n",
            "Enter a string: 89\n",
            "total = 38\n",
            "Enter a string: abc\n",
            "\ta is not a digit\n",
            "\tb is not a digit\n",
            "\tc is not a digit\n",
            "total = 38\n",
            "Enter a string: 9999\n",
            "total = 74\n"
          ]
        }
      ]
    },
    {
      "cell_type": "code",
      "source": [
        "total = 0\n",
        "\n",
        "while total < 40:   # only ask the user for input so long as total is <40\n",
        "    s = input('Enter a string: ').strip()\n",
        "\n",
        "    already_warned = False\n",
        "    for one_character in s:\n",
        "\n",
        "        if not one_character.isdigit():\n",
        "            if not already_warned:\n",
        "                already_warned = True\n",
        "                print(f'\\t{one_character} is not a digit')\n",
        "            continue\n",
        "\n",
        "        total += int(one_character)   # get an integer based on one_character, and add to total\n",
        "\n",
        "    print(f'total = {total}')"
      ],
      "metadata": {
        "colab": {
          "base_uri": "https://localhost:8080/"
        },
        "id": "TNCS0Q5v1IWZ",
        "outputId": "82727cac-017c-438d-9855-1654d3f1086b"
      },
      "execution_count": 11,
      "outputs": [
        {
          "output_type": "stream",
          "name": "stdout",
          "text": [
            "Enter a string: 1234\n",
            "total = 10\n",
            "Enter a string: ji\n",
            "\tj is not a digit\n",
            "total = 10\n",
            "Enter a string: 40\n",
            "total = 14\n",
            "Enter a string: 890\n",
            "total = 31\n",
            "Enter a string: hello\n",
            "\th is not a digit\n",
            "total = 31\n",
            "Enter a string: 9999\n",
            "total = 67\n"
          ]
        }
      ]
    },
    {
      "cell_type": "code",
      "source": [
        "total = 0\n",
        "\n",
        "while total >= 40:\n",
        "     s = input('enter a number: ').strip()\n",
        "     for one_character in s:\n",
        "         if not one_character.isdigit():\n",
        "             print(f'\\t{one_character} is a not a digit')\n",
        "             continue\n",
        "\n",
        "         total += int(one_character)\n",
        "     print(f'total = {total}')\n",
        "\n",
        "print('Done!')"
      ],
      "metadata": {
        "colab": {
          "base_uri": "https://localhost:8080/"
        },
        "id": "8PCe9xo92BTF",
        "outputId": "14d277ad-f31e-4d51-f0f1-edb147b846f5"
      },
      "execution_count": 12,
      "outputs": [
        {
          "output_type": "stream",
          "name": "stdout",
          "text": [
            "Done!\n"
          ]
        }
      ]
    },
    {
      "cell_type": "markdown",
      "source": [
        "**Next up:**\n",
        "\n",
        "1.Lists! What are they, and how can we create them (and use them)?\n",
        "\n",
        "2.Strings to lists, and back"
      ],
      "metadata": {
        "id": "8rw_CCnd3c8a"
      }
    },
    {
      "cell_type": "markdown",
      "source": [
        "**Lists**\n",
        "\n",
        "So far, we've seen that strings contain characters. This is great for searching, storing, etc. charactres.\n",
        "\n",
        "But it's pretty restrictive. We want to store other kinds of things, such as integers. We might even want to modify the values along the way. (Remember, strings cannot be modified -- they are \"immutable.\")\n",
        "\n",
        "For that, we have lists. Many people who come from other languages think that they should call lists \"arrays.\" But they aren't arrays!\n",
        "\n",
        "A technical definition of lists would be something like, \"An ordered, mutable collection of objects of any type.\"\n",
        "\n",
        "You can put anything inside of a list. And it's considered traditional to put only one type of value in a list, but Python won't stop you from mixing them up.\n"
      ],
      "metadata": {
        "id": "h-VwXlRV3kdV"
      }
    },
    {
      "cell_type": "code",
      "source": [
        "# here is how I define a list:\n",
        "# I use []\n",
        "# I separate the elements with ,\n",
        "\n",
        "mylist = [10, 20, 30, 40, 50]"
      ],
      "metadata": {
        "id": "cCxQjdo43p8E"
      },
      "execution_count": 13,
      "outputs": []
    },
    {
      "cell_type": "code",
      "source": [
        "type(mylist)           # what kind of data structure is this?"
      ],
      "metadata": {
        "colab": {
          "base_uri": "https://localhost:8080/"
        },
        "id": "e55EgwvS3wua",
        "outputId": "08d076ed-bfd6-42b1-cf3b-673a645c1e7a"
      },
      "execution_count": 14,
      "outputs": [
        {
          "output_type": "execute_result",
          "data": {
            "text/plain": [
              "list"
            ]
          },
          "metadata": {},
          "execution_count": 14
        }
      ]
    },
    {
      "cell_type": "code",
      "source": [
        "# lists have many things in common with strings\n",
        "# how many elements are there?\n",
        "len(mylist)"
      ],
      "metadata": {
        "colab": {
          "base_uri": "https://localhost:8080/"
        },
        "id": "oG2-ti0G31CU",
        "outputId": "0d1dda13-e4bb-43aa-e55b-a1e2fba06c67"
      },
      "execution_count": 16,
      "outputs": [
        {
          "output_type": "execute_result",
          "data": {
            "text/plain": [
              "5"
            ]
          },
          "metadata": {},
          "execution_count": 16
        }
      ]
    },
    {
      "cell_type": "code",
      "source": [
        "# I want the first element - -it's at index 0\n",
        "mylist[0]\n"
      ],
      "metadata": {
        "colab": {
          "base_uri": "https://localhost:8080/"
        },
        "id": "DLaghftH4ALy",
        "outputId": "960e478e-c7eb-4248-ed5e-a419d6ff193e"
      },
      "execution_count": 17,
      "outputs": [
        {
          "output_type": "execute_result",
          "data": {
            "text/plain": [
              "10"
            ]
          },
          "metadata": {},
          "execution_count": 17
        }
      ]
    },
    {
      "cell_type": "code",
      "source": [
        "# I can get a slice\n",
        "mylist[1:3]   # from index 1, until (not including) index 3"
      ],
      "metadata": {
        "colab": {
          "base_uri": "https://localhost:8080/"
        },
        "id": "JYTTyvNY4EPR",
        "outputId": "41c335f3-123a-4b48-82d6-d77fca84175c"
      },
      "execution_count": 18,
      "outputs": [
        {
          "output_type": "execute_result",
          "data": {
            "text/plain": [
              "[20, 30]"
            ]
          },
          "metadata": {},
          "execution_count": 18
        }
      ]
    },
    {
      "cell_type": "code",
      "source": [
        "# I can run a for loop on a list, getting each element, one at a time\n",
        "\n",
        "for one_item in mylist:\n",
        "    print(one_item)"
      ],
      "metadata": {
        "colab": {
          "base_uri": "https://localhost:8080/"
        },
        "id": "PxtvmJrf4IH9",
        "outputId": "1eaf9972-0fa2-4555-a463-c10b32855269"
      },
      "execution_count": 19,
      "outputs": [
        {
          "output_type": "stream",
          "name": "stdout",
          "text": [
            "10\n",
            "20\n",
            "30\n",
            "40\n",
            "50\n"
          ]
        }
      ]
    },
    {
      "cell_type": "code",
      "source": [
        "# snake_case is the standard for ALL VARIABLES in Python, regardless of data type\n",
        "my_favorite_list = [10, 20, 30]"
      ],
      "metadata": {
        "id": "eEQyBQxW4x--"
      },
      "execution_count": 20,
      "outputs": []
    },
    {
      "cell_type": "code",
      "source": [
        "# lists are different... we can store integers in them\n",
        "\n",
        "for one_item in mylist:\n",
        "    print(f'{one_item} * 3 = {one_item*3}')"
      ],
      "metadata": {
        "colab": {
          "base_uri": "https://localhost:8080/"
        },
        "id": "e5TXt7HQ41ek",
        "outputId": "9f611d7a-46c3-4fc7-b389-701028a2e496"
      },
      "execution_count": 21,
      "outputs": [
        {
          "output_type": "stream",
          "name": "stdout",
          "text": [
            "10 * 3 = 30\n",
            "20 * 3 = 60\n",
            "30 * 3 = 90\n",
            "40 * 3 = 120\n",
            "50 * 3 = 150\n"
          ]
        }
      ]
    },
    {
      "cell_type": "code",
      "source": [
        "# can I have a list inside of another list? YES!\n",
        "\n",
        "mylist = [10, 20, 30]\n",
        "biglist = [mylist, mylist, mylist]"
      ],
      "metadata": {
        "id": "f1VRazkT45fn"
      },
      "execution_count": 22,
      "outputs": []
    },
    {
      "cell_type": "code",
      "source": [
        "mylist"
      ],
      "metadata": {
        "colab": {
          "base_uri": "https://localhost:8080/"
        },
        "id": "7qpcklAk48P_",
        "outputId": "d25b76cb-f7d4-4f0e-8dcc-5317fc96e9be"
      },
      "execution_count": 24,
      "outputs": [
        {
          "output_type": "execute_result",
          "data": {
            "text/plain": [
              "[10, 20, 30]"
            ]
          },
          "metadata": {},
          "execution_count": 24
        }
      ]
    },
    {
      "cell_type": "code",
      "source": [
        "biglist"
      ],
      "metadata": {
        "colab": {
          "base_uri": "https://localhost:8080/"
        },
        "id": "GYxKWXfb5AyQ",
        "outputId": "7cab1dab-52d9-4fb9-89af-5aa3753ff93e"
      },
      "execution_count": 25,
      "outputs": [
        {
          "output_type": "execute_result",
          "data": {
            "text/plain": [
              "[[10, 20, 30], [10, 20, 30], [10, 20, 30]]"
            ]
          },
          "metadata": {},
          "execution_count": 25
        }
      ]
    },
    {
      "cell_type": "code",
      "source": [
        "# what is the len of biglist?\n",
        "len(biglist)"
      ],
      "metadata": {
        "colab": {
          "base_uri": "https://localhost:8080/"
        },
        "id": "vz1em_g05EwA",
        "outputId": "f6f09bbb-c57c-46a2-b0d0-c20bec585dd8"
      },
      "execution_count": 26,
      "outputs": [
        {
          "output_type": "execute_result",
          "data": {
            "text/plain": [
              "3"
            ]
          },
          "metadata": {},
          "execution_count": 26
        }
      ]
    },
    {
      "cell_type": "code",
      "source": [
        "# can I change a string? (No)\n",
        "\n",
        "s = 'abcde'"
      ],
      "metadata": {
        "id": "tzRqe-W05Lc7"
      },
      "execution_count": 27,
      "outputs": []
    },
    {
      "cell_type": "code",
      "source": [
        "s[0] = '!'   # can I do this?"
      ],
      "metadata": {
        "colab": {
          "base_uri": "https://localhost:8080/",
          "height": 175
        },
        "id": "kHipMv-i5PjA",
        "outputId": "76d54abc-2f1d-4990-e172-3b0c0f2e5ad7"
      },
      "execution_count": 28,
      "outputs": [
        {
          "output_type": "error",
          "ename": "TypeError",
          "evalue": "ignored",
          "traceback": [
            "\u001b[0;31m---------------------------------------------------------------------------\u001b[0m",
            "\u001b[0;31mTypeError\u001b[0m                                 Traceback (most recent call last)",
            "\u001b[0;32m<ipython-input-28-f633c06c578d>\u001b[0m in \u001b[0;36m<cell line: 1>\u001b[0;34m()\u001b[0m\n\u001b[0;32m----> 1\u001b[0;31m \u001b[0ms\u001b[0m\u001b[0;34m[\u001b[0m\u001b[0;36m0\u001b[0m\u001b[0;34m]\u001b[0m \u001b[0;34m=\u001b[0m \u001b[0;34m'!'\u001b[0m   \u001b[0;31m# can I do this?\u001b[0m\u001b[0;34m\u001b[0m\u001b[0;34m\u001b[0m\u001b[0m\n\u001b[0m",
            "\u001b[0;31mTypeError\u001b[0m: 'str' object does not support item assignment"
          ]
        }
      ]
    },
    {
      "cell_type": "code",
      "source": [
        "# what about our lists?\n",
        "\n",
        "mylist[0] = '!'"
      ],
      "metadata": {
        "id": "1HbWLQf05SwX"
      },
      "execution_count": 29,
      "outputs": []
    },
    {
      "cell_type": "code",
      "source": [
        "mylist"
      ],
      "metadata": {
        "colab": {
          "base_uri": "https://localhost:8080/"
        },
        "id": "3Ht7Tujd5Uvd",
        "outputId": "fc899bf1-7eef-45ba-d3cd-3371abf400aa"
      },
      "execution_count": 30,
      "outputs": [
        {
          "output_type": "execute_result",
          "data": {
            "text/plain": [
              "['!', 20, 30]"
            ]
          },
          "metadata": {},
          "execution_count": 30
        }
      ]
    },
    {
      "cell_type": "code",
      "source": [
        "biglist  # which we defined earlier to be [mylist, mylist, mylist]"
      ],
      "metadata": {
        "colab": {
          "base_uri": "https://localhost:8080/"
        },
        "id": "xTAeXAsV5Zaj",
        "outputId": "05c0b56f-18c0-4c2c-b531-b0ecb7e8d976"
      },
      "execution_count": 31,
      "outputs": [
        {
          "output_type": "execute_result",
          "data": {
            "text/plain": [
              "[['!', 20, 30], ['!', 20, 30], ['!', 20, 30]]"
            ]
          },
          "metadata": {},
          "execution_count": 31
        }
      ]
    },
    {
      "cell_type": "markdown",
      "source": [
        "**We can modify a list's size, too!**\n",
        "\n",
        "So far, we've seen that we can modify an existing value in a list. Can we add to the number of elements in a list? Yes, using the list.append method, which adds an element to the end of the list.\n",
        "\n",
        "We can remove the final element of a list with list.pop. This removes and returns whatever was at the end."
      ],
      "metadata": {
        "id": "TCVwPGe76yfn"
      }
    },
    {
      "cell_type": "code",
      "source": [
        "mylist = [10, 20, 30]\n",
        "mylist.append(40)\n",
        "mylist.append(50)\n",
        "\n",
        "mylist"
      ],
      "metadata": {
        "colab": {
          "base_uri": "https://localhost:8080/"
        },
        "id": "UdDyK8An61T4",
        "outputId": "6289e8e9-46ca-4b71-e6c9-b12d295e427d"
      },
      "execution_count": 32,
      "outputs": [
        {
          "output_type": "execute_result",
          "data": {
            "text/plain": [
              "[10, 20, 30, 40, 50]"
            ]
          },
          "metadata": {},
          "execution_count": 32
        }
      ]
    },
    {
      "cell_type": "code",
      "source": [
        "# what if I try to add multiple things at once?\n",
        "\n",
        "mylist.append([100, 200, 300])  # this will work poorly!"
      ],
      "metadata": {
        "id": "-_j3hsfK67Na"
      },
      "execution_count": 33,
      "outputs": []
    },
    {
      "cell_type": "code",
      "source": [
        "mylist"
      ],
      "metadata": {
        "colab": {
          "base_uri": "https://localhost:8080/"
        },
        "id": "FA031Ddh69Gm",
        "outputId": "cff5a2a4-2d98-4e2f-cfbc-6234268a211c"
      },
      "execution_count": 34,
      "outputs": [
        {
          "output_type": "execute_result",
          "data": {
            "text/plain": [
              "[10, 20, 30, 40, 50, [100, 200, 300]]"
            ]
          },
          "metadata": {},
          "execution_count": 34
        }
      ]
    },
    {
      "cell_type": "code",
      "source": [
        "# how can we get rid of what we just added?\n",
        "\n",
        "mylist.pop()"
      ],
      "metadata": {
        "colab": {
          "base_uri": "https://localhost:8080/"
        },
        "id": "oqW1RDm37AuK",
        "outputId": "122c17dd-8907-4ad2-c8e5-fe3fe5935d58"
      },
      "execution_count": 35,
      "outputs": [
        {
          "output_type": "execute_result",
          "data": {
            "text/plain": [
              "[100, 200, 300]"
            ]
          },
          "metadata": {},
          "execution_count": 35
        }
      ]
    },
    {
      "cell_type": "code",
      "source": [
        "# is there a way for us to add more than one thing at a time?\n",
        "# answer: Yes, use +=\n",
        "\n",
        "mylist = [10, 20, 30]\n",
        "mylist += [40, 50, 60, 70]  # += basically runs a for loop on the list, adding each element to the end of mylist\n",
        "mylist"
      ],
      "metadata": {
        "colab": {
          "base_uri": "https://localhost:8080/"
        },
        "id": "DNL0e6ZC7Enk",
        "outputId": "2fa1863d-0cc2-406b-d7d5-d2da6c1547b5"
      },
      "execution_count": 36,
      "outputs": [
        {
          "output_type": "execute_result",
          "data": {
            "text/plain": [
              "[10, 20, 30, 40, 50, 60, 70]"
            ]
          },
          "metadata": {},
          "execution_count": 36
        }
      ]
    },
    {
      "cell_type": "code",
      "source": [
        "mylist = [1,2,3,'Two','Twelve']\n",
        "\n",
        "mylist[1:3]  # this means: from index 1 until (not including) index 3."
      ],
      "metadata": {
        "colab": {
          "base_uri": "https://localhost:8080/"
        },
        "id": "yGB9JoW37NCZ",
        "outputId": "4cf22f24-88c7-4522-ea7b-270ce84ce9be"
      },
      "execution_count": 37,
      "outputs": [
        {
          "output_type": "execute_result",
          "data": {
            "text/plain": [
              "[2, 3]"
            ]
          },
          "metadata": {},
          "execution_count": 37
        }
      ]
    },
    {
      "cell_type": "markdown",
      "source": [
        "**Exercise: Vowels, digits, and others -- list version**\n",
        "\n",
        "1.Define three empty lists (i.e., just [] with nothing in them)\n",
        "\n",
        "2.Ask the user to enter a string.\n",
        "\n",
        "3.Go through each character in the string, deciding:\n",
        "\n",
        "-Is it a vowel? If so, append it to vowels\n",
        "\n",
        "-Is a digit? If so, append it to digits\n",
        "\n",
        "-Is it neither, then append it others\n",
        "\n",
        "At the end, print the lists, containing the characters from our user's input."
      ],
      "metadata": {
        "id": "4xRLmD0bcCTO"
      }
    },
    {
      "cell_type": "code",
      "source": [
        "vowels = []\n",
        "digits = []\n",
        "others = []\n",
        "\n",
        "s = input('Enter a string: ').strip()\n",
        "\n",
        "for one_character in s:\n",
        "  if one_character in 'aeiou':\n",
        "    vowels.append(one_character)\n",
        "  elif one_character.isdigit():\n",
        "    digits.append(one_character)\n",
        "  else:\n",
        "    others.append(one_character)\n",
        "\n",
        "print(f'vowels = {vowels}')\n",
        "print(f'digits = {digits}')\n",
        "print(f'others = {others}')\n"
      ],
      "metadata": {
        "colab": {
          "base_uri": "https://localhost:8080/"
        },
        "id": "XUDX5T6BcPfL",
        "outputId": "e49baf65-fccc-4c99-f20e-c8c427015b32"
      },
      "execution_count": 1,
      "outputs": [
        {
          "output_type": "stream",
          "name": "stdout",
          "text": [
            "Enter a string: hello123!\n",
            "vowels = ['e', 'o']\n",
            "digits = ['1', '2', '3']\n",
            "others = ['h', 'l', 'l', '!']\n"
          ]
        }
      ]
    },
    {
      "cell_type": "code",
      "source": [
        "# let's say I want to add to a list\n",
        "\n",
        "mylist = [10, 20, 30]\n",
        "mylist.append(40)   # this is the right way!\n",
        "mylist"
      ],
      "metadata": {
        "colab": {
          "base_uri": "https://localhost:8080/"
        },
        "id": "L_iyxiHIeS2V",
        "outputId": "8e353ac7-9eca-40bb-d7ed-586ba47f1dfe"
      },
      "execution_count": 3,
      "outputs": [
        {
          "output_type": "execute_result",
          "data": {
            "text/plain": [
              "[10, 20, 30, 40]"
            ]
          },
          "metadata": {},
          "execution_count": 3
        }
      ]
    },
    {
      "cell_type": "code",
      "source": [
        "mylist = mylist.append(50)   # this is the WRONG way! You will erase your list this way!\n",
        "\n",
        "print(mylist)"
      ],
      "metadata": {
        "colab": {
          "base_uri": "https://localhost:8080/"
        },
        "id": "2e0PpyCWeZTO",
        "outputId": "0c109248-5d2a-4ff5-f2a8-fb8deb5cac19"
      },
      "execution_count": 4,
      "outputs": [
        {
          "output_type": "stream",
          "name": "stdout",
          "text": [
            "None\n"
          ]
        }
      ]
    },
    {
      "cell_type": "markdown",
      "source": [
        "**Exercise: Big and small**\n",
        "\n",
        "1.Define two empty lists, big and small\n",
        "\n",
        "2.Ask the user to enter a numeric threshold, into the variable threshold.\n",
        "\n",
        "3.Ask the user to enter, one by one, integers.\n",
        "\n",
        "4.If they enter an empty string, stop asking and just show big and small.\n",
        "\n",
        "5.If they enter non-digits, scold them a bit\n",
        "\n",
        "6.If they enter a number, check if it's larger than the threshold. If so, the number goes into big. Otherwise, it goes into small.\n",
        "\n",
        "7.Print big and small.\n",
        "\n",
        "Example:\n",
        "\n",
        "-Enter a threshold: 5\n",
        "\n",
        "-Enter a number: 3   \n",
        "\n",
        "-Enter a number: 22\n",
        "\n",
        "-Enter a number: 2\n",
        "\n",
        "-Enter a number: 8\n",
        "\n",
        "-Enter a number: [ENTER]\n",
        "\n",
        "-big: [22, 8]\n",
        "\n",
        "-small: [3, 2]"
      ],
      "metadata": {
        "id": "95Otz5e6e3K0"
      }
    },
    {
      "cell_type": "code",
      "source": [
        "big = []\n",
        "small = []\n",
        "\n",
        "threshold = int(input('Enter a threshold number: ').strip())\n",
        "\n",
        "while True:                   #potentially dangerous -- better make sure we have an escape hatch\n",
        "    s = input('Enter a number: ').strip()\n",
        "\n",
        "    if s == '':\n",
        "      break\n",
        "\n",
        "    if not s.isdigit():\n",
        "      print(f'Only digits, Enter input again')\n",
        "      continue\n",
        "\n",
        "\n",
        "    n = int(s)\n",
        "\n",
        "    if n > threshold:\n",
        "        big.append(n)\n",
        "    else:\n",
        "        small.append(n)\n",
        "\n",
        "print(big)\n",
        "print(small)\n"
      ],
      "metadata": {
        "colab": {
          "base_uri": "https://localhost:8080/"
        },
        "id": "0vlm5pTTfJeB",
        "outputId": "b934bfd8-f529-4366-bbab-f938dda99059"
      },
      "execution_count": 9,
      "outputs": [
        {
          "output_type": "stream",
          "name": "stdout",
          "text": [
            "Enter a threshold number: 5\n",
            "Enter a number: 3\n",
            "Enter a number: 22\n",
            "Enter a number: 2\n",
            "Enter a number: 8\n",
            "Enter a number: \n",
            "[22, 8]\n",
            "[3, 2]\n"
          ]
        }
      ]
    },
    {
      "cell_type": "markdown",
      "source": [
        "**Next up**\n",
        "\n",
        "Joining and splitting\n",
        "\n",
        "Tuples"
      ],
      "metadata": {
        "id": "RB6Btj_jlKk8"
      }
    },
    {
      "cell_type": "code",
      "source": [
        "# let's assume that we have a string that looks like this:\n",
        "\n",
        "s = 'abcd:ef:ghi'\n",
        "\n",
        "# we see not just a bunch of characters, but also three \"fields\" in this string\n",
        "\n",
        "# how can we turn this string into a list of those fields?\n",
        "\n",
        "# answer: the \"str.split\" method, a string method that always returns a list of strings.\n",
        "\n",
        "# we also have to specify what character(s) should be seen as the field separator\n",
        "\n",
        "s.split(':')   # this returns a new list of strings, and does NOT modify s"
      ],
      "metadata": {
        "colab": {
          "base_uri": "https://localhost:8080/"
        },
        "id": "8mrE1gmklNNn",
        "outputId": "18634c55-f75a-4cf3-ea28-0755867b1284"
      },
      "execution_count": 10,
      "outputs": [
        {
          "output_type": "execute_result",
          "data": {
            "text/plain": [
              "['abcd', 'ef', 'ghi']"
            ]
          },
          "metadata": {},
          "execution_count": 10
        }
      ]
    },
    {
      "cell_type": "code",
      "source": [
        "# I could say:\n",
        "\n",
        "s.split('d')"
      ],
      "metadata": {
        "colab": {
          "base_uri": "https://localhost:8080/"
        },
        "id": "IemsYitflc_a",
        "outputId": "99ce2c31-82c3-485b-d992-4d6417f5c351"
      },
      "execution_count": 11,
      "outputs": [
        {
          "output_type": "execute_result",
          "data": {
            "text/plain": [
              "['abc', ':ef:ghi']"
            ]
          },
          "metadata": {},
          "execution_count": 11
        }
      ]
    },
    {
      "cell_type": "code",
      "source": [
        "s = 'abcd,ef,,ghi'\n",
        "\n",
        "s.split(',')  # this is pretty common"
      ],
      "metadata": {
        "colab": {
          "base_uri": "https://localhost:8080/"
        },
        "id": "I9AUFYVElh07",
        "outputId": "8c22dc6c-431c-40b8-f4a1-cfbf19e9bade"
      },
      "execution_count": 12,
      "outputs": [
        {
          "output_type": "execute_result",
          "data": {
            "text/plain": [
              "['abcd', 'ef', '', 'ghi']"
            ]
          },
          "metadata": {},
          "execution_count": 12
        }
      ]
    },
    {
      "cell_type": "code",
      "source": [
        "# what about words in a sentence?\n",
        "\n",
        "s = 'this is a bunch of words for my Python class'\n",
        "\n",
        "s.split(' ')"
      ],
      "metadata": {
        "colab": {
          "base_uri": "https://localhost:8080/"
        },
        "id": "oljbFqGRll-R",
        "outputId": "e47f37e1-2897-4f30-a5b6-603b7a664c73"
      },
      "execution_count": 13,
      "outputs": [
        {
          "output_type": "execute_result",
          "data": {
            "text/plain": [
              "['this', 'is', 'a', 'bunch', 'of', 'words', 'for', 'my', 'Python', 'class']"
            ]
          },
          "metadata": {},
          "execution_count": 13
        }
      ]
    },
    {
      "cell_type": "code",
      "source": [
        "# what about this:\n",
        "\n",
        "s = 'this is    a bunch  of words    for my     Python class'\n",
        "\n",
        "s.split(' ')"
      ],
      "metadata": {
        "colab": {
          "base_uri": "https://localhost:8080/"
        },
        "id": "5QeyWFYFlqjP",
        "outputId": "0d0b0232-c1b4-494f-984d-22663900463f"
      },
      "execution_count": 14,
      "outputs": [
        {
          "output_type": "execute_result",
          "data": {
            "text/plain": [
              "['this',\n",
              " 'is',\n",
              " '',\n",
              " '',\n",
              " '',\n",
              " 'a',\n",
              " 'bunch',\n",
              " '',\n",
              " 'of',\n",
              " 'words',\n",
              " '',\n",
              " '',\n",
              " '',\n",
              " 'for',\n",
              " 'my',\n",
              " '',\n",
              " '',\n",
              " '',\n",
              " '',\n",
              " 'Python',\n",
              " 'class']"
            ]
          },
          "metadata": {},
          "execution_count": 14
        }
      ]
    },
    {
      "cell_type": "code",
      "source": [
        "# we can avoid this problem by splitting without an argument\n",
        "\n",
        "# that forces split to use all whitespace (space, \\n, \\r, \\t, \\v)\n",
        "# of any length\n",
        "\n",
        "mylist = s.split()  # this is the best and easiest way!\n",
        "mylist"
      ],
      "metadata": {
        "colab": {
          "base_uri": "https://localhost:8080/"
        },
        "id": "JTjXb8X1lysT",
        "outputId": "b08db0b3-16d3-404e-c682-696fe6169d8e"
      },
      "execution_count": 15,
      "outputs": [
        {
          "output_type": "execute_result",
          "data": {
            "text/plain": [
              "['this', 'is', 'a', 'bunch', 'of', 'words', 'for', 'my', 'Python', 'class']"
            ]
          },
          "metadata": {},
          "execution_count": 15
        }
      ]
    },
    {
      "cell_type": "markdown",
      "source": [
        "**Exercise: Summing numbers**\n",
        "\n",
        "Define total to be 0.\n",
        "\n",
        "Ask the user to enter a string containing integers separated by spaces.\n",
        "\n",
        "Go through each of the numbers in the string, one by one. If it's not numeric, ignore it/scold the user.\n",
        "\n",
        "If it is numeric, then add to total.\n",
        "\n",
        "Print total."
      ],
      "metadata": {
        "id": "svivNrKRl5mA"
      }
    },
    {
      "cell_type": "code",
      "source": [
        "total = 0\n",
        "\n",
        "s = input('Enter some numbers: ').strip()\n",
        "\n",
        "for one_number in s.split():\n",
        "  if one_number.isdigit():\n",
        "    total += int(one_number)\n",
        "\n",
        "  else:\n",
        "    print(f'Hey! {one_number} is not numeric; ignoring')\n",
        "\n",
        "print(total)"
      ],
      "metadata": {
        "colab": {
          "base_uri": "https://localhost:8080/"
        },
        "id": "s4ITj_mmmACt",
        "outputId": "3350feac-9af0-4595-8043-20881a7949a2"
      },
      "execution_count": 16,
      "outputs": [
        {
          "output_type": "stream",
          "name": "stdout",
          "text": [
            "Enter some numbers: 10 20 30 40\n",
            "100\n"
          ]
        }
      ]
    },
    {
      "cell_type": "markdown",
      "source": [
        "**Joining with str.join**\n",
        "\n",
        "What happens if you have a list of strings, and you want to turn them into a single string.\n",
        "\n",
        "Example: If I have mylist = ['abcd', 'ef', 'ghi'] as a list of strings, I can join it together, putting spaces between the elements, with\n",
        "\n",
        "**glue**\n",
        "\n",
        "' '.join(mylist)"
      ],
      "metadata": {
        "id": "n-SQ6je0pyDp"
      }
    },
    {
      "cell_type": "code",
      "source": [
        "mylist = ['abcd', 'ef', 'ghi']\n",
        "' '.join(mylist)"
      ],
      "metadata": {
        "colab": {
          "base_uri": "https://localhost:8080/",
          "height": 35
        },
        "id": "21aqBoqap2RJ",
        "outputId": "869cb9e5-1604-4dd9-ec8a-7ebc5079ceef"
      },
      "execution_count": 17,
      "outputs": [
        {
          "output_type": "execute_result",
          "data": {
            "text/plain": [
              "'abcd ef ghi'"
            ],
            "application/vnd.google.colaboratory.intrinsic+json": {
              "type": "string"
            }
          },
          "metadata": {},
          "execution_count": 17
        }
      ]
    },
    {
      "cell_type": "code",
      "source": [
        "# has to be a list of strings!\n",
        "\n",
        "' '.join([10, 20, 30])"
      ],
      "metadata": {
        "colab": {
          "base_uri": "https://localhost:8080/",
          "height": 210
        },
        "id": "eWm_p2hoqVFM",
        "outputId": "ca4eb6db-66d0-45c0-ddd8-e66f8daff030"
      },
      "execution_count": 18,
      "outputs": [
        {
          "output_type": "error",
          "ename": "TypeError",
          "evalue": "ignored",
          "traceback": [
            "\u001b[0;31m---------------------------------------------------------------------------\u001b[0m",
            "\u001b[0;31mTypeError\u001b[0m                                 Traceback (most recent call last)",
            "\u001b[0;32m<ipython-input-18-73aac3f049b9>\u001b[0m in \u001b[0;36m<cell line: 3>\u001b[0;34m()\u001b[0m\n\u001b[1;32m      1\u001b[0m \u001b[0;31m# has to be a list of strings!\u001b[0m\u001b[0;34m\u001b[0m\u001b[0;34m\u001b[0m\u001b[0m\n\u001b[1;32m      2\u001b[0m \u001b[0;34m\u001b[0m\u001b[0m\n\u001b[0;32m----> 3\u001b[0;31m \u001b[0;34m' '\u001b[0m\u001b[0;34m.\u001b[0m\u001b[0mjoin\u001b[0m\u001b[0;34m(\u001b[0m\u001b[0;34m[\u001b[0m\u001b[0;36m10\u001b[0m\u001b[0;34m,\u001b[0m \u001b[0;36m20\u001b[0m\u001b[0;34m,\u001b[0m \u001b[0;36m30\u001b[0m\u001b[0;34m]\u001b[0m\u001b[0;34m)\u001b[0m\u001b[0;34m\u001b[0m\u001b[0;34m\u001b[0m\u001b[0m\n\u001b[0m",
            "\u001b[0;31mTypeError\u001b[0m: sequence item 0: expected str instance, int found"
          ]
        }
      ]
    },
    {
      "cell_type": "markdown",
      "source": [
        "**Exercise: Pig Latin Sentence**\n",
        "\n",
        "Last week, we wrote a program that takes a single word from the user, and translates it into Pig Latin. This week, we'll be going one step further, allowing us to translate entire sentences. (All lowercase, no punctuation.)\n",
        "\n",
        "Last week's code was:\n",
        "\n",
        "word = input('Enter a word: ').strip()\n",
        "\n",
        "if word[0] in 'aeiou':\n",
        "    \n",
        "    print(word + 'way')\n",
        "\n",
        "else:\n",
        "\n",
        "    print(word[1:] + word[0] + 'ay')\n",
        "\n",
        "now we want to do the same for an entire sentence:\n",
        "\n",
        "Ask the user to enter a sentece.\n",
        "\n",
        "Translate the words in the sentence into Pig Latin.\n",
        "\n",
        "Produce the final, translated version on a single line.\n",
        "\n",
        "(Consider a list of words that you can then join)."
      ],
      "metadata": {
        "id": "M4L65Ms4qmDW"
      }
    },
    {
      "cell_type": "code",
      "source": [
        "sentence = input('Enter a sentence: ').strip()\n",
        "output = []\n",
        "\n",
        "for word in sentence.split():\n",
        "  if word[0] in 'aeiou':\n",
        "    output.append(word + 'way')\n",
        "\n",
        "  else:\n",
        "    output.append(word[1:] + word[0] + 'ay')\n",
        "\n",
        "print(' '.join(output))\n"
      ],
      "metadata": {
        "colab": {
          "base_uri": "https://localhost:8080/"
        },
        "id": "Mx4aXJQ1q0QW",
        "outputId": "a3d90f67-b30d-41c1-e826-3791466389de"
      },
      "execution_count": 19,
      "outputs": [
        {
          "output_type": "stream",
          "name": "stdout",
          "text": [
            "Enter a sentence: this is a test for you\n",
            "histay isway away esttay orfay ouyay\n"
          ]
        }
      ]
    },
    {
      "cell_type": "markdown",
      "source": [
        "**Tuples**\n",
        "\n",
        "Strings are immutable, and contain only characters.\n",
        "\n",
        "Lists are mutable, and can contain anything.\n",
        "\n",
        "Tuples are immutable, and can contain anything.\n",
        "\n",
        "Tuples are the third (and final) part of the \"sequence\" family in Python.\n",
        "\n",
        "All three types share a lot of functionality:\n",
        "\n",
        "1.len(x) returns their length\n",
        "\n",
        "2.Use [] to retrieve one item\n",
        "\n",
        "3.Use [] to retrieve a slic\n",
        "\n",
        "4.Use a for loop to iterate over the elementse"
      ],
      "metadata": {
        "id": "o3GRdfHXs7Z4"
      }
    },
    {
      "cell_type": "code",
      "source": [
        "# let's define some tuples!\n",
        "# we use round parentheses and commas to create a tuple\n",
        "\n",
        "t = (10, 20, 30, 40, 50)"
      ],
      "metadata": {
        "id": "bZ4GWFGJtWOW"
      },
      "execution_count": 20,
      "outputs": []
    },
    {
      "cell_type": "code",
      "source": [
        "t[0]"
      ],
      "metadata": {
        "colab": {
          "base_uri": "https://localhost:8080/"
        },
        "id": "1MHdH4Skta7L",
        "outputId": "27eb34e7-a3b1-4dae-ee25-904fd5f7afc0"
      },
      "execution_count": 21,
      "outputs": [
        {
          "output_type": "execute_result",
          "data": {
            "text/plain": [
              "10"
            ]
          },
          "metadata": {},
          "execution_count": 21
        }
      ]
    },
    {
      "cell_type": "code",
      "source": [
        "t[0]= '!'"
      ],
      "metadata": {
        "colab": {
          "base_uri": "https://localhost:8080/",
          "height": 175
        },
        "id": "X2QqzIC9tggA",
        "outputId": "49cdc3ef-5e90-4930-fb4e-8a1351d66660"
      },
      "execution_count": 22,
      "outputs": [
        {
          "output_type": "error",
          "ename": "TypeError",
          "evalue": "ignored",
          "traceback": [
            "\u001b[0;31m---------------------------------------------------------------------------\u001b[0m",
            "\u001b[0;31mTypeError\u001b[0m                                 Traceback (most recent call last)",
            "\u001b[0;32m<ipython-input-22-7f37ea8adfa3>\u001b[0m in \u001b[0;36m<cell line: 1>\u001b[0;34m()\u001b[0m\n\u001b[0;32m----> 1\u001b[0;31m \u001b[0mt\u001b[0m\u001b[0;34m[\u001b[0m\u001b[0;36m0\u001b[0m\u001b[0;34m]\u001b[0m\u001b[0;34m=\u001b[0m \u001b[0;34m'!'\u001b[0m\u001b[0;34m\u001b[0m\u001b[0;34m\u001b[0m\u001b[0m\n\u001b[0m",
            "\u001b[0;31mTypeError\u001b[0m: 'tuple' object does not support item assignment"
          ]
        }
      ]
    },
    {
      "cell_type": "code",
      "source": [
        "# Tuple unpacking\n",
        "\n",
        "mylist = [10, 20, 30]\n",
        "\n",
        "x = mylist\n",
        "print(x)"
      ],
      "metadata": {
        "colab": {
          "base_uri": "https://localhost:8080/"
        },
        "id": "-LEX6l1Guxc9",
        "outputId": "72eaf57b-f6e3-4afe-9c40-ae1a27af96dc"
      },
      "execution_count": 23,
      "outputs": [
        {
          "output_type": "stream",
          "name": "stdout",
          "text": [
            "[10, 20, 30]\n"
          ]
        }
      ]
    },
    {
      "cell_type": "code",
      "source": [
        "x,y,z = mylist   # what happens now?"
      ],
      "metadata": {
        "id": "SgB9-zZNu1YV"
      },
      "execution_count": 24,
      "outputs": []
    },
    {
      "cell_type": "code",
      "source": [
        "# this works because the number of elements in mylist is the SAME as the number of variables on the left.\n",
        "\n",
        "x"
      ],
      "metadata": {
        "colab": {
          "base_uri": "https://localhost:8080/"
        },
        "id": "fib1NWzzu6JD",
        "outputId": "fd1e04df-acc0-44d0-81b7-42fee9d42883"
      },
      "execution_count": 25,
      "outputs": [
        {
          "output_type": "execute_result",
          "data": {
            "text/plain": [
              "10"
            ]
          },
          "metadata": {},
          "execution_count": 25
        }
      ]
    },
    {
      "cell_type": "code",
      "source": [
        "y"
      ],
      "metadata": {
        "colab": {
          "base_uri": "https://localhost:8080/"
        },
        "id": "OhUW5ytFu_P8",
        "outputId": "7ffc2ccc-b494-4110-831a-2f1b00e17c0e"
      },
      "execution_count": 27,
      "outputs": [
        {
          "output_type": "execute_result",
          "data": {
            "text/plain": [
              "20"
            ]
          },
          "metadata": {},
          "execution_count": 27
        }
      ]
    },
    {
      "cell_type": "code",
      "source": [
        "z"
      ],
      "metadata": {
        "colab": {
          "base_uri": "https://localhost:8080/"
        },
        "id": "dq4Wk8C4vEnQ",
        "outputId": "4f9307df-3efb-4ab4-904a-25538c5aa57e"
      },
      "execution_count": 28,
      "outputs": [
        {
          "output_type": "execute_result",
          "data": {
            "text/plain": [
              "30"
            ]
          },
          "metadata": {},
          "execution_count": 28
        }
      ]
    },
    {
      "cell_type": "code",
      "source": [
        "# where do people use tuple unpacking?\n",
        "\n",
        "x = 10\n",
        "y = 20\n",
        "\n",
        "# swap the variables\n",
        "x,y = y,x\n",
        "\n",
        "print(x)\n",
        "print(y)"
      ],
      "metadata": {
        "colab": {
          "base_uri": "https://localhost:8080/"
        },
        "id": "0HpB5qelvGXU",
        "outputId": "c82231d8-621f-4188-c369-acab27512990"
      },
      "execution_count": 29,
      "outputs": [
        {
          "output_type": "stream",
          "name": "stdout",
          "text": [
            "20\n",
            "10\n"
          ]
        }
      ]
    },
    {
      "cell_type": "code",
      "source": [
        "# here's an example of unpacking\n",
        "\n",
        "s = 'abcd'\n",
        "for index, one_character in enumerate(s):\n",
        "    print(f'{index}, {one_character}')"
      ],
      "metadata": {
        "colab": {
          "base_uri": "https://localhost:8080/"
        },
        "id": "2nm5I3dPvM2q",
        "outputId": "1261e3c6-798c-419d-ebdb-26944200ea0c"
      },
      "execution_count": 30,
      "outputs": [
        {
          "output_type": "stream",
          "name": "stdout",
          "text": [
            "0, a\n",
            "1, b\n",
            "2, c\n",
            "3, d\n"
          ]
        }
      ]
    },
    {
      "cell_type": "code",
      "source": [
        "for t in enumerate(s):\n",
        "    print(t)"
      ],
      "metadata": {
        "colab": {
          "base_uri": "https://localhost:8080/"
        },
        "id": "CuXRMSPQvRNg",
        "outputId": "0bea5b79-db51-43f8-c917-d9705f074f69"
      },
      "execution_count": 31,
      "outputs": [
        {
          "output_type": "stream",
          "name": "stdout",
          "text": [
            "(0, 'a')\n",
            "(1, 'b')\n",
            "(2, 'c')\n",
            "(3, 'd')\n"
          ]
        }
      ]
    }
  ]
}