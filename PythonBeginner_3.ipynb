{
  "nbformat": 4,
  "nbformat_minor": 0,
  "metadata": {
    "colab": {
      "provenance": [],
      "authorship_tag": "ABX9TyNtdPuxXtqROzRPzS06hdFH",
      "include_colab_link": true
    },
    "kernelspec": {
      "name": "python3",
      "display_name": "Python 3"
    },
    "language_info": {
      "name": "python"
    }
  },
  "cells": [
    {
      "cell_type": "markdown",
      "metadata": {
        "id": "view-in-github",
        "colab_type": "text"
      },
      "source": [
        "<a href=\"https://colab.research.google.com/github/vrushalee18/PythonBeginner/blob/main/PythonBeginner_3.ipynb\" target=\"_parent\"><img src=\"https://colab.research.google.com/assets/colab-badge.svg\" alt=\"Open In Colab\"/></a>"
      ]
    },
    {
      "cell_type": "markdown",
      "source": [
        "**Agenda: Dictionaries and files**\n",
        "\n",
        "Recap (loops, lists, and tuples)\n",
        "\n",
        "**Dictionaries**\n",
        "\n",
        "1.Defining them\n",
        "\n",
        "2.Retrieving from them\n",
        "\n",
        "3.Assigning to them / modifying them\n",
        "\n",
        "4.Accumulating in dictionaries\n",
        "\n",
        "5.Accumulating the unknown\n",
        "\n",
        "6.Looping over dicts\n",
        "\n",
        "7.How do dicts work?\n",
        "\n",
        "**Files**\n",
        "\n",
        "1.Reading from text files\n",
        "\n",
        "2.Looping over text files\n",
        "\n",
        "3.Writing to files and the with construct\n",
        "\n",
        "Download files from : https://files.lerner.co.il/exercise-files.zip"
      ],
      "metadata": {
        "id": "saFuN26QGj32"
      }
    },
    {
      "cell_type": "code",
      "execution_count": null,
      "metadata": {
        "colab": {
          "base_uri": "https://localhost:8080/"
        },
        "id": "RlX6TWWaFpSo",
        "outputId": "3ed88d6b-b725-41a0-9149-9d6eec2893ec"
      },
      "outputs": [
        {
          "output_type": "execute_result",
          "data": {
            "text/plain": [
              "20"
            ]
          },
          "metadata": {},
          "execution_count": 1
        }
      ],
      "source": [
        "#Extracting a value from a list in a list\n",
        "\n",
        "mylist = [10, 20, 30]\n",
        "\n",
        "# I want the item at index 1, aka 20\n",
        "mylist[1]"
      ]
    },
    {
      "cell_type": "code",
      "source": [
        "mylist = [[10, 20, 30], [40, 50, 60], [70, 80, 90]]\n",
        "\n",
        "# this is a list of 3 elements\n",
        "# each of those elements is itself a list of 3 integers\n",
        "\n",
        "mylist[1]   # what will this return? A list -- [40, 50, 60]"
      ],
      "metadata": {
        "colab": {
          "base_uri": "https://localhost:8080/"
        },
        "id": "oxGYceF9HBXk",
        "outputId": "485f52b7-a7bb-4384-ffe2-58ebd435be23"
      },
      "execution_count": null,
      "outputs": [
        {
          "output_type": "execute_result",
          "data": {
            "text/plain": [
              "[40, 50, 60]"
            ]
          },
          "metadata": {},
          "execution_count": 2
        }
      ]
    },
    {
      "cell_type": "code",
      "source": [
        "# How can we retrieve 50 from that inner list?\n",
        "\n",
        "inner_list = mylist[1]  # will this work?\n",
        "inner_list[1]    # get index 1 from inner_list"
      ],
      "metadata": {
        "colab": {
          "base_uri": "https://localhost:8080/"
        },
        "id": "zEQVggbUHGba",
        "outputId": "4907d24e-8996-4451-a9e8-a40564794dc0"
      },
      "execution_count": null,
      "outputs": [
        {
          "output_type": "execute_result",
          "data": {
            "text/plain": [
              "50"
            ]
          },
          "metadata": {},
          "execution_count": 3
        }
      ]
    },
    {
      "cell_type": "code",
      "source": [
        "inner_list[0]  # get index 0 from inner_list"
      ],
      "metadata": {
        "colab": {
          "base_uri": "https://localhost:8080/"
        },
        "id": "C6B9CljqHJiv",
        "outputId": "18222fc7-3537-4c90-ba2f-93ca46538d48"
      },
      "execution_count": null,
      "outputs": [
        {
          "output_type": "execute_result",
          "data": {
            "text/plain": [
              "40"
            ]
          },
          "metadata": {},
          "execution_count": 4
        }
      ]
    },
    {
      "cell_type": "code",
      "source": [
        "# now, let's do that WITHOUT another variable\n",
        "# we'll get index 0 from the list at mylist[1]\n",
        "\n",
        "mylist[1][0]   # read the expression from left to right -- mylist, get its element [1]\n",
        "               # that returns [40, 50, 60].  Apply [0] to that list, and we get 40"
      ],
      "metadata": {
        "colab": {
          "base_uri": "https://localhost:8080/"
        },
        "id": "Ovx8ydIVHMt3",
        "outputId": "685a54c1-318e-4e18-8215-4c1ce2246984"
      },
      "execution_count": null,
      "outputs": [
        {
          "output_type": "execute_result",
          "data": {
            "text/plain": [
              "40"
            ]
          },
          "metadata": {},
          "execution_count": 5
        }
      ]
    },
    {
      "cell_type": "markdown",
      "source": [
        "**Data structures so far**\n",
        "\n",
        "So far, we've talked about some simple data structures:\n",
        "\n",
        "*Integers and floats\n",
        "\n",
        "*Booleans (True and False)\n",
        "\n",
        "Then we discussed three types of data which are sequences:\n",
        "\n",
        "*Strings (immutable, and contain characters)\n",
        "\n",
        "*Lists (mutable, and contain anything -- but traditionally, all elements are of the same type)\n",
        "\n",
        "*Tuples (immutable and contain anything -- but traditionally, elements are of different types)\n",
        "\n",
        "We saw that with all sequences, we can run a for loop or we can use in to search in the sequence.\n",
        "\n",
        "Two big questions:\n",
        "\n",
        "1.How long does it take to run that search for an element in a sequence (string, list, tuple)?\n",
        "\n",
        "2.Wouldn't it be nice if we could use something other than integers (0, 1, 2, etc.) as indexes in our sequences?\n",
        "\n",
        "Right now, we're able to store lots of interesting and important data in a list, but the indexes are 0, 1, 2, etc. Which means that if I'm storing information about different people, and I have an ID number (SSN or national ID or employee ID) that uniquely identifies the person, I can't use that ID number easily as the index in my list. Rather, I have to use 0, 1, 2, 3, etc.\n",
        "\n",
        "Dictionaries are especially useful because they let us use anything as the key (which is the term we use in dicts instead of \"index\"). We can use ID numbers as our indexes (aka our keys). We can use names (yes, strings!) as our keys. We can actually use anything for a key that is immutable -- basically meaning numbers and strings, but theoretically anything immutable."
      ],
      "metadata": {
        "id": "7V7gyN2HKj8V"
      }
    },
    {
      "cell_type": "markdown",
      "source": [
        "**Dicts in a nutshell**\n",
        "\n",
        "A dictionary contains key-value pairs. Dicts exist in many programming languages, not just Python, but often with other names:\n",
        "\n",
        "1.   Hash tables\n",
        "2.   Hashes\n",
        "3.   Associative arrays\n",
        "4.   Key-value stores\n",
        "5.   Name-value pairs\n",
        "6.   Hashmaps\n",
        "7.   Maps\n",
        "\n",
        "Every key has one value, and every value has one key. There is no such thing, in a dict, of a key without a value or a value without a key.\n",
        "\n",
        "Keys are guaranteed to be unique -- they cannot repeat -- and must be immutable (again, basically numbers or strings).\n",
        "\n",
        "Values can be absolutely anything at all in Python.\n",
        "\n",
        "In this way, we have amazing flexibility when choosing our keys and values. Often, the keys will be a unique index into our data set."
      ],
      "metadata": {
        "id": "aKigNZTILDa8"
      }
    },
    {
      "cell_type": "code",
      "source": [
        "# let's define a dict!\n",
        "\n",
        "# 1. We use curly braces to define the dictionary\n",
        "# 2. Each key-value pair has a : between the key and the value\n",
        "# 3. We put commas between each key-value pair\n",
        "# 4. Keys can be anything immutable, and values can be anything at all\n",
        "# 5. Values can repeat if you want, but keys cannot.  Keys are guaranteed to be unique.\n",
        "\n",
        "d = {'a':10, 'b':20, 'c':30}"
      ],
      "metadata": {
        "id": "G7PaSCbHK6X9"
      },
      "execution_count": null,
      "outputs": []
    },
    {
      "cell_type": "code",
      "source": [
        "type(d)   # what kind of data do we have here?"
      ],
      "metadata": {
        "colab": {
          "base_uri": "https://localhost:8080/"
        },
        "id": "2bdNuVnpLqTM",
        "outputId": "815a9380-7925-43f5-bf1f-a9a3f97e55e0"
      },
      "execution_count": null,
      "outputs": [
        {
          "output_type": "execute_result",
          "data": {
            "text/plain": [
              "dict"
            ]
          },
          "metadata": {},
          "execution_count": 7
        }
      ]
    },
    {
      "cell_type": "code",
      "source": [
        "# How do I retrieve from a dict?\n",
        "# Just like with a string, list, or tuple with [] and the key we want inside of them\n",
        "\n",
        "d['a']   # retrieve the value with the key 'a'"
      ],
      "metadata": {
        "colab": {
          "base_uri": "https://localhost:8080/"
        },
        "id": "Z_0zABxZLtil",
        "outputId": "739be279-04f9-4510-f6fa-3f780abd1bff"
      },
      "execution_count": null,
      "outputs": [
        {
          "output_type": "execute_result",
          "data": {
            "text/plain": [
              "10"
            ]
          },
          "metadata": {},
          "execution_count": 8
        }
      ]
    },
    {
      "cell_type": "code",
      "source": [
        "k = 'a'\n",
        "d[k]    # will this work, using a variable that refers to a string?"
      ],
      "metadata": {
        "colab": {
          "base_uri": "https://localhost:8080/"
        },
        "id": "_axf7Cr3Lwap",
        "outputId": "7d5d79b2-4b06-4bc5-9b84-60635d7eace6"
      },
      "execution_count": null,
      "outputs": [
        {
          "output_type": "execute_result",
          "data": {
            "text/plain": [
              "10"
            ]
          },
          "metadata": {},
          "execution_count": 9
        }
      ]
    },
    {
      "cell_type": "code",
      "source": [
        "# what if I try to retrieve the value for a key that doesn't exist?\n",
        "d['q']"
      ],
      "metadata": {
        "colab": {
          "base_uri": "https://localhost:8080/",
          "height": 193
        },
        "id": "5IQ28lpgLzH-",
        "outputId": "4685b98b-c993-4051-f81a-79265bd70e4c"
      },
      "execution_count": null,
      "outputs": [
        {
          "output_type": "error",
          "ename": "KeyError",
          "evalue": "ignored",
          "traceback": [
            "\u001b[0;31m---------------------------------------------------------------------------\u001b[0m",
            "\u001b[0;31mKeyError\u001b[0m                                  Traceback (most recent call last)",
            "\u001b[0;32m<ipython-input-10-42024540ac7f>\u001b[0m in \u001b[0;36m<cell line: 2>\u001b[0;34m()\u001b[0m\n\u001b[1;32m      1\u001b[0m \u001b[0;31m# what if I try to retrieve the value for a key that doesn't exist?\u001b[0m\u001b[0;34m\u001b[0m\u001b[0;34m\u001b[0m\u001b[0m\n\u001b[0;32m----> 2\u001b[0;31m \u001b[0md\u001b[0m\u001b[0;34m[\u001b[0m\u001b[0;34m'q'\u001b[0m\u001b[0;34m]\u001b[0m\u001b[0;34m\u001b[0m\u001b[0;34m\u001b[0m\u001b[0m\n\u001b[0m",
            "\u001b[0;31mKeyError\u001b[0m: 'q'"
          ]
        }
      ]
    },
    {
      "cell_type": "code",
      "source": [
        "# we can avoid these problems if we first check whether a key is in the dict\n",
        "# we can do that with the \"in\" operator\n",
        "\n",
        "if 'a' in d:       # 'in' only checks the keys, not the values.\n",
        "    print(d['a'])\n",
        "else:\n",
        "    print(f'a is not a key in d')"
      ],
      "metadata": {
        "colab": {
          "base_uri": "https://localhost:8080/"
        },
        "id": "u1lDdGO0L5Be",
        "outputId": "b9844489-9f68-4db9-fc01-343d500932e2"
      },
      "execution_count": null,
      "outputs": [
        {
          "output_type": "stream",
          "name": "stdout",
          "text": [
            "10\n"
          ]
        }
      ]
    },
    {
      "cell_type": "code",
      "source": [
        "if 'q' in d:       # 'in' only checks the keys, not the values.\n",
        "    print(d['q'])\n",
        "else:\n",
        "    print(f'q is not a key in d')"
      ],
      "metadata": {
        "colab": {
          "base_uri": "https://localhost:8080/"
        },
        "id": "joPJy1xOL9QM",
        "outputId": "22570642-f667-48d1-8e0f-769b996539b9"
      },
      "execution_count": null,
      "outputs": [
        {
          "output_type": "stream",
          "name": "stdout",
          "text": [
            "q is not a key in d\n"
          ]
        }
      ]
    },
    {
      "cell_type": "markdown",
      "source": [
        "**Variable names and value types**\n",
        "\n",
        "You can give ANY NAME YOU WANT to ANY VALUE YOU WANT in Python. No restrictions there, aside from reserved words."
      ],
      "metadata": {
        "id": "xng23ATUMD4y"
      }
    },
    {
      "cell_type": "markdown",
      "source": [
        "**Paradigms for dict use**\n",
        "\n",
        "I like to talk about three paradigms for dictionary use. We're going to use paradigm #1 in this exercise, namely creating a dict and using it as a read-only database in our program.\n",
        "\n",
        "We'll define it at the top of the program, then use it, but never modify it."
      ],
      "metadata": {
        "id": "rXwPiK2sMK5U"
      }
    },
    {
      "cell_type": "markdown",
      "source": [
        "**Exercise: Restaurant**\n",
        "\n",
        "\n",
        "1.   Define a dict called menu in which the keys are strings representing items on a restaurant menu, and the values are the prices of those items.\n",
        "\n",
        "2.   Define total to be 0.\n",
        "3.   Ask the user, repeatedly, to order something.\n",
        "\n",
        "*   If they give you the empty string, then stop asking and print the total.\n",
        "\n",
        "*   If they give you the name of something on the menu, then print the price and the new total. (And don't forget to add the price to the total.)\n",
        "*   If they ask for something not on the menu, then tell them it's out of stock.\n",
        "Print the total.\n",
        "\n",
        "\n",
        "Example:\n",
        "\n",
        "Order: sandwich\n",
        "\n",
        "Sandwich is 10, total is 10\n",
        "\n",
        "Order: tea\n",
        "\n",
        "Tea is 5, total is 15\n",
        "\n",
        "Order: elephant\n",
        "\n",
        "We are fresh out of elephant today!\n",
        "\n",
        "Order: [ENTER]\n",
        "\n",
        "Total is 15\n",
        "\n",
        "**Some things to remember:**\n",
        "\n",
        "1.   We can use a while True loop, which is infinite.\n",
        "Just don't forget to break when you want to exit from the loop, or it'll run forever.\n",
        "\n",
        "2.   When we use input to get input from the user, check to see if we got an empty string; if so, you can break out of the loop.\n",
        "\n",
        "3.   Ask the user for their input. If it's blank, break. If not, check to see if it's a key in the dict."
      ],
      "metadata": {
        "id": "2EeCjMdeNsuR"
      }
    },
    {
      "cell_type": "code",
      "source": [
        "# define my dict, a variable called \"menu\"\n",
        "\n",
        "menu = {'sandwich':10   ,   'tea':5   ,   'cake':7,     'apple':3  }"
      ],
      "metadata": {
        "id": "eSMFM4IgMGTj"
      },
      "execution_count": null,
      "outputs": []
    },
    {
      "cell_type": "code",
      "source": [
        "# what is the length of my dict?\n",
        "\n",
        "len(menu)"
      ],
      "metadata": {
        "colab": {
          "base_uri": "https://localhost:8080/"
        },
        "id": "hRt1pKElOuyV",
        "outputId": "fb997e93-e071-45dc-fe49-44c8e849b1cd"
      },
      "execution_count": null,
      "outputs": [
        {
          "output_type": "execute_result",
          "data": {
            "text/plain": [
              "4"
            ]
          },
          "metadata": {},
          "execution_count": 14
        }
      ]
    },
    {
      "cell_type": "code",
      "source": [
        "menu['sandwich']"
      ],
      "metadata": {
        "colab": {
          "base_uri": "https://localhost:8080/"
        },
        "id": "RHAlwB3aOyuJ",
        "outputId": "4ec7c2fe-1403-4b4a-c26f-0026312026b4"
      },
      "execution_count": null,
      "outputs": [
        {
          "output_type": "execute_result",
          "data": {
            "text/plain": [
              "10"
            ]
          },
          "metadata": {},
          "execution_count": 16
        }
      ]
    },
    {
      "cell_type": "code",
      "source": [
        "# in my \"menu\" dict, the convention is that the keys are the menu items,\n",
        "# and the values are the prices for the corresponding items.\n",
        "\n",
        "menu = {'sandwich':10   ,   'tea':5   ,   'cake':7,     'apple':3  }\n",
        "total = 0\n",
        "\n",
        "while True:                                       # infinite loop -- be sure to have an escape plan with \"break\" later on\n",
        "  order = input('Enter order: ').strip()          # ask the user for an order, remove whitespace, and assign to order\n",
        "\n",
        "  if order == '':   #this is my escape hatch\n",
        "      break\n",
        "\n",
        "#not an empty string? Lets find out if the string is a key in our \"menu\" dict\n",
        "  if order in menu:\n",
        "    price = menu[order]          # grab the price from the menu dict\n",
        "    total += price               # add the price to our total\n",
        "    print(f'{order} costs {price}; our new total is {total}')\n",
        "\n",
        "\n",
        "  else:\n",
        "    print(f'Sorry, we are all out of {order} today. Try something else.')\n",
        "\n",
        "print(f'Total is {total}')"
      ],
      "metadata": {
        "colab": {
          "base_uri": "https://localhost:8080/"
        },
        "id": "vmh3nV70eiW-",
        "outputId": "613f7d0b-ee7d-41a4-82b5-e8c37bc0df6a"
      },
      "execution_count": null,
      "outputs": [
        {
          "output_type": "stream",
          "name": "stdout",
          "text": [
            "Enter order: tea\n",
            "tea costs 5; our new total is 5\n",
            "Enter order: cake\n",
            "cake costs 7; our new total is 12\n",
            "Enter order: Latte\n",
            "Sorry, we are all out of Latte today. Try something else.\n",
            "Enter order: \n",
            "Total is 12\n"
          ]
        }
      ]
    },
    {
      "cell_type": "code",
      "source": [
        "menu"
      ],
      "metadata": {
        "colab": {
          "base_uri": "https://localhost:8080/"
        },
        "id": "jWqfWqH0gZwc",
        "outputId": "433ab6a1-39c7-4d82-ebbe-64ad473e4a00"
      },
      "execution_count": null,
      "outputs": [
        {
          "output_type": "execute_result",
          "data": {
            "text/plain": [
              "{'sandwich': 10, 'tea': 5, 'cake': 7, 'apple': 3}"
            ]
          },
          "metadata": {},
          "execution_count": 19
        }
      ]
    },
    {
      "cell_type": "code",
      "source": [
        "menu['tea']"
      ],
      "metadata": {
        "colab": {
          "base_uri": "https://localhost:8080/"
        },
        "id": "n6HFPj3Mg3B0",
        "outputId": "f52673b4-5f91-4aee-8a65-0cb64e49a7ee"
      },
      "execution_count": null,
      "outputs": [
        {
          "output_type": "execute_result",
          "data": {
            "text/plain": [
              "5"
            ]
          },
          "metadata": {},
          "execution_count": 21
        }
      ]
    },
    {
      "cell_type": "code",
      "source": [
        "price = menu['sandwich']   # this assigns the value 10 to the variable price\n",
        "print(price)"
      ],
      "metadata": {
        "colab": {
          "base_uri": "https://localhost:8080/"
        },
        "id": "PmowV89Tueax",
        "outputId": "74f7e3b3-d9f0-4637-f2b6-c5af93c512bb"
      },
      "execution_count": null,
      "outputs": [
        {
          "output_type": "stream",
          "name": "stdout",
          "text": [
            "10\n"
          ]
        }
      ]
    },
    {
      "cell_type": "code",
      "source": [
        "total = 0\n",
        "price = menu['sandwich']    # this assigns the value 10 to price\n",
        "total += price               # this adds the value of price to total\n",
        "total"
      ],
      "metadata": {
        "colab": {
          "base_uri": "https://localhost:8080/"
        },
        "id": "XwLGUWE-v2_5",
        "outputId": "05cc2023-d912-4646-ce6d-03f5b8818662"
      },
      "execution_count": null,
      "outputs": [
        {
          "output_type": "execute_result",
          "data": {
            "text/plain": [
              "10"
            ]
          },
          "metadata": {},
          "execution_count": 23
        }
      ]
    },
    {
      "cell_type": "code",
      "source": [
        "# if you want, you can create a dict from a list of tuples (or even a list of lists)\n",
        "# if each inner tuple/list contains two elements, that works:\n",
        "\n",
        "mylist = [('a',10), ('b',20), ('c',30)]\n",
        "dict(mylist)                # this returns a new dict based on mylist"
      ],
      "metadata": {
        "colab": {
          "base_uri": "https://localhost:8080/"
        },
        "id": "3MnMRMqnwvp9",
        "outputId": "70bdff46-1915-458b-d9d1-b5f6314d55cd"
      },
      "execution_count": null,
      "outputs": [
        {
          "output_type": "execute_result",
          "data": {
            "text/plain": [
              "{'a': 10, 'b': 20, 'c': 30}"
            ]
          },
          "metadata": {},
          "execution_count": 24
        }
      ]
    },
    {
      "cell_type": "code",
      "source": [
        "# what if we don't use in?\n",
        "# I assume you aren't asking: What if we just drop the word \"in\" from our query?\n",
        "\n",
        "order = 'sandwich'\n",
        "\n",
        "if order menu:  # this is not what you mean!\n",
        "    print('Good!')"
      ],
      "metadata": {
        "colab": {
          "base_uri": "https://localhost:8080/",
          "height": 140
        },
        "id": "sSjNw4ngyiuZ",
        "outputId": "b14c734a-5030-4556-89eb-cf2bd7080239"
      },
      "execution_count": null,
      "outputs": [
        {
          "output_type": "error",
          "ename": "SyntaxError",
          "evalue": "ignored",
          "traceback": [
            "\u001b[0;36m  File \u001b[0;32m\"<ipython-input-25-aa5a96457e6f>\"\u001b[0;36m, line \u001b[0;32m6\u001b[0m\n\u001b[0;31m    if order menu:  # this is not what you mean!\u001b[0m\n\u001b[0m             ^\u001b[0m\n\u001b[0;31mSyntaxError\u001b[0m\u001b[0;31m:\u001b[0m invalid syntax\n"
          ]
        }
      ]
    },
    {
      "cell_type": "code",
      "source": [
        "# I think you were asking: What happens if we don't check, using \"in\", whether the order\n",
        "# is in the dict? Then, what value do we get back?\n",
        "\n",
        "price = menu['sandwich']\n",
        "print(price)"
      ],
      "metadata": {
        "colab": {
          "base_uri": "https://localhost:8080/"
        },
        "id": "HOlyI_DrzpPt",
        "outputId": "251f25cc-93b4-4f1a-81d3-b93003e61fd3"
      },
      "execution_count": null,
      "outputs": [
        {
          "output_type": "stream",
          "name": "stdout",
          "text": [
            "10\n"
          ]
        }
      ]
    },
    {
      "cell_type": "code",
      "source": [
        "price = menu['elephant']\n",
        "print(price)"
      ],
      "metadata": {
        "colab": {
          "base_uri": "https://localhost:8080/",
          "height": 193
        },
        "id": "mnoStVlh0Mvv",
        "outputId": "5b7603d7-09d3-4d8b-e933-ee98944a903b"
      },
      "execution_count": null,
      "outputs": [
        {
          "output_type": "error",
          "ename": "KeyError",
          "evalue": "ignored",
          "traceback": [
            "\u001b[0;31m---------------------------------------------------------------------------\u001b[0m",
            "\u001b[0;31mKeyError\u001b[0m                                  Traceback (most recent call last)",
            "\u001b[0;32m<ipython-input-27-039588c8d4a4>\u001b[0m in \u001b[0;36m<cell line: 1>\u001b[0;34m()\u001b[0m\n\u001b[0;32m----> 1\u001b[0;31m \u001b[0mprice\u001b[0m \u001b[0;34m=\u001b[0m \u001b[0mmenu\u001b[0m\u001b[0;34m[\u001b[0m\u001b[0;34m'elephant'\u001b[0m\u001b[0;34m]\u001b[0m\u001b[0;34m\u001b[0m\u001b[0;34m\u001b[0m\u001b[0m\n\u001b[0m\u001b[1;32m      2\u001b[0m \u001b[0mprint\u001b[0m\u001b[0;34m(\u001b[0m\u001b[0mprice\u001b[0m\u001b[0;34m)\u001b[0m\u001b[0;34m\u001b[0m\u001b[0;34m\u001b[0m\u001b[0m\n",
            "\u001b[0;31mKeyError\u001b[0m: 'elephant'"
          ]
        }
      ]
    },
    {
      "cell_type": "markdown",
      "source": [
        "# Changing dictionaries\n",
        "Dicts, like lists, are mutable. They can be changed! Let's see."
      ],
      "metadata": {
        "id": "A3I4Drsn2vZb"
      }
    },
    {
      "cell_type": "code",
      "source": [
        "d = {'a':10, 'b':20, 'c':30}\n",
        "\n",
        "# what happens if I assign to an existing key?\n",
        "d['b'] = 1234"
      ],
      "metadata": {
        "id": "_xITZLNr20DK"
      },
      "execution_count": null,
      "outputs": []
    },
    {
      "cell_type": "code",
      "source": [
        "# assigning to an existing key keeps the key, but replaces the value.\n",
        "# (note that it does not add the old value to the new one. It just replaces it.)\n",
        "\n",
        "d"
      ],
      "metadata": {
        "colab": {
          "base_uri": "https://localhost:8080/"
        },
        "id": "DglNoi-c3GE1",
        "outputId": "bdc4243e-6f61-4ae2-bdc6-1313e25f3869"
      },
      "execution_count": null,
      "outputs": [
        {
          "output_type": "execute_result",
          "data": {
            "text/plain": [
              "{'a': 10, 'b': 1234, 'c': 30}"
            ]
          },
          "metadata": {},
          "execution_count": 29
        }
      ]
    },
    {
      "cell_type": "code",
      "source": [
        "# what if I assign to a key that does *not* exist?\n",
        "# we add a new key-value pair to a dict\n",
        "d['x'] = 5678\n",
        "d"
      ],
      "metadata": {
        "colab": {
          "base_uri": "https://localhost:8080/"
        },
        "id": "OXkDsQFL3RHb",
        "outputId": "0b67d1cc-abc8-4476-8cb1-6b5d7caabefc"
      },
      "execution_count": null,
      "outputs": [
        {
          "output_type": "execute_result",
          "data": {
            "text/plain": [
              "{'a': 10, 'b': 1234, 'c': 30, 'x': 5678}"
            ]
          },
          "metadata": {},
          "execution_count": 31
        }
      ]
    },
    {
      "cell_type": "markdown",
      "source": [
        "## Lists vs. dicts\n",
        "If you thought that there would be an append method for dicts, allowing us to add new elements, surprise! All we have to do is assign to a key-value pair. If the key is new, we get a new key-value pair. If the key already exists, then we replace the value."
      ],
      "metadata": {
        "id": "jXH-7KOS5W4f"
      }
    },
    {
      "cell_type": "code",
      "source": [
        "# FD asks: can floats be in dicts?\n",
        "# they can *definitely* be values in dicts, because ALL Python  objects an be values\n",
        "\n",
        "menu['water'] = 2.5\n",
        "menu"
      ],
      "metadata": {
        "colab": {
          "base_uri": "https://localhost:8080/"
        },
        "id": "xIpWc9Wu5l8w",
        "outputId": "3f5c15f7-874e-47f2-c79b-6ddac736d64e"
      },
      "execution_count": null,
      "outputs": [
        {
          "output_type": "execute_result",
          "data": {
            "text/plain": [
              "{'sandwich': 10, 'tea': 5, 'cake': 7, 'apple': 3, 'water': 2.5}"
            ]
          },
          "metadata": {},
          "execution_count": 33
        }
      ]
    },
    {
      "cell_type": "code",
      "source": [
        "price = menu['water']\n",
        "print(price)"
      ],
      "metadata": {
        "colab": {
          "base_uri": "https://localhost:8080/"
        },
        "id": "gQVFZzAN58eL",
        "outputId": "2cd9f50a-5b94-43ab-fcdc-cd38912c51a4"
      },
      "execution_count": null,
      "outputs": [
        {
          "output_type": "stream",
          "name": "stdout",
          "text": [
            "2.5\n"
          ]
        }
      ]
    },
    {
      "cell_type": "code",
      "source": [
        "type(price)"
      ],
      "metadata": {
        "colab": {
          "base_uri": "https://localhost:8080/"
        },
        "id": "5VnJxOaJ6JqK",
        "outputId": "a0ffbcc0-bee9-48a5-f74e-65925a7caba6"
      },
      "execution_count": null,
      "outputs": [
        {
          "output_type": "execute_result",
          "data": {
            "text/plain": [
              "float"
            ]
          },
          "metadata": {},
          "execution_count": 35
        }
      ]
    },
    {
      "cell_type": "code",
      "source": [
        "# can floats be *keys* in a dict?\n",
        "# answer: yes! They are immutable, just like integers"
      ],
      "metadata": {
        "id": "V1ot-UsO6T0R"
      },
      "execution_count": null,
      "outputs": []
    },
    {
      "cell_type": "code",
      "source": [
        "special_numbers = {3.14:'pi', 2.718281828459045:'e',-1:'i'}\n",
        "special_numbers[3.14]"
      ],
      "metadata": {
        "colab": {
          "base_uri": "https://localhost:8080/",
          "height": 35
        },
        "id": "bo_BOS1b6VLE",
        "outputId": "dc68e1c3-daa1-491e-e81a-08ba3c2467d5"
      },
      "execution_count": null,
      "outputs": [
        {
          "output_type": "execute_result",
          "data": {
            "text/plain": [
              "'pi'"
            ],
            "application/vnd.google.colaboratory.intrinsic+json": {
              "type": "string"
            }
          },
          "metadata": {},
          "execution_count": 38
        }
      ]
    },
    {
      "cell_type": "markdown",
      "source": [
        "#Every key has exactly one value. Every value has exactly one key.\n",
        "\n",
        "HOWEVER, a value can be a list, tuple, or dict. So a key could refer to a value that is a dict, whose values are lists, whose values are tuples, etc. etc."
      ],
      "metadata": {
        "id": "R5ALpeE9AM3K"
      }
    },
    {
      "cell_type": "markdown",
      "source": [
        "# Can we make the values in a dict immutable?\n",
        "If the values are immutable (e.g., strings), then we cannot change them. But that wasn't your question - you want to know if we can make it impossible to change the values in a dict.\n",
        "Answer: No.\n",
        "\n",
        "There might be a \"frozendict\" in Python that is created once, and then not changeable. There is a \"frozenset,\" and sets are second cousins of dictionaries."
      ],
      "metadata": {
        "id": "pecxSc0UBKqn"
      }
    },
    {
      "cell_type": "code",
      "source": [
        "# AK Formatting output, such as $2.50\n",
        "\n",
        "# We can actually use F-strings for this!\n",
        "\n",
        "price"
      ],
      "metadata": {
        "colab": {
          "base_uri": "https://localhost:8080/"
        },
        "id": "k245dhOmATXo",
        "outputId": "06f9109f-0269-4c2f-ea54-cda29390a050"
      },
      "execution_count": null,
      "outputs": [
        {
          "output_type": "execute_result",
          "data": {
            "text/plain": [
              "2.5"
            ]
          },
          "metadata": {},
          "execution_count": 39
        }
      ]
    },
    {
      "cell_type": "code",
      "source": [
        "# you can put lots of magic stuff after : in the {} in an f-string to modify\n",
        "# how things are displayed.\n",
        "\n",
        "print(f'the price is ${price:0.2f}.')  # :0.2f means: show 2 digits after the . for float values"
      ],
      "metadata": {
        "colab": {
          "base_uri": "https://localhost:8080/"
        },
        "id": "AbZZfH38GTqH",
        "outputId": "549df908-b49d-44c5-9f83-5bcb9129af4f"
      },
      "execution_count": null,
      "outputs": [
        {
          "output_type": "stream",
          "name": "stdout",
          "text": [
            "the price is $2.50.\n"
          ]
        }
      ]
    },
    {
      "cell_type": "code",
      "source": [
        "# keys cannot exist more than once in a dict\n",
        "d = {'a':10, 'b':20, 'c':30, 'a':40, 'b':50, 'c':60}\n",
        "\n",
        "d  # did we have duplicate keys? No way"
      ],
      "metadata": {
        "colab": {
          "base_uri": "https://localhost:8080/"
        },
        "id": "8xp7QKhMGW5x",
        "outputId": "422b4127-f1f0-41b8-fa71-753d9b4149ae"
      },
      "execution_count": null,
      "outputs": [
        {
          "output_type": "execute_result",
          "data": {
            "text/plain": [
              "{'a': 40, 'b': 50, 'c': 60}"
            ]
          },
          "metadata": {},
          "execution_count": 41
        }
      ]
    },
    {
      "cell_type": "code",
      "source": [
        "# what if I assign a key that already exists?\n",
        "d['a'] = 999\n",
        "d"
      ],
      "metadata": {
        "colab": {
          "base_uri": "https://localhost:8080/"
        },
        "id": "3h_jgNDaGc3G",
        "outputId": "f1e3ea0b-9d78-4a7a-b5e8-f8b7f51fc8f0"
      },
      "execution_count": null,
      "outputs": [
        {
          "output_type": "execute_result",
          "data": {
            "text/plain": [
              "{'a': 999, 'b': 50, 'c': 60}"
            ]
          },
          "metadata": {},
          "execution_count": 42
        }
      ]
    },
    {
      "cell_type": "code",
      "source": [
        "# How do we handle case-sensitive keys?\n",
        "\n",
        "# (1) are keys case sensitive? YES, definitely\n",
        "\n",
        "# (2) how can we deal with that? Answer: Use lowercase when creating the dict (if you can)\n",
        "# and then use .lower() on the user's input.\n",
        "\n",
        "# if you have mIxEd cAsE as keys in your dict.... good luck!"
      ],
      "metadata": {
        "id": "Wg6r8no6GgJD"
      },
      "execution_count": null,
      "outputs": []
    },
    {
      "cell_type": "markdown",
      "source": [
        "## What about removing items from a dict?\n",
        "First: I rarely find myself removing items from a dict in a program.\n",
        "\n",
        "Second: You can use the .pop method, which takes a key as an argument, and returns the value. Plus, it removes the key-value pair you specified."
      ],
      "metadata": {
        "id": "mrDeRmfCGkis"
      }
    },
    {
      "cell_type": "code",
      "source": [
        "d"
      ],
      "metadata": {
        "colab": {
          "base_uri": "https://localhost:8080/"
        },
        "id": "adQAUrCTGjQl",
        "outputId": "651d31bd-a475-439e-b1ed-84c89878cda2"
      },
      "execution_count": null,
      "outputs": [
        {
          "output_type": "execute_result",
          "data": {
            "text/plain": [
              "{'a': 999, 'b': 50, 'c': 60}"
            ]
          },
          "metadata": {},
          "execution_count": 44
        }
      ]
    },
    {
      "cell_type": "code",
      "source": [
        "d.pop('c')             # remove the key-value pair with the key 'c'\n",
        "60"
      ],
      "metadata": {
        "id": "gZXK8EPTGw9f"
      },
      "execution_count": null,
      "outputs": []
    },
    {
      "cell_type": "code",
      "source": [
        "d"
      ],
      "metadata": {
        "colab": {
          "base_uri": "https://localhost:8080/"
        },
        "id": "GHmV7DngHDvQ",
        "outputId": "3259960b-c56b-4b95-a0c7-754f28ab7f7e"
      },
      "execution_count": null,
      "outputs": [
        {
          "output_type": "execute_result",
          "data": {
            "text/plain": [
              "{'a': 999, 'b': 50}"
            ]
          },
          "metadata": {},
          "execution_count": 48
        }
      ]
    },
    {
      "cell_type": "markdown",
      "source": [
        "## Keys are primary in a dict\n",
        "The values in a dict are kind of along for the ride -- you cannot search on them, they don't determine any of the back-end storage (which we'll discuss later), and they can repeat.\n",
        "\n",
        "You always need to think about a dict as a one-way street -- via the key, you can get to the value. But via the value, you cannot easily get to the key."
      ],
      "metadata": {
        "id": "lEWzHqYvHTcT"
      }
    },
    {
      "cell_type": "markdown",
      "source": [
        "# Handling bad keys\n",
        "If you try to retrieve from a dict, and the key you specify doesn't exist in the dict, then you'll get an exception. If you encounter that exception, you can \"trap\" it with an exception handler, and then give the user a more normal error message.\n",
        "\n",
        "We're going to stick to searching in the dict via in for a key, and thus avoiding such trouble."
      ],
      "metadata": {
        "id": "vcyU2zL3HY-q"
      }
    },
    {
      "cell_type": "code",
      "source": [
        "# variation on our exercise code, with quantities\n",
        "\n",
        "menu = {'sandwich':10   ,   'tea':5   ,   'cake':7,     'apple':3  }\n",
        "total = 0\n",
        "\n",
        "while True:   # infinite loop -- be sure to have an escape plan with \"break\" later on\n",
        "    order = input('Order: ').strip()   # ask the user for an order, remove whitespace, and assign to order\n",
        "\n",
        "    if order == '':      # this is my escape hatch!\n",
        "        break\n",
        "\n",
        "    # not an empty string? Let's find out if the string is a key in our \"menu\" dict\n",
        "    if order in menu:\n",
        "        quantity_string = input('How many? ').strip()\n",
        "\n",
        "        if quantity_string.isdigit():\n",
        "            quantity = int(quantity_string)\n",
        "        else:\n",
        "            print(f'Non-numeric quantity; try again. ')\n",
        "            continue   # go back to the top of the while loop\n",
        "\n",
        "        price = menu[order]          # grab the price from the menu dict\n",
        "        total += price * quantity    # add the price to our total\n",
        "        print(f'{order} costs {price}; you ordered {quantity}; new total is {total}')\n",
        "\n",
        "    else:\n",
        "        print(f'Sorry, we are all out of {order} today. Try something else.')\n",
        "\n",
        "print(f'Total is {total}')"
      ],
      "metadata": {
        "colab": {
          "base_uri": "https://localhost:8080/"
        },
        "id": "4_LlzMAQHV5H",
        "outputId": "bea15fba-9e0c-49aa-b59a-e32df4d8dca5"
      },
      "execution_count": null,
      "outputs": [
        {
          "output_type": "stream",
          "name": "stdout",
          "text": [
            "Order: cake\n",
            "How many? 10\n",
            "cake costs 7; you ordered 10; new total is 70\n",
            "Order: tea\n",
            "How many? 5\n",
            "tea costs 5; you ordered 5; new total is 95\n",
            "Order: \n",
            "Total is 95\n"
          ]
        }
      ]
    },
    {
      "cell_type": "markdown",
      "source": [
        "# Next up:\n",
        "\n",
        "*  Accumulating in dicts\n",
        "*  Accumulating the unknown\n",
        "\n",
        "# Dicts so far\n",
        "We've used paradigm #1, namely: We define a dict and use it in our program, never changing it. We just read it from it. This is pretty common:\n",
        "\n",
        "*  Dict keys are month names, and dict values are month numbers.\n",
        "*  Dict keys are month numbers, and dict values are month names.\n",
        "*  Dict keys are country names, and dict values are international dial prefixes.\n",
        "*  Dict keys are user IDs, and dict values are also dicts, with user names, e-mail addresses, and salary.\n",
        "\n",
        "Sometimes, we want to modify a dict!\n",
        "\n",
        "In paradigm #2, we define a dict at the start of the program with keys and empty values -- 0, empty list, etc. Over the course of the program, we don't add/remove keys, but we do update/modify the values.\n",
        "\n",
        "In this paradigm, we know what we want to count or keep track of, but we don't know in advance how many there will be."
      ],
      "metadata": {
        "id": "TaLT7tvxtrRp"
      }
    },
    {
      "cell_type": "code",
      "source": [
        "# odds and evens\n",
        "\n",
        "counts = {'odds':0, 'evens':0}\n",
        "\n",
        "# let's create a list of integers\n",
        "mylist = [10, 15, 20, 25, 30, 35]\n",
        "\n",
        "for one_number in mylist:\n",
        "    if one_number % 2 == 1:   # if the remainder after dividing by 2 is 1, we have an odd number!\n",
        "        counts['odds'] += 1   # add 1 to the score of odd numbers\n",
        "    else:\n",
        "        counts['evens'] += 1  # add 1 to the score of even numbers"
      ],
      "metadata": {
        "id": "ndb4m7Mp1qYL"
      },
      "execution_count": 2,
      "outputs": []
    },
    {
      "cell_type": "code",
      "source": [
        "counts"
      ],
      "metadata": {
        "colab": {
          "base_uri": "https://localhost:8080/"
        },
        "id": "x5_bzvDe1wS-",
        "outputId": "7d3eb638-c219-442c-e284-953bb16929f4"
      },
      "execution_count": 3,
      "outputs": [
        {
          "output_type": "execute_result",
          "data": {
            "text/plain": [
              "{'odds': 3, 'evens': 3}"
            ]
          },
          "metadata": {},
          "execution_count": 3
        }
      ]
    },
    {
      "cell_type": "markdown",
      "source": [
        "# Exercise: Digits, vowels, and others (dict edition)\n",
        "1. Create a dict called counts in which you have three keys: vowels, digits, and others. The values should all be set to 0.\n",
        "2. Ask the user to enter a string.\n",
        "3. Go through the string, one character at a time:\n",
        "  *  If the character is a digit, add 1 to digits\n",
        "  *  If the character is a vowel, add 1 to vowels\n",
        "  *  In other cases, add 1 to others\n",
        "4. Print the dict with the counts.\n",
        "\n",
        "Example:\n",
        "\n",
        "Enter a string: hello! 123\n",
        "{'digits':3, 'vowels':2, 'others':5}"
      ],
      "metadata": {
        "id": "8o_3i2Hq11DJ"
      }
    },
    {
      "cell_type": "code",
      "source": [
        "counts = {'digits' : 0, 'vowels' : 0, 'others' : 0 }\n",
        "\n",
        "s = input('Enter a string: ').strip()\n",
        "\n",
        "for one_character in s:\n",
        "  if one_character.isdigit():\n",
        "    counts['digits'] += 1              # counts['digits'] = counts['digits'] + 1\n",
        "  elif one_character in 'aeiou':\n",
        "    counts['vowels'] += 1\n",
        "  else:\n",
        "        counts['others'] += 1\n",
        "\n",
        "print(counts)"
      ],
      "metadata": {
        "colab": {
          "base_uri": "https://localhost:8080/"
        },
        "id": "TnFRxRFa2Yfp",
        "outputId": "a2248cdc-024d-4ead-f68e-109a2fbeec7e"
      },
      "execution_count": null,
      "outputs": [
        {
          "output_type": "stream",
          "name": "stdout",
          "text": [
            "Enter a string: hello! 123\n",
            "{'digits': 3, 'vowels': 2, 'others': 5}\n"
          ]
        }
      ]
    },
    {
      "cell_type": "code",
      "source": [
        "# how do I check odd vs. even?\n",
        "\n",
        "10 % 3     # this means: what's the remainder after dividing 10 / 3 ?   it'll be 3, remainder 1"
      ],
      "metadata": {
        "colab": {
          "base_uri": "https://localhost:8080/"
        },
        "id": "mx_vjnqB3keG",
        "outputId": "4a47c462-65ba-466f-e9be-48e0533e0e1f"
      },
      "execution_count": null,
      "outputs": [
        {
          "output_type": "execute_result",
          "data": {
            "text/plain": [
              "1"
            ]
          },
          "metadata": {},
          "execution_count": 6
        }
      ]
    },
    {
      "cell_type": "code",
      "source": [
        "# if I divide a number by 2 and get its remainder:\n",
        "# - if the remainder is 0, the number is even\n",
        "# - if the remainder is 1, the number is odd\n",
        "\n",
        "10 % 2    # remainder is 0, 10 is even"
      ],
      "metadata": {
        "colab": {
          "base_uri": "https://localhost:8080/"
        },
        "id": "UZBPBT1O3nfP",
        "outputId": "16e1e2f3-7a65-4342-9279-504eadccfeca"
      },
      "execution_count": null,
      "outputs": [
        {
          "output_type": "execute_result",
          "data": {
            "text/plain": [
              "0"
            ]
          },
          "metadata": {},
          "execution_count": 7
        }
      ]
    },
    {
      "cell_type": "code",
      "source": [
        "13 % 2    # remainder is 1, 13 is odd"
      ],
      "metadata": {
        "colab": {
          "base_uri": "https://localhost:8080/"
        },
        "id": "Dw4F7ga-3p32",
        "outputId": "4f9402cb-09a4-418d-ef88-0e2bde633e70"
      },
      "execution_count": null,
      "outputs": [
        {
          "output_type": "execute_result",
          "data": {
            "text/plain": [
              "1"
            ]
          },
          "metadata": {},
          "execution_count": 8
        }
      ]
    },
    {
      "cell_type": "code",
      "source": [
        "# AK extension -- also check for non-vowel letters\n",
        "\n",
        "# we can use the \"string\" module in Python's standard library\n",
        "# which provides pre-defined variables with all sorts of useful stuff\n",
        "\n",
        "import string\n",
        "\n",
        "counts = {'digits':0,\n",
        "          'vowels':0,\n",
        "          'consonants':0,\n",
        "          'others':0}\n",
        "s = input('Enter a string: ').strip()\n",
        "\n",
        "for one_character in s:\n",
        "    if one_character.isdigit():\n",
        "        counts['digits'] += 1    # counts['digits'] = counts['digits'] + 1\n",
        "    elif one_character in 'aeiou':\n",
        "        counts['vowels'] += 1\n",
        "    # elif one_character in 'bcdfghjklmnpqrstvwxyz':\n",
        "\n",
        "    # the string module contains many predefined variables with different characters\n",
        "    # ascii_lowercase means: lowercase letters in the Latin/English alphabet\n",
        "    # ASCII is an old standard for computers to turn numbers into letters (and vice versa)\n",
        "    elif one_character in string.ascii_lowercase:\n",
        "        counts['consonants'] += 1\n",
        "    else:\n",
        "        counts['others'] += 1\n",
        "\n",
        "print(counts)"
      ],
      "metadata": {
        "colab": {
          "base_uri": "https://localhost:8080/"
        },
        "id": "T482JYqL4Esm",
        "outputId": "31941017-65ec-457a-f7e3-e6da09eafa9b"
      },
      "execution_count": null,
      "outputs": [
        {
          "output_type": "stream",
          "name": "stdout",
          "text": [
            "Enter a string: hello! 123\n",
            "{'digits': 3, 'vowels': 2, 'consonants': 3, 'others': 2}\n"
          ]
        }
      ]
    },
    {
      "cell_type": "markdown",
      "source": [
        "#When .isdigit doesn't work\n",
        "I've often seen two mistakes/problems with isdigit:\n",
        "\n",
        "1. Remember that isdigit is a string method. It only works on strings. So don't try to convert something to an integer, and then run isdigit on the integer. You'll get an error saying that integers don't have any attribute named isdigit"
      ],
      "metadata": {
        "id": "z6HfXBzt5Zby"
      }
    },
    {
      "cell_type": "code",
      "source": [
        "x = 5\n",
        "if x.isdigit():    # isdigit is a string method, not an int method\n",
        "    print('yes, it is numeric!')   # this code will fail"
      ],
      "metadata": {
        "colab": {
          "base_uri": "https://localhost:8080/",
          "height": 210
        },
        "id": "oDX90XP85hVd",
        "outputId": "ab13348d-2184-4eba-c376-67d0d75122f1"
      },
      "execution_count": null,
      "outputs": [
        {
          "output_type": "error",
          "ename": "AttributeError",
          "evalue": "ignored",
          "traceback": [
            "\u001b[0;31m---------------------------------------------------------------------------\u001b[0m",
            "\u001b[0;31mAttributeError\u001b[0m                            Traceback (most recent call last)",
            "\u001b[0;32m<ipython-input-10-6d71870f0206>\u001b[0m in \u001b[0;36m<cell line: 2>\u001b[0;34m()\u001b[0m\n\u001b[1;32m      1\u001b[0m \u001b[0mx\u001b[0m \u001b[0;34m=\u001b[0m \u001b[0;36m5\u001b[0m\u001b[0;34m\u001b[0m\u001b[0;34m\u001b[0m\u001b[0m\n\u001b[0;32m----> 2\u001b[0;31m \u001b[0;32mif\u001b[0m \u001b[0mx\u001b[0m\u001b[0;34m.\u001b[0m\u001b[0misdigit\u001b[0m\u001b[0;34m(\u001b[0m\u001b[0;34m)\u001b[0m\u001b[0;34m:\u001b[0m    \u001b[0;31m# isdigit is a string method, not an int method\u001b[0m\u001b[0;34m\u001b[0m\u001b[0;34m\u001b[0m\u001b[0m\n\u001b[0m\u001b[1;32m      3\u001b[0m     \u001b[0mprint\u001b[0m\u001b[0;34m(\u001b[0m\u001b[0;34m'yes, it is numeric!'\u001b[0m\u001b[0;34m)\u001b[0m   \u001b[0;31m# this code will fail\u001b[0m\u001b[0;34m\u001b[0m\u001b[0;34m\u001b[0m\u001b[0m\n",
            "\u001b[0;31mAttributeError\u001b[0m: 'int' object has no attribute 'isdigit'"
          ]
        }
      ]
    },
    {
      "cell_type": "markdown",
      "source": [
        "2. A second mistake is that they forget that you need to call a method with () after its name. If you don't do that, then you're asking if isdigit exists, and the answer is always \"yes\" to that. Which means you'll get errors, because you'll get a True result, regardless of whether it's an integer."
      ],
      "metadata": {
        "id": "lQYCz1r3501n"
      }
    },
    {
      "cell_type": "code",
      "source": [
        "x = '5'\n",
        "\n",
        "if x.isdigit:   # notice: no (), which is A BIG BUG!\n",
        "    print(f'Yes, {x} contains digits!')"
      ],
      "metadata": {
        "colab": {
          "base_uri": "https://localhost:8080/"
        },
        "id": "MfOp_-cs52dY",
        "outputId": "ca961f23-3162-4177-a098-3ef6cb5d2462"
      },
      "execution_count": null,
      "outputs": [
        {
          "output_type": "stream",
          "name": "stdout",
          "text": [
            "Yes, 5 contains digits!\n"
          ]
        }
      ]
    },
    {
      "cell_type": "code",
      "source": [
        "x = '!'\n",
        "\n",
        "if x.isdigit:   # notice: no (), which is A BIG BUG!\n",
        "    print(f'Yes, {x} contains digits!')"
      ],
      "metadata": {
        "colab": {
          "base_uri": "https://localhost:8080/"
        },
        "id": "cwzLGtIV5-ov",
        "outputId": "93370765-02dc-476b-eba2-9e8c73504fec"
      },
      "execution_count": null,
      "outputs": [
        {
          "output_type": "stream",
          "name": "stdout",
          "text": [
            "Yes, ! contains digits!\n"
          ]
        }
      ]
    },
    {
      "cell_type": "markdown",
      "source": [
        "#Paradigm 3: Start with an empty dict, build it over time\n",
        "In this third paradigm, we don't know what keys we'll get, and we don't know what values we'll get. But we know what we want to do with them over time.\n",
        "\n",
        "As we get new keys, we add them to the dict. As we get values, we add them (as before) to the existing count."
      ],
      "metadata": {
        "id": "UkDT6cqk6CZm"
      }
    },
    {
      "cell_type": "code",
      "source": [
        "# Example: How many times does each character appear in a user's input?\n",
        "\n",
        "counts = {}   # empty dict!\n",
        "\n",
        "s = input('Enter a string: ').strip()\n",
        "\n",
        "for one_character in s:\n",
        "    counts[one_character] += 1   # my ideal -- this will not work!\n",
        "\n",
        "print(counts)"
      ],
      "metadata": {
        "colab": {
          "base_uri": "https://localhost:8080/",
          "height": 262
        },
        "id": "TDjmq7r_6G1O",
        "outputId": "06b9ebe3-5ad1-4816-acca-4b5cf752a679"
      },
      "execution_count": null,
      "outputs": [
        {
          "name": "stdout",
          "output_type": "stream",
          "text": [
            "Enter a string: hellow123!\n"
          ]
        },
        {
          "output_type": "error",
          "ename": "KeyError",
          "evalue": "ignored",
          "traceback": [
            "\u001b[0;31m---------------------------------------------------------------------------\u001b[0m",
            "\u001b[0;31mKeyError\u001b[0m                                  Traceback (most recent call last)",
            "\u001b[0;32m<ipython-input-13-b2d2eab4ad70>\u001b[0m in \u001b[0;36m<cell line: 7>\u001b[0;34m()\u001b[0m\n\u001b[1;32m      6\u001b[0m \u001b[0;34m\u001b[0m\u001b[0m\n\u001b[1;32m      7\u001b[0m \u001b[0;32mfor\u001b[0m \u001b[0mone_character\u001b[0m \u001b[0;32min\u001b[0m \u001b[0ms\u001b[0m\u001b[0;34m:\u001b[0m\u001b[0;34m\u001b[0m\u001b[0;34m\u001b[0m\u001b[0m\n\u001b[0;32m----> 8\u001b[0;31m     \u001b[0mcounts\u001b[0m\u001b[0;34m[\u001b[0m\u001b[0mone_character\u001b[0m\u001b[0;34m]\u001b[0m \u001b[0;34m+=\u001b[0m \u001b[0;36m1\u001b[0m   \u001b[0;31m# my ideal -- this will not work!\u001b[0m\u001b[0;34m\u001b[0m\u001b[0;34m\u001b[0m\u001b[0m\n\u001b[0m\u001b[1;32m      9\u001b[0m \u001b[0;34m\u001b[0m\u001b[0m\n\u001b[1;32m     10\u001b[0m \u001b[0mprint\u001b[0m\u001b[0;34m(\u001b[0m\u001b[0mcounts\u001b[0m\u001b[0;34m)\u001b[0m\u001b[0;34m\u001b[0m\u001b[0;34m\u001b[0m\u001b[0m\n",
            "\u001b[0;31mKeyError\u001b[0m: 'h'"
          ]
        }
      ]
    },
    {
      "cell_type": "code",
      "source": [
        "# Example: How many times does each character appear in a user's input?\n",
        "# now, let's do it the working way, making sure that a key is there before we add to / retrieve it\n",
        "\n",
        "counts = {}   # empty dict!\n",
        "\n",
        "s = input('Enter a string: ').strip()\n",
        "\n",
        "for one_character in s:\n",
        "    if one_character in counts:      # if we've seen this letter before,\n",
        "        counts[one_character] += 1   #    add 1 to its count\n",
        "    else:                            # if we have NOT seen this letter before,\n",
        "        counts[one_character] = 1    #    set the new key-value pair with a value of 1\n",
        "\n",
        "print(counts)"
      ],
      "metadata": {
        "colab": {
          "base_uri": "https://localhost:8080/"
        },
        "id": "wNXDAXwK6URM",
        "outputId": "1adc28c4-1c6e-440e-d417-05558a832f32"
      },
      "execution_count": null,
      "outputs": [
        {
          "output_type": "stream",
          "name": "stdout",
          "text": [
            "Enter a string: hello123!\n",
            "{'h': 1, 'e': 1, 'l': 2, 'o': 1, '1': 1, '2': 1, '3': 1, '!': 1}\n"
          ]
        }
      ]
    }
  ]
}